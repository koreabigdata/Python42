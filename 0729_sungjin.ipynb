{
 "cells": [
  {
   "cell_type": "markdown",
   "metadata": {},
   "source": [
    "# NLP  day 1\n",
    "Process : preprocessing, lexical analysis,syntactic analysis,semantic analysis,\n",
    "discourse analysis, pragmatic analysis\n",
    "\n",
    "preprocessing -> stopword, stemming ,lemmatizing\n",
    "\n",
    "GENsim -> radimrehurek.com/gensim\n",
    "\n",
    "topic modeling, corpus 및 word embedding model을 지원\n",
    "\n",
    "어떤 단어가 어떤 단어에 매핑이 잘되는지, 이런걸 활용한다."
   ]
  },
  {
   "cell_type": "code",
   "execution_count": 1,
   "metadata": {},
   "outputs": [
    {
     "name": "stdout",
     "output_type": "stream",
     "text": [
      "Requirement already satisfied: nltk in c:\\program files (x86)\\microsoft visual studio\\shared\\anaconda3_64\\lib\\site-packages (3.3)\n",
      "Requirement already satisfied: six in c:\\program files (x86)\\microsoft visual studio\\shared\\anaconda3_64\\lib\\site-packages (from nltk) (1.11.0)\n"
     ]
    },
    {
     "name": "stderr",
     "output_type": "stream",
     "text": [
      "WARNING: You are using pip version 19.1.1, however version 19.2.1 is available.\n",
      "You should consider upgrading via the 'python -m pip install --upgrade pip' command.\n"
     ]
    }
   ],
   "source": [
    "!pip install nltk --user"
   ]
  },
  {
   "cell_type": "code",
   "execution_count": 6,
   "metadata": {},
   "outputs": [
    {
     "name": "stdout",
     "output_type": "stream",
     "text": [
      "Collecting pip\n",
      "  Using cached https://files.pythonhosted.org/packages/62/ca/94d32a6516ed197a491d17d46595ce58a83cbb2fca280414e57cd86b84dc/pip-19.2.1-py2.py3-none-any.whl\n",
      "Installing collected packages: pip\n",
      "Successfully installed pip-19.2.1\n"
     ]
    }
   ],
   "source": [
    "!python -m pip install --upgrade pip --user"
   ]
  },
  {
   "cell_type": "code",
   "execution_count": 2,
   "metadata": {},
   "outputs": [],
   "source": [
    "import nltk"
   ]
  },
  {
   "cell_type": "code",
   "execution_count": 3,
   "metadata": {},
   "outputs": [
    {
     "name": "stdout",
     "output_type": "stream",
     "text": [
      "showing info https://raw.githubusercontent.com/nltk/nltk_data/gh-pages/index.xml\n"
     ]
    },
    {
     "data": {
      "text/plain": [
       "True"
      ]
     },
     "execution_count": 3,
     "metadata": {},
     "output_type": "execute_result"
    }
   ],
   "source": [
    "nltk.download()"
   ]
  },
  {
   "cell_type": "code",
   "execution_count": 4,
   "metadata": {},
   "outputs": [
    {
     "name": "stdout",
     "output_type": "stream",
     "text": [
      "*** Introductory Examples for the NLTK Book ***\n",
      "Loading text1, ..., text9 and sent1, ..., sent9\n",
      "Type the name of the text or sentence to view it.\n",
      "Type: 'texts()' or 'sents()' to list the materials.\n",
      "text1: Moby Dick by Herman Melville 1851\n",
      "text2: Sense and Sensibility by Jane Austen 1811\n",
      "text3: The Book of Genesis\n",
      "text4: Inaugural Address Corpus\n",
      "text5: Chat Corpus\n",
      "text6: Monty Python and the Holy Grail\n",
      "text7: Wall Street Journal\n",
      "text8: Personals Corpus\n",
      "text9: The Man Who Was Thursday by G . K . Chesterton 1908\n"
     ]
    }
   ],
   "source": [
    "from nltk.book import *"
   ]
  },
  {
   "cell_type": "code",
   "execution_count": 7,
   "metadata": {},
   "outputs": [],
   "source": [
    "import nltk"
   ]
  },
  {
   "cell_type": "code",
   "execution_count": 8,
   "metadata": {},
   "outputs": [],
   "source": [
    "from nltk.tokenize import sent_tokenize"
   ]
  },
  {
   "cell_type": "code",
   "execution_count": 9,
   "metadata": {},
   "outputs": [],
   "source": [
    "text_sent = \"hello world you mothfxxxxx. It's good day to die. Order sir! Proceeding\""
   ]
  },
  {
   "cell_type": "code",
   "execution_count": 10,
   "metadata": {},
   "outputs": [
    {
     "name": "stdout",
     "output_type": "stream",
     "text": [
      "['hello world you mothfxxxxx.', \"It's good day to die.\", 'Order sir!', 'Proceeding']\n"
     ]
    }
   ],
   "source": [
    "print(sent_tokenize(text_sent))"
   ]
  },
  {
   "cell_type": "code",
   "execution_count": 11,
   "metadata": {},
   "outputs": [],
   "source": [
    "# 문장 단위로 처리되는 것을 확인할 수 있다.\n",
    "#\n"
   ]
  },
  {
   "cell_type": "code",
   "execution_count": 14,
   "metadata": {},
   "outputs": [],
   "source": [
    "text1 = \"IP is 12.123.345.456.567. Since I 'm actually looking for Ph.D Students lol\""
   ]
  },
  {
   "cell_type": "code",
   "execution_count": 15,
   "metadata": {},
   "outputs": [
    {
     "name": "stdout",
     "output_type": "stream",
     "text": [
      "['IP is 12.123.345.456.567.', \"Since I 'm actually looking for Ph.D Students lol\"]\n"
     ]
    }
   ],
   "source": [
    "print(sent_tokenize(text1))"
   ]
  },
  {
   "cell_type": "code",
   "execution_count": 16,
   "metadata": {},
   "outputs": [],
   "source": [
    "# 요론 애들을 예외처리해주기 때문에 훌륭쓰"
   ]
  },
  {
   "cell_type": "code",
   "execution_count": 17,
   "metadata": {},
   "outputs": [],
   "source": [
    "text3 = \"https://www.alphabet.org is the url of .... \""
   ]
  },
  {
   "cell_type": "code",
   "execution_count": 21,
   "metadata": {},
   "outputs": [
    {
     "name": "stdout",
     "output_type": "stream",
     "text": [
      "['https://www.alphabet.org is the url of ....']\n"
     ]
    }
   ],
   "source": [
    "print(sent_tokenize(text3))"
   ]
  },
  {
   "cell_type": "code",
   "execution_count": 19,
   "metadata": {},
   "outputs": [],
   "source": [
    "from nltk.tokenize import word_tokenize"
   ]
  },
  {
   "cell_type": "code",
   "execution_count": 22,
   "metadata": {},
   "outputs": [
    {
     "name": "stdout",
     "output_type": "stream",
     "text": [
      "['hello', 'world', 'you', 'mothfxxxxx', '.', 'It', \"'s\", 'good', 'day', 'to', 'die', '.', 'Order', 'sir', '!', 'Proceeding']\n",
      "['IP', 'is', '12.123.345.456.567', '.', 'Since', 'I', \"'m\", 'actually', 'looking', 'for', 'Ph.D', 'Students', 'lol']\n",
      "['https', ':', '//www.alphabet.org', 'is', 'the', 'url', 'of', '...', '.']\n"
     ]
    }
   ],
   "source": [
    "print(word_tokenize(text_sent))\n",
    "print(word_tokenize(text1))\n",
    "#print(word_tokenize(text2))\n",
    "print(word_tokenize(text3))"
   ]
  },
  {
   "cell_type": "code",
   "execution_count": 23,
   "metadata": {},
   "outputs": [
    {
     "name": "stdout",
     "output_type": "stream",
     "text": [
      "['i', 'ca', \"n't\"]\n"
     ]
    }
   ],
   "source": [
    "textword = \"i can't\"\n",
    "print(word_tokenize(textword))"
   ]
  },
  {
   "cell_type": "code",
   "execution_count": 24,
   "metadata": {},
   "outputs": [],
   "source": [
    "from nltk.tokenize import WordPunctTokenizer"
   ]
  },
  {
   "cell_type": "code",
   "execution_count": 25,
   "metadata": {},
   "outputs": [],
   "source": [
    "tokenizer = WordPunctTokenizer()"
   ]
  },
  {
   "cell_type": "code",
   "execution_count": 28,
   "metadata": {},
   "outputs": [],
   "source": [
    "text_punt = \"Hellow motherFuxx. it's good to see you. thanks for buying this shit. But I can't\""
   ]
  },
  {
   "cell_type": "code",
   "execution_count": 29,
   "metadata": {},
   "outputs": [
    {
     "name": "stdout",
     "output_type": "stream",
     "text": [
      "['Hellow', 'motherFuxx', '.', 'it', \"'\", 's', 'good', 'to', 'see', 'you', '.', 'thanks', 'for', 'buying', 'this', 'shit', '.', 'But', 'I', 'can', \"'\", 't']\n"
     ]
    }
   ],
   "source": [
    "print(tokenizer.tokenize(text_punt))"
   ]
  },
  {
   "cell_type": "code",
   "execution_count": 30,
   "metadata": {},
   "outputs": [],
   "source": [
    "# 이는 사용자 상황에 맞게 사용하시면 됩니다."
   ]
  },
  {
   "cell_type": "code",
   "execution_count": null,
   "metadata": {},
   "outputs": [],
   "source": [
    "# Normalization(정규화)\n",
    "# 규칙기반을 통해 단어들을 통합시켜서 같은 단어로 만듦, HTML 문서로부터 가져온 corpus\n",
    "#라면 문서 내에 있는 HTML 태그 제거, 뉴스 기사의 경우 시간 제거, 기자 이름 제거.\n",
    "# "
   ]
  },
  {
   "cell_type": "code",
   "execution_count": 31,
   "metadata": {},
   "outputs": [],
   "source": [
    "# Cleaning(정제)\n",
    "# 갖고 있는 corpus로부터 nosie를 제거\n",
    "# 대 소문자 통합... 등등\n",
    "# 사람 이름 회사 이름 등등 앞글자가 대문자... \n",
    "# 등장 빈도 적은 단어, 예를 들면 기자 이름 같은걸 제거하는 방식 도 존재\n",
    "# tfidf이런 애들이 알아서 제거해 주죠?\n",
    "# 프로세스... 성능이 조금 더올라가는?\n",
    "# 길이가 짧은 단어를 제거. School Dragon name.... 우린 학교, 용, 이름...\n",
    "# 최소 작은 단위를 3이라고 한다.\n",
    "# 영어에서는 3문자 이하는 의미가 없다고 평가하고 한국어의 경우\n",
    "# 의미 있는 단어 2~3이긴 한데...."
   ]
  },
  {
   "cell_type": "code",
   "execution_count": null,
   "metadata": {},
   "outputs": [],
   "source": [
    "# lemmatization, stemming -> library들이 다 제공되어 있다.\n",
    "# 눈으로 봤을 때에는 서로 다른 단어들이지만 , ㅏㅎ나의 단어로 일반화 시켜 문서 \n",
    "# 내의 단어 수를 줄임\n"
   ]
  },
  {
   "cell_type": "markdown",
   "metadata": {},
   "source": [
    "# Lemmatization"
   ]
  },
  {
   "cell_type": "code",
   "execution_count": 32,
   "metadata": {},
   "outputs": [],
   "source": [
    "import nltk\n",
    "from nltk.stem import WordNetLemmatizer"
   ]
  },
  {
   "cell_type": "code",
   "execution_count": 33,
   "metadata": {},
   "outputs": [],
   "source": [
    "lemma = WordNetLemmatizer()"
   ]
  },
  {
   "cell_type": "code",
   "execution_count": 38,
   "metadata": {},
   "outputs": [],
   "source": [
    "word = ['doing','policy','have','going','nice','dies','watched']"
   ]
  },
  {
   "cell_type": "code",
   "execution_count": 39,
   "metadata": {},
   "outputs": [
    {
     "name": "stdout",
     "output_type": "stream",
     "text": [
      "doing\n",
      "policy\n",
      "have\n",
      "going\n",
      "nice\n",
      "dy\n",
      "watched\n"
     ]
    }
   ],
   "source": [
    "for i in word:\n",
    "    print(lemma.lemmatize(i))"
   ]
  },
  {
   "cell_type": "code",
   "execution_count": null,
   "metadata": {},
   "outputs": [],
   "source": [
    "# lemmatize는 품사 정보를 포함하고 있는데 이때문에 watched 같은게 그냥ㄴ 튀어 나옴\n",
    "# lemma.lema"
   ]
  },
  {
   "cell_type": "code",
   "execution_count": 40,
   "metadata": {},
   "outputs": [
    {
     "data": {
      "text/plain": [
       "'have'"
      ]
     },
     "execution_count": 40,
     "metadata": {},
     "output_type": "execute_result"
    }
   ],
   "source": [
    "lemma.lemmatize('has','v')"
   ]
  },
  {
   "cell_type": "code",
   "execution_count": null,
   "metadata": {},
   "outputs": [],
   "source": [
    "# v -> verb , "
   ]
  },
  {
   "cell_type": "code",
   "execution_count": 41,
   "metadata": {},
   "outputs": [
    {
     "data": {
      "text/plain": [
       "'watch'"
      ]
     },
     "execution_count": 41,
     "metadata": {},
     "output_type": "execute_result"
    }
   ],
   "source": [
    "lemma.lemmatize('watched','v')"
   ]
  },
  {
   "cell_type": "code",
   "execution_count": null,
   "metadata": {},
   "outputs": [],
   "source": [
    "# 설정을 통해 "
   ]
  },
  {
   "cell_type": "code",
   "execution_count": 42,
   "metadata": {},
   "outputs": [
    {
     "data": {
      "text/plain": [
       "'be'"
      ]
     },
     "execution_count": 42,
     "metadata": {},
     "output_type": "execute_result"
    }
   ],
   "source": [
    "lemma.lemmatize('is','v')"
   ]
  },
  {
   "cell_type": "code",
   "execution_count": null,
   "metadata": {},
   "outputs": [],
   "source": [
    "# normalization(정규화)\n",
    "# 규칙기반을 통해 단어들을 통합시켜서 같은 단어로 만듦\n",
    "# html 문서로부터 가져온 코퍼스라면 문서 내에 있는 html 태그 제거\n",
    "# 뉴스....."
   ]
  },
  {
   "cell_type": "code",
   "execution_count": 43,
   "metadata": {},
   "outputs": [
    {
     "name": "stdout",
     "output_type": "stream",
     "text": [
      "Collecting konlpy\n",
      "  Using cached https://files.pythonhosted.org/packages/e5/3d/4e983cd98d87b50b2ab0387d73fa946f745aa8164e8888a714d5129f9765/konlpy-0.5.1-py2.py3-none-any.whl\n",
      "Collecting JPype1>=0.5.7 (from konlpy)\n",
      "  Downloading https://files.pythonhosted.org/packages/9e/3c/4e6d550d4837b2bd8df5112e7e3ca2f16b7c8e9c7edf8207dbc663d54772/JPype1-0.7.0-cp36-cp36m-win_amd64.whl (1.3MB)\n",
      "Installing collected packages: JPype1, konlpy\n",
      "Successfully installed JPype1-0.7.0 konlpy-0.5.1\n"
     ]
    }
   ],
   "source": [
    "!pip install konlpy --user"
   ]
  },
  {
   "cell_type": "markdown",
   "metadata": {},
   "source": [
    "# normalization \n",
    "\n"
   ]
  },
  {
   "cell_type": "code",
   "execution_count": 46,
   "metadata": {},
   "outputs": [],
   "source": [
    "text0 = \"hello world. it's a good day to die. Thank you for this shit\""
   ]
  },
  {
   "cell_type": "code",
   "execution_count": 47,
   "metadata": {},
   "outputs": [
    {
     "name": "stdout",
     "output_type": "stream",
     "text": [
      "hello world. it's a good day to die. thank you for this shit\n"
     ]
    }
   ],
   "source": [
    "print(text0.lower())"
   ]
  },
  {
   "cell_type": "code",
   "execution_count": 48,
   "metadata": {},
   "outputs": [
    {
     "name": "stdout",
     "output_type": "stream",
     "text": [
      "HELLO WORLD. IT'S A GOOD DAY TO DIE. THANK YOU FOR THIS SHIT\n"
     ]
    }
   ],
   "source": [
    "print(text0.upper())"
   ]
  },
  {
   "cell_type": "code",
   "execution_count": null,
   "metadata": {},
   "outputs": [],
   "source": [
    "# http://www.nextree.co.kr/p4327/\n",
    "# 정규식 연습...!!\n"
   ]
  },
  {
   "cell_type": "code",
   "execution_count": 49,
   "metadata": {},
   "outputs": [],
   "source": [
    "import re"
   ]
  },
  {
   "cell_type": "code",
   "execution_count": 50,
   "metadata": {},
   "outputs": [],
   "source": [
    "r = re.compile('a.c')"
   ]
  },
  {
   "cell_type": "code",
   "execution_count": 51,
   "metadata": {},
   "outputs": [
    {
     "data": {
      "text/plain": [
       "re.compile(r'a.c', re.UNICODE)"
      ]
     },
     "execution_count": 51,
     "metadata": {},
     "output_type": "execute_result"
    }
   ],
   "source": [
    "r"
   ]
  },
  {
   "cell_type": "code",
   "execution_count": 52,
   "metadata": {},
   "outputs": [
    {
     "data": {
      "text/plain": [
       "<_sre.SRE_Match object; span=(0, 3), match='aac'>"
      ]
     },
     "execution_count": 52,
     "metadata": {},
     "output_type": "execute_result"
    }
   ],
   "source": [
    "r.search('aac')"
   ]
  },
  {
   "cell_type": "code",
   "execution_count": 53,
   "metadata": {},
   "outputs": [],
   "source": [
    "r.search('ac')"
   ]
  },
  {
   "cell_type": "code",
   "execution_count": 54,
   "metadata": {},
   "outputs": [],
   "source": [
    "r = re.compile('a?c')"
   ]
  },
  {
   "cell_type": "code",
   "execution_count": 55,
   "metadata": {},
   "outputs": [
    {
     "data": {
      "text/plain": [
       "<_sre.SRE_Match object; span=(0, 2), match='ac'>"
      ]
     },
     "execution_count": 55,
     "metadata": {},
     "output_type": "execute_result"
    }
   ],
   "source": [
    "r.search('ac')"
   ]
  },
  {
   "cell_type": "code",
   "execution_count": 56,
   "metadata": {},
   "outputs": [
    {
     "data": {
      "text/plain": [
       "<_sre.SRE_Match object; span=(2, 3), match='c'>"
      ]
     },
     "execution_count": 56,
     "metadata": {},
     "output_type": "execute_result"
    }
   ],
   "source": [
    "r.search('abc')"
   ]
  },
  {
   "cell_type": "code",
   "execution_count": null,
   "metadata": {},
   "outputs": [],
   "source": [
    "r.search('ac')"
   ]
  },
  {
   "cell_type": "code",
   "execution_count": 60,
   "metadata": {},
   "outputs": [],
   "source": [
    "r = re.compile('ab{2,7}c')"
   ]
  },
  {
   "cell_type": "code",
   "execution_count": 61,
   "metadata": {},
   "outputs": [
    {
     "data": {
      "text/plain": [
       "<_sre.SRE_Match object; span=(0, 7), match='abbbbbc'>"
      ]
     },
     "execution_count": 61,
     "metadata": {},
     "output_type": "execute_result"
    }
   ],
   "source": [
    "r.search('abbbbbc')"
   ]
  },
  {
   "cell_type": "code",
   "execution_count": 62,
   "metadata": {},
   "outputs": [],
   "source": [
    "r = re.compile('ab.')"
   ]
  },
  {
   "cell_type": "code",
   "execution_count": 63,
   "metadata": {},
   "outputs": [],
   "source": [
    "r.match('sssssabc')"
   ]
  },
  {
   "cell_type": "code",
   "execution_count": 64,
   "metadata": {},
   "outputs": [
    {
     "data": {
      "text/plain": [
       "<_sre.SRE_Match object; span=(0, 3), match='abc'>"
      ]
     },
     "execution_count": 64,
     "metadata": {},
     "output_type": "execute_result"
    }
   ],
   "source": [
    "# match는 무조건 앞에서부터 맞는지 확인한다\n",
    "r.match('abcㄴㄴㄴㄴㄴㄴ')"
   ]
  },
  {
   "cell_type": "code",
   "execution_count": 66,
   "metadata": {},
   "outputs": [
    {
     "data": {
      "text/plain": [
       "['hello',\n",
       " 'world.',\n",
       " \"it's\",\n",
       " 'a',\n",
       " 'good',\n",
       " 'day',\n",
       " 'to',\n",
       " 'die.',\n",
       " 'Thank',\n",
       " 'you',\n",
       " 'for',\n",
       " 'this',\n",
       " 'shit']"
      ]
     },
     "execution_count": 66,
     "metadata": {},
     "output_type": "execute_result"
    }
   ],
   "source": [
    "re.split(' ',text0)"
   ]
  },
  {
   "cell_type": "code",
   "execution_count": 69,
   "metadata": {},
   "outputs": [],
   "source": [
    "import re\n",
    "text = '''\n",
    "이름: 홍길동\n",
    "전공: 공대\n",
    "전화번호: 010-1234-5678\n",
    "나이:700\n",
    "성별: 남자\n",
    "'''"
   ]
  },
  {
   "cell_type": "code",
   "execution_count": 70,
   "metadata": {},
   "outputs": [
    {
     "data": {
      "text/plain": [
       "['010', '1234', '5678', '700']"
      ]
     },
     "execution_count": 70,
     "metadata": {},
     "output_type": "execute_result"
    }
   ],
   "source": [
    "re.findall(\"\\d+\", text)"
   ]
  },
  {
   "cell_type": "code",
   "execution_count": 72,
   "metadata": {},
   "outputs": [
    {
     "data": {
      "text/plain": [
       "['010', '1234', '5678', '700']"
      ]
     },
     "execution_count": 72,
     "metadata": {},
     "output_type": "execute_result"
    }
   ],
   "source": [
    "re.findall(\"[ㄱ-ㅎ]*\\d+\", text)"
   ]
  },
  {
   "cell_type": "code",
   "execution_count": 79,
   "metadata": {},
   "outputs": [
    {
     "data": {
      "text/plain": [
       "'Something wrong there   a regular or regexp   '"
      ]
     },
     "execution_count": 79,
     "metadata": {},
     "output_type": "execute_result"
    }
   ],
   "source": [
    "text =  \"Something wrong there : a regular or regexp[1]\" \n",
    "re.sub(\"[^a-zA-Z]\",\" \", text)"
   ]
  },
  {
   "cell_type": "code",
   "execution_count": 82,
   "metadata": {},
   "outputs": [
    {
     "data": {
      "text/plain": [
       "'    Jobn PROF     James STUD     Mac STUD'"
      ]
     },
     "execution_count": 82,
     "metadata": {},
     "output_type": "execute_result"
    }
   ],
   "source": [
    "text =  \"100 Jobn PROF 101 James STUD 102 Mac STUD\" \n",
    "re.sub(\"[^a-zA-Z]\",\" \", text)"
   ]
  },
  {
   "cell_type": "code",
   "execution_count": 89,
   "metadata": {},
   "outputs": [
    {
     "data": {
      "text/plain": [
       "['Jobn', 'James', 'Mac']"
      ]
     },
     "execution_count": 89,
     "metadata": {},
     "output_type": "execute_result"
    }
   ],
   "source": [
    "re.findall(\"[A-Z]{1}[a-z]+\", text)"
   ]
  },
  {
   "cell_type": "code",
   "execution_count": 90,
   "metadata": {},
   "outputs": [],
   "source": [
    "from nltk.tokenize import RegexpTokenizer"
   ]
  },
  {
   "cell_type": "code",
   "execution_count": 91,
   "metadata": {},
   "outputs": [],
   "source": [
    "tokenizer = RegexpTokenizer('[\\w]+')"
   ]
  },
  {
   "cell_type": "code",
   "execution_count": 92,
   "metadata": {},
   "outputs": [
    {
     "name": "stdout",
     "output_type": "stream",
     "text": [
      "['hello', 'world', 'it', 'is', 'a', 'good', 'day', 'to', 'die', 'Thanks', 'for', 'evverything']\n"
     ]
    }
   ],
   "source": [
    "print(tokenizer.tokenize(\"hello world. it is a good day to die. Thanks for evverything\"))"
   ]
  },
  {
   "cell_type": "code",
   "execution_count": 93,
   "metadata": {},
   "outputs": [],
   "source": [
    "tokenizer = RegexpTokenizer('[\\w]+', gaps = True)"
   ]
  },
  {
   "cell_type": "code",
   "execution_count": 94,
   "metadata": {},
   "outputs": [
    {
     "name": "stdout",
     "output_type": "stream",
     "text": [
      "[' ', '. ', ' ', ' ', ' ', ' ', ' ', ' ', '. ', ' ', ' ']\n"
     ]
    }
   ],
   "source": [
    "print(tokenizer.tokenize(\"hello world. it is a good day to die. Thanks for evverything\"))"
   ]
  },
  {
   "cell_type": "code",
   "execution_count": 96,
   "metadata": {},
   "outputs": [],
   "source": [
    "# porter algorithm 잘 찾아볼 것"
   ]
  },
  {
   "cell_type": "code",
   "execution_count": 97,
   "metadata": {},
   "outputs": [],
   "source": [
    "from nltk.stem import PorterStemmer"
   ]
  },
  {
   "cell_type": "code",
   "execution_count": 98,
   "metadata": {},
   "outputs": [],
   "source": [
    "stemming = PorterStemmer()"
   ]
  },
  {
   "cell_type": "code",
   "execution_count": 99,
   "metadata": {},
   "outputs": [],
   "source": [
    "word = ['formalize', \"allowance\", \"electrical\"]"
   ]
  },
  {
   "cell_type": "code",
   "execution_count": 100,
   "metadata": {},
   "outputs": [
    {
     "name": "stdout",
     "output_type": "stream",
     "text": [
      "formal\n",
      "allow\n",
      "electr\n"
     ]
    }
   ],
   "source": [
    "for i in word:\n",
    "    print(stemming.stem(i))"
   ]
  },
  {
   "cell_type": "code",
   "execution_count": 101,
   "metadata": {},
   "outputs": [],
   "source": [
    "from nltk.corpus import stopwords"
   ]
  },
  {
   "cell_type": "code",
   "execution_count": 102,
   "metadata": {},
   "outputs": [
    {
     "data": {
      "text/plain": [
       "['i', 'me', 'my', 'myself', 'we', 'our', 'ours', 'ourselves', 'you', \"you're\"]"
      ]
     },
     "execution_count": 102,
     "metadata": {},
     "output_type": "execute_result"
    }
   ],
   "source": [
    "stopwords.words(\"english\")[:10]"
   ]
  },
  {
   "cell_type": "code",
   "execution_count": 103,
   "metadata": {},
   "outputs": [],
   "source": [
    "example = \"family is not an important thing .it's everything\""
   ]
  },
  {
   "cell_type": "code",
   "execution_count": 105,
   "metadata": {},
   "outputs": [],
   "source": [
    "tokenizer = word_tokenize(example)"
   ]
  },
  {
   "cell_type": "code",
   "execution_count": 106,
   "metadata": {},
   "outputs": [
    {
     "data": {
      "text/plain": [
       "['family', 'is', 'not', 'an', 'important', 'thing', '.it', \"'s\", 'everything']"
      ]
     },
     "execution_count": 106,
     "metadata": {},
     "output_type": "execute_result"
    }
   ],
   "source": [
    "tokenizer"
   ]
  },
  {
   "cell_type": "code",
   "execution_count": null,
   "metadata": {},
   "outputs": [],
   "source": []
  },
  {
   "cell_type": "code",
   "execution_count": 111,
   "metadata": {},
   "outputs": [
    {
     "data": {
      "text/plain": [
       "{\"'s\", '.it', 'everything', 'family', 'important', 'thing'}"
      ]
     },
     "execution_count": 111,
     "metadata": {},
     "output_type": "execute_result"
    }
   ],
   "source": [
    "set(tokenizer) - set(tokenizer).intersection(stopwords.words(\"english\"))"
   ]
  },
  {
   "cell_type": "code",
   "execution_count": 115,
   "metadata": {},
   "outputs": [],
   "source": [
    "myans = set(tokenizer) - set(tokenizer).intersection(stopwords.words(\"english\"))"
   ]
  },
  {
   "cell_type": "code",
   "execution_count": 112,
   "metadata": {},
   "outputs": [],
   "source": [
    "###############3 given answer ######################"
   ]
  },
  {
   "cell_type": "code",
   "execution_count": 114,
   "metadata": {},
   "outputs": [
    {
     "name": "stdout",
     "output_type": "stream",
     "text": [
      "['family', 'important', 'thing', '.it', \"'s\", 'everything']\n"
     ]
    }
   ],
   "source": [
    "example = \"family is not an important thing .it's everything\"\n",
    "word_token  = word_tokenize(example)\n",
    "\n",
    "stop_word = set(stopwords.words(\"english\"))\n",
    "\n",
    "clean_word = []\n",
    "\n",
    "for i in word_token:\n",
    "    if i not in stop_word:\n",
    "        clean_word.append(i)\n",
    "print(clean_word)"
   ]
  },
  {
   "cell_type": "code",
   "execution_count": 117,
   "metadata": {},
   "outputs": [
    {
     "ename": "TypeError",
     "evalue": "unsupported operand type(s) for -: 'list' and 'set'",
     "output_type": "error",
     "traceback": [
      "\u001b[1;31m---------------------------------------------------------------------------\u001b[0m",
      "\u001b[1;31mTypeError\u001b[0m                                 Traceback (most recent call last)",
      "\u001b[1;32m<ipython-input-117-24f193379a93>\u001b[0m in \u001b[0;36m<module>\u001b[1;34m()\u001b[0m\n\u001b[1;32m----> 1\u001b[1;33m \u001b[0mclean_word\u001b[0m \u001b[1;33m-\u001b[0m \u001b[0mmyans\u001b[0m\u001b[1;33m\u001b[0m\u001b[0m\n\u001b[0m",
      "\u001b[1;31mTypeError\u001b[0m: unsupported operand type(s) for -: 'list' and 'set'"
     ]
    }
   ],
   "source": [
    "clean_word - myans"
   ]
  },
  {
   "cell_type": "code",
   "execution_count": null,
   "metadata": {},
   "outputs": [],
   "source": [
    "# TF -INF 이게 머냐 도대체\n",
    "# bag of words\n",
    "# 단어들의 순서는 고려핮 ㅣ않고, 전혀, 단어들의 출ㄴ현 빈도에만 집중하는 텍스트 데이터\n",
    "# 의 쉬화된 표현법...\n",
    "\n",
    "# TF: Term frequency 단어 빈도, 특정한 단어..\n",
    "# IDF : inverse document frequency 역문서 빈도\n",
    "# "
   ]
  },
  {
   "cell_type": "markdown",
   "metadata": {},
   "source": [
    "# word cloud"
   ]
  },
  {
   "cell_type": "code",
   "execution_count": 118,
   "metadata": {},
   "outputs": [
    {
     "name": "stdout",
     "output_type": "stream",
     "text": [
      "Collecting WordCloud\n",
      "  Downloading https://files.pythonhosted.org/packages/dd/57/8fd38e31be7951f9164f4cb3a769159a0c2ef4af0f597ddf09a7e736593e/wordcloud-1.5.0-cp36-cp36m-win_amd64.whl (153kB)\n",
      "Requirement already satisfied: numpy>=1.6.1 in c:\\users\\sungjin bae\\appdata\\roaming\\python\\python36\\site-packages (from WordCloud) (1.16.4)\n",
      "Requirement already satisfied: pillow in c:\\program files (x86)\\microsoft visual studio\\shared\\anaconda3_64\\lib\\site-packages (from WordCloud) (5.1.0)\n",
      "Installing collected packages: WordCloud\n",
      "Successfully installed WordCloud-1.5.0\n"
     ]
    },
    {
     "name": "stderr",
     "output_type": "stream",
     "text": [
      "  WARNING: The script wordcloud_cli.exe is installed in 'C:\\Users\\SungJin Bae\\AppData\\Roaming\\Python\\Python36\\Scripts' which is not on PATH.\n",
      "  Consider adding this directory to PATH or, if you prefer to suppress this warning, use --no-warn-script-location.\n"
     ]
    }
   ],
   "source": [
    "!pip install WordCloud --user"
   ]
  },
  {
   "cell_type": "code",
   "execution_count": 119,
   "metadata": {},
   "outputs": [],
   "source": [
    "lyrics = '''\n",
    "Long time ago me and my brother Kyle here,\n",
    "We was hitchhikin' down a long and lonesome road.\n",
    "All of a sudden, there shined a shiny demon.\n",
    "In the middle of the road.\n",
    "And he said:\n",
    "\"Play the best song in the world, or I'll eat your soul.\" (soul)\n",
    "Well me and Kyle, we looked at each other,\n",
    "And we each said. \"Okay.\"\n",
    "And we played the first thing that came to our heads,\n",
    "Just so happened to be,\n",
    "The Best Song in the World, it was The Best Song in the World.\n",
    "Look into my eyes and it's easy to see\n",
    "One and one make two, two and one make three,\n",
    "It was destiny.\n",
    "Once every hundred-thousand years or so,\n",
    "When the sun doth shine and the moon doth glow\n",
    "And the grass doth grow\n",
    "Needless to say, the beast was stunned.\n",
    "Whip-crack went his whoopy tail,\n",
    "And the beast was done.\n",
    "He…\n",
    "'''"
   ]
  },
  {
   "cell_type": "code",
   "execution_count": 121,
   "metadata": {},
   "outputs": [],
   "source": [
    "import matplotlib.pyplot as plt"
   ]
  },
  {
   "cell_type": "code",
   "execution_count": 122,
   "metadata": {},
   "outputs": [],
   "source": [
    "from wordcloud import WordCloud"
   ]
  },
  {
   "cell_type": "code",
   "execution_count": 123,
   "metadata": {},
   "outputs": [],
   "source": [
    "wordcloud = WordCloud().generate(lyrics)"
   ]
  },
  {
   "cell_type": "code",
   "execution_count": 126,
   "metadata": {},
   "outputs": [
    {
     "data": {
      "text/plain": [
       "{'Best': 1.0,\n",
       " 'Kyle': 0.6666666666666666,\n",
       " 'Long': 0.6666666666666666,\n",
       " 'Look': 0.3333333333333333,\n",
       " 'Needless': 0.3333333333333333,\n",
       " 'Okay': 0.3333333333333333,\n",
       " 'Play': 0.3333333333333333,\n",
       " 'Song': 1.0,\n",
       " 'Well': 0.3333333333333333,\n",
       " 'Whip': 0.3333333333333333,\n",
       " 'World': 1.0,\n",
       " 'ago': 0.3333333333333333,\n",
       " 'beast': 0.6666666666666666,\n",
       " 'brother': 0.3333333333333333,\n",
       " 'came': 0.3333333333333333,\n",
       " 'crack': 0.3333333333333333,\n",
       " 'demon': 0.3333333333333333,\n",
       " 'destiny': 0.3333333333333333,\n",
       " 'done': 0.3333333333333333,\n",
       " 'doth': 1.0,\n",
       " 'easy': 0.3333333333333333,\n",
       " 'eat': 0.3333333333333333,\n",
       " 'every': 0.3333333333333333,\n",
       " 'eyes': 0.3333333333333333,\n",
       " 'first': 0.3333333333333333,\n",
       " 'glow': 0.3333333333333333,\n",
       " 'grass': 0.3333333333333333,\n",
       " 'grow': 0.3333333333333333,\n",
       " 'happened': 0.3333333333333333,\n",
       " 'heads': 0.3333333333333333,\n",
       " \"hitchhikin'\": 0.3333333333333333,\n",
       " 'hundred': 0.3333333333333333,\n",
       " 'lonesome': 0.3333333333333333,\n",
       " 'looked': 0.3333333333333333,\n",
       " 'make': 0.6666666666666666,\n",
       " 'middle': 0.3333333333333333,\n",
       " 'moon': 0.3333333333333333,\n",
       " 'one': 1.0,\n",
       " 'played': 0.3333333333333333,\n",
       " 'road': 0.6666666666666666,\n",
       " 'said': 0.6666666666666666,\n",
       " 'say': 0.3333333333333333,\n",
       " 'see': 0.3333333333333333,\n",
       " 'shine': 0.3333333333333333,\n",
       " 'shined': 0.3333333333333333,\n",
       " 'shiny': 0.3333333333333333,\n",
       " 'soul': 0.6666666666666666,\n",
       " 'stunned': 0.3333333333333333,\n",
       " 'sudden': 0.3333333333333333,\n",
       " 'sun': 0.3333333333333333,\n",
       " 'tail': 0.3333333333333333,\n",
       " 'thing': 0.3333333333333333,\n",
       " 'thousand': 0.3333333333333333,\n",
       " 'three': 0.3333333333333333,\n",
       " 'time': 0.3333333333333333,\n",
       " 'two': 0.6666666666666666,\n",
       " 'went': 0.3333333333333333,\n",
       " 'whoopy': 0.3333333333333333,\n",
       " 'years': 0.3333333333333333}"
      ]
     },
     "execution_count": 126,
     "metadata": {},
     "output_type": "execute_result"
    }
   ],
   "source": [
    "wordcloud.words_"
   ]
  },
  {
   "cell_type": "code",
   "execution_count": 128,
   "metadata": {},
   "outputs": [
    {
     "data": {
      "image/png": "[encoded data removed]",
      "text/plain": [
       "<Figure size 864x864 with 1 Axes>"
      ]
     },
     "metadata": {},
     "output_type": "display_data"
    }
   ],
   "source": [
    "plt.figure(figsize = (12,12))\n",
    "plt.imshow(wordcloud, interpolation = \"bilinear\")\n",
    "plt.axis(\"off\")\n",
    "plt.show()"
   ]
  },
  {
   "cell_type": "code",
   "execution_count": 136,
   "metadata": {},
   "outputs": [],
   "source": [
    "worddict= wordcloud.words_\n",
    "for i in set(wordcloud.words_).intersection(stopwords.words(\"english\")):\n",
    "    worddict.pop(i)"
   ]
  },
  {
   "cell_type": "code",
   "execution_count": 137,
   "metadata": {},
   "outputs": [
    {
     "data": {
      "text/plain": [
       "{'Best': 1.0,\n",
       " 'Kyle': 0.6666666666666666,\n",
       " 'Long': 0.6666666666666666,\n",
       " 'Look': 0.3333333333333333,\n",
       " 'Needless': 0.3333333333333333,\n",
       " 'Okay': 0.3333333333333333,\n",
       " 'Play': 0.3333333333333333,\n",
       " 'Song': 1.0,\n",
       " 'Well': 0.3333333333333333,\n",
       " 'Whip': 0.3333333333333333,\n",
       " 'World': 1.0,\n",
       " 'ago': 0.3333333333333333,\n",
       " 'beast': 0.6666666666666666,\n",
       " 'brother': 0.3333333333333333,\n",
       " 'came': 0.3333333333333333,\n",
       " 'crack': 0.3333333333333333,\n",
       " 'demon': 0.3333333333333333,\n",
       " 'destiny': 0.3333333333333333,\n",
       " 'done': 0.3333333333333333,\n",
       " 'doth': 1.0,\n",
       " 'easy': 0.3333333333333333,\n",
       " 'eat': 0.3333333333333333,\n",
       " 'every': 0.3333333333333333,\n",
       " 'eyes': 0.3333333333333333,\n",
       " 'first': 0.3333333333333333,\n",
       " 'glow': 0.3333333333333333,\n",
       " 'grass': 0.3333333333333333,\n",
       " 'grow': 0.3333333333333333,\n",
       " 'happened': 0.3333333333333333,\n",
       " 'heads': 0.3333333333333333,\n",
       " \"hitchhikin'\": 0.3333333333333333,\n",
       " 'hundred': 0.3333333333333333,\n",
       " 'lonesome': 0.3333333333333333,\n",
       " 'looked': 0.3333333333333333,\n",
       " 'make': 0.6666666666666666,\n",
       " 'middle': 0.3333333333333333,\n",
       " 'moon': 0.3333333333333333,\n",
       " 'one': 1.0,\n",
       " 'played': 0.3333333333333333,\n",
       " 'road': 0.6666666666666666,\n",
       " 'said': 0.6666666666666666,\n",
       " 'say': 0.3333333333333333,\n",
       " 'see': 0.3333333333333333,\n",
       " 'shine': 0.3333333333333333,\n",
       " 'shined': 0.3333333333333333,\n",
       " 'shiny': 0.3333333333333333,\n",
       " 'soul': 0.6666666666666666,\n",
       " 'stunned': 0.3333333333333333,\n",
       " 'sudden': 0.3333333333333333,\n",
       " 'sun': 0.3333333333333333,\n",
       " 'tail': 0.3333333333333333,\n",
       " 'thing': 0.3333333333333333,\n",
       " 'thousand': 0.3333333333333333,\n",
       " 'three': 0.3333333333333333,\n",
       " 'time': 0.3333333333333333,\n",
       " 'two': 0.6666666666666666,\n",
       " 'went': 0.3333333333333333,\n",
       " 'whoopy': 0.3333333333333333,\n",
       " 'years': 0.3333333333333333}"
      ]
     },
     "execution_count": 137,
     "metadata": {},
     "output_type": "execute_result"
    }
   ],
   "source": [
    "worddict"
   ]
  },
  {
   "cell_type": "code",
   "execution_count": 142,
   "metadata": {},
   "outputs": [],
   "source": [
    "# 원래 워드클라우드는 자동으로 처리해서 나오기 때문에 차이가 없다."
   ]
  },
  {
   "cell_type": "markdown",
   "metadata": {},
   "source": [
    "자연어 처리\n",
    "텍스트데이터 0> 비정형데이터\n",
    "자연어처리는 이러한 인간 언어를 해석하는 기술\n",
    "형태소 분석은 계속 연구가 되어 와서 지금은 높은 성능을 보이고 있따.\n",
    "\n",
    "ㅅ형태소란 : ]\n",
    "의미를 가지는 최소 단위로써 더 이상 의미적으로 분석이 불가는ㅇ한 단위\n",
    "\n",
    "문장 -> 컴퓨터를 사용합니다.\n",
    "어절: 컴퓨터를   / 사용합니다.\n",
    "형태소 : 사용(명사_ 하(동사) ㅂ니다(종결어미)\n",
    "음절: 사 / 용 \n",
    "\n",
    "\n",
    "형탯 ㅗ분석의 한계점:\n",
    "ㅅ니조어, 은어, 오탈자, 띄어쓰기 오류들이 형태소 분석을 ㅏㅎ는데 큰 영향을 미침\n",
    "다의어에 대해서 모호성을 해결하지 못함\n",
    "밤이 어둡다 -> 밤의 맛있다.\n",
    "이런거에서 모호성을 해결하지 ㅁ소한느 부분이 존재하낟.\n",
    "\n",
    "koNLPy 한국어 자연어처리를 위한 대표적인 파이썬 라이브러리\n",
    "Twitter , Komoran, Hannanum,kkma(꼬꼬마), mecab 등 5 개의 클래스가 있다. \n",
    "\n",
    "띄어쓰기에 대한 성능 비교\n",
    "\n",
    "성능면에서 꼬꼬마가 괜춘하나\n",
    "시간이 오래 걸려 ㅂㄷㅂㄷ\n",
    "\n"
   ]
  },
  {
   "cell_type": "code",
   "execution_count": 149,
   "metadata": {},
   "outputs": [
    {
     "name": "stdout",
     "output_type": "stream",
     "text": [
      "Requirement already satisfied: JPype1 in c:\\users\\sungjin bae\\appdata\\roaming\\python\\python36\\site-packages (0.7.0)\n"
     ]
    }
   ],
   "source": [
    "!pip install JPype1"
   ]
  },
  {
   "cell_type": "code",
   "execution_count": null,
   "metadata": {},
   "outputs": [],
   "source": []
  },
  {
   "cell_type": "code",
   "execution_count": 1,
   "metadata": {},
   "outputs": [],
   "source": [
    "from konlpy.tag import Kkma"
   ]
  },
  {
   "cell_type": "code",
   "execution_count": 2,
   "metadata": {},
   "outputs": [],
   "source": [
    "from konlpy.utils import pprint"
   ]
  },
  {
   "cell_type": "code",
   "execution_count": 13,
   "metadata": {},
   "outputs": [],
   "source": [
    "kkma = Kkma()"
   ]
  },
  {
   "cell_type": "code",
   "execution_count": 14,
   "metadata": {},
   "outputs": [
    {
     "name": "stdout",
     "output_type": "stream",
     "text": [
      "['네 안녕하세요', '반갑습니다.']\n"
     ]
    }
   ],
   "source": [
    "pprint(kkma.sentences(u'네 안녕하세요 반갑습니다.'))"
   ]
  },
  {
   "cell_type": "code",
   "execution_count": 15,
   "metadata": {},
   "outputs": [
    {
     "name": "stdout",
     "output_type": "stream",
     "text": [
      "[('네', 'MDN'),\n",
      " ('안녕하', 'VA'),\n",
      " ('세요', 'EFN'),\n",
      " ('반갑', 'VV'),\n",
      " ('습니다', 'EFN'),\n",
      " ('.', 'SF')]\n"
     ]
    }
   ],
   "source": [
    "pprint(kkma.pos(u'네 안녕하세요 반갑습니다.'))"
   ]
  },
  {
   "cell_type": "code",
   "execution_count": 16,
   "metadata": {},
   "outputs": [],
   "source": [
    "from konlpy.tag import Hannanum"
   ]
  },
  {
   "cell_type": "code",
   "execution_count": 17,
   "metadata": {},
   "outputs": [],
   "source": [
    "han = Hannanum()"
   ]
  },
  {
   "cell_type": "code",
   "execution_count": 18,
   "metadata": {},
   "outputs": [
    {
     "name": "stdout",
     "output_type": "stream",
     "text": [
      "[]\n"
     ]
    }
   ],
   "source": [
    "print(han.analyze(u'아버지가 방에 들어가신다. 안녕하세요. 하늘을 나는 자동차'))"
   ]
  },
  {
   "cell_type": "code",
   "execution_count": 19,
   "metadata": {},
   "outputs": [
    {
     "name": "stdout",
     "output_type": "stream",
     "text": [
      "[]\n"
     ]
    }
   ],
   "source": [
    "print(han.morphs(u'아버지가 방에 들어가신다. 안녕하세요. 하늘을 나는 자동차'))"
   ]
  },
  {
   "cell_type": "code",
   "execution_count": 20,
   "metadata": {},
   "outputs": [
    {
     "name": "stdout",
     "output_type": "stream",
     "text": [
      "[]\n"
     ]
    }
   ],
   "source": [
    "#morphology가 형태소 분석이다. \n",
    "print(han.nouns(u'아버지가 방에 들어가신다. 안녕하세요. 하늘을 나는 자동차'))"
   ]
  },
  {
   "cell_type": "code",
   "execution_count": 21,
   "metadata": {},
   "outputs": [
    {
     "name": "stdout",
     "output_type": "stream",
     "text": [
      "[]\n"
     ]
    }
   ],
   "source": [
    "print(han.pos(u'아버지가 방에 들어가신다. 안녕하세요. 하늘을 나는 자동차'))"
   ]
  },
  {
   "cell_type": "code",
   "execution_count": 23,
   "metadata": {},
   "outputs": [
    {
     "name": "stdout",
     "output_type": "stream",
     "text": [
      "[('아버지', 'NNG'),\n",
      " ('가', 'JKS'),\n",
      " ('방', 'NNG'),\n",
      " ('에', 'JKB'),\n",
      " ('들어가', 'VV'),\n",
      " ('시', 'EP'),\n",
      " ('ㄴ다', 'EF'),\n",
      " ('.', 'SF'),\n",
      " ('안녕하세요', 'NNP'),\n",
      " ('.', 'SF'),\n",
      " ('하늘', 'NNG'),\n",
      " ('을', 'JKO'),\n",
      " ('나', 'NP'),\n",
      " ('는', 'JX'),\n",
      " ('자동차', 'NNG')]\n"
     ]
    }
   ],
   "source": [
    "# 제일 많이 사용하는게 꼬꼬마기는 한데 느리니깐...\n",
    "from konlpy.tag import Komoran\n",
    "ko = Komoran()\n",
    "pprint(ko.pos(u'아버지가 방에 들어가신다. 안녕하세요. 하늘을 나는 자동차'))\n",
    "#pos, morphs, nouns"
   ]
  },
  {
   "cell_type": "code",
   "execution_count": null,
   "metadata": {},
   "outputs": [],
   "source": [
    "!git clone https://github.com/e9t/nsmc.git"
   ]
  },
  {
   "cell_type": "code",
   "execution_count": null,
   "metadata": {},
   "outputs": [],
   "source": []
  },
  {
   "cell_type": "code",
   "execution_count": null,
   "metadata": {},
   "outputs": [],
   "source": []
  },
  {
   "cell_type": "code",
   "execution_count": null,
   "metadata": {},
   "outputs": [],
   "source": []
  },
  {
   "cell_type": "code",
   "execution_count": null,
   "metadata": {},
   "outputs": [],
   "source": []
  }
 ],
 "metadata": {
  "kernelspec": {
   "display_name": "Python 3",
   "language": "python",
   "name": "python3"
  },
  "language_info": {
   "codemirror_mode": {
    "name": "ipython",
    "version": 3
   },
   "file_extension": ".py",
   "mimetype": "text/x-python",
   "name": "python",
   "nbconvert_exporter": "python",
   "pygments_lexer": "ipython3",
   "version": "3.6.5"
  }
 },
 "nbformat": 4,
 "nbformat_minor": 2
}
