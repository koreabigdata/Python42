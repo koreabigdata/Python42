{
 "cells": [
  {
   "cell_type": "code",
   "execution_count": 2,
   "metadata": {},
   "outputs": [],
   "source": [
    "import sqlite3"
   ]
  },
  {
   "cell_type": "code",
   "execution_count": 11,
   "metadata": {},
   "outputs": [
    {
     "name": "stdout",
     "output_type": "stream",
     "text": [
      "Opened Database Successfully\n",
      "Table created successfully\n"
     ]
    }
   ],
   "source": [
    "conn = sqlite3.connect('playlist6.db')\n",
    "print(\"Opened Database Successfully\")\n",
    "cur = conn.cursor()\n",
    "cur.executescript('''\n",
    "    CREATE TABLE Artist(\n",
    "        id INTEGER NOT NULL PRIMARY KEY AUTOINCREMENT UNIQUE, \n",
    "        name TEXT);\n",
    "    CREATE TABLE Genre(\n",
    "        id INTEGER NOT NULL PRIMARY KEY AUTOINCREMENT UNIQUE,\n",
    "        name TEXT);\n",
    "    CREATE TABLE Album(\n",
    "        id INTEGER NOT NULL PRIMARY KEY AUTOINCREMENT UNIQUE,\n",
    "        title TEXT,\n",
    "        artist_id INTEGER);\n",
    "    CREATE TABLE Track(\n",
    "        id INTEGER NOT NULL PRIMARY KEY AUTOINCREMENT UNIQUE,\n",
    "        title TEXT,\n",
    "        length INTEGER,\n",
    "        rating INTEGER,\n",
    "        count INTEGER,\n",
    "        album_id INTEGER,\n",
    "        genre_id INTEGER); \n",
    "''')\n",
    "print(\"Table created successfully\")"
   ]
  },
  {
   "cell_type": "code",
   "execution_count": 13,
   "metadata": {},
   "outputs": [
    {
     "data": {
      "text/plain": [
       "<sqlite3.Cursor at 0x1a61964f8f0>"
      ]
     },
     "execution_count": 13,
     "metadata": {},
     "output_type": "execute_result"
    }
   ],
   "source": [
    "cur.execute('INSERT INTO Artist (name) VALUES(\"LED ZEPPLIN\")')\n",
    "cur.execute('INSERT INTO Artist (name) VALUES(\"AC/DC\")')\n",
    "cur.execute('INSERT INTO Genre (name) VALUES(\"rock\")')\n",
    "cur.execute('INSERT INTO Genre (name) VALUES(\"Metal\")')"
   ]
  },
  {
   "cell_type": "code",
   "execution_count": 14,
   "metadata": {},
   "outputs": [
    {
     "data": {
      "text/plain": [
       "<sqlite3.Cursor at 0x1a61964f8f0>"
      ]
     },
     "execution_count": 14,
     "metadata": {},
     "output_type": "execute_result"
    }
   ],
   "source": [
    "cur.execute(\"\"\"\n",
    "    INSERT INTO Album(title, artist_id)\n",
    "    VALUES(:Album,\n",
    "        (SELECT id\n",
    "        FROM Artist\n",
    "        WHERE name =:Artist))\"\"\",{\"Album\":\"Who Made Who\",\"Artist\":\"AC/DC\"})"
   ]
  },
  {
   "cell_type": "code",
   "execution_count": 15,
   "metadata": {},
   "outputs": [
    {
     "data": {
      "text/plain": [
       "<sqlite3.Cursor at 0x1a61964f8f0>"
      ]
     },
     "execution_count": 15,
     "metadata": {},
     "output_type": "execute_result"
    }
   ],
   "source": [
    "cur.execute(\"\"\"\n",
    "    INSERT INTO Album(title, artist_id)\n",
    "    VALUES(:Album,\n",
    "        (SELECT id\n",
    "        FROM Artist\n",
    "        WHERE name =:Artist))\"\"\",{\"Album\":\"IV\",\"Artist\":\"LED ZEPPLIN\"})"
   ]
  },
  {
   "cell_type": "code",
   "execution_count": 16,
   "metadata": {},
   "outputs": [
    {
     "data": {
      "text/plain": [
       "<sqlite3.Cursor at 0x1a61964f8f0>"
      ]
     },
     "execution_count": 16,
     "metadata": {},
     "output_type": "execute_result"
    }
   ],
   "source": [
    "cur.executescript(\"\"\"\n",
    "    INSERT INTO Track(title, rating, length, count, album_id, genre_id) VALUES (\"Black Dog\",5,297,0,2,1);\n",
    "    INSERT INTO Track(title, rating, length, count, album_id, genre_id) VALUES (\"Stairway\",5,482,0,2,1);\n",
    "    INSERT INTO Track(title, rating, length, count, album_id, genre_id) VALUES (\"About to Rock\",5,313,0,1,2);\n",
    "    INSERT INTO Track(title, rating, length, count, album_id, genre_id) VALUES (\"Who made Who\",5,207,0,1,2);\n",
    "\"\"\")"
   ]
  },
  {
   "cell_type": "code",
   "execution_count": 17,
   "metadata": {},
   "outputs": [],
   "source": [
    "conn.commit()"
   ]
  },
  {
   "cell_type": "code",
   "execution_count": 20,
   "metadata": {},
   "outputs": [
    {
     "data": {
      "text/plain": [
       "<sqlite3.Cursor at 0x1a61964f8f0>"
      ]
     },
     "execution_count": 20,
     "metadata": {},
     "output_type": "execute_result"
    }
   ],
   "source": [
    "cur.execute('''\n",
    "SELECT Album.title, Artist.name\n",
    "FROM Album\n",
    "JOIN Artist ON Album.artist_id = Artist.id''')\n"
   ]
  },
  {
   "cell_type": "code",
   "execution_count": null,
   "metadata": {},
   "outputs": [],
   "source": [
    "# email이 아이디, 비번 생년월일\n",
    "# 118.27.37.152 / http://lms.sunde41.net/"
   ]
  }
 ],
 "metadata": {
  "kernelspec": {
   "display_name": "Python 3",
   "language": "python",
   "name": "python3"
  },
  "language_info": {
   "codemirror_mode": {
    "name": "ipython",
    "version": 3
   },
   "file_extension": ".py",
   "mimetype": "text/x-python",
   "name": "python",
   "nbconvert_exporter": "python",
   "pygments_lexer": "ipython3",
   "version": "3.6.5"
  }
 },
 "nbformat": 4,
 "nbformat_minor": 2
}
