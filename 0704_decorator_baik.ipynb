{
 "cells": [
  {
   "cell_type": "code",
   "execution_count": 1,
   "metadata": {},
   "outputs": [],
   "source": [
    "#함수 실행할 떄마다 시간이 얼마걸리는지 알고싶음"
   ]
  },
  {
   "cell_type": "code",
   "execution_count": 15,
   "metadata": {},
   "outputs": [],
   "source": [
    "#첫번쨰 함수를 만듦\n",
    "\n",
    "#1\n",
    "def wrapper(func):\n",
    "    #2\n",
    "    def inner():\n",
    "        import time\n",
    "        start = time.time()\n",
    "        t = func()\n",
    "        end = time.time()\n",
    "        during = end -start\n",
    "        print(during)\n",
    "        return t\n",
    "    return inner\n",
    "       "
   ]
  },
  {
   "cell_type": "code",
   "execution_count": 16,
   "metadata": {},
   "outputs": [],
   "source": [
    "@wrapper\n",
    "def a():\n",
    "    temp = []\n",
    "    for i in range (1000):\n",
    "        temp.append(i)\n",
    "    return temp"
   ]
  },
  {
   "cell_type": "code",
   "execution_count": 18,
   "metadata": {},
   "outputs": [
    {
     "name": "stdout",
     "output_type": "stream",
     "text": [
      "0.0004956722259521484\n"
     ]
    }
   ],
   "source": [
    "x = a()\n",
    "#인스턴스 입장에선 메소드\n",
    "#클래스 입장에선 function\n"
   ]
  },
  {
   "cell_type": "code",
   "execution_count": null,
   "metadata": {},
   "outputs": [],
   "source": []
  }
 ],
 "metadata": {
  "kernelspec": {
   "display_name": "Python 3",
   "language": "python",
   "name": "python3"
  },
  "language_info": {
   "codemirror_mode": {
    "name": "ipython",
    "version": 3
   },
   "file_extension": ".py",
   "mimetype": "text/x-python",
   "name": "python",
   "nbconvert_exporter": "python",
   "pygments_lexer": "ipython3",
   "version": "3.7.3"
  }
 },
 "nbformat": 4,
 "nbformat_minor": 2
}
