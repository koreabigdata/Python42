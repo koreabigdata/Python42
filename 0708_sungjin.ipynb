{
 "cells": [
  {
   "cell_type": "markdown",
   "metadata": {},
   "source": [
    "# Data"
   ]
  },
  {
   "cell_type": "code",
   "execution_count": 1,
   "metadata": {},
   "outputs": [],
   "source": [
    "# mastering matplotlib \n",
    "# spark를 이용한 분산자료 ->\n",
    "# 3V Volume 양이 무진장 많아야 한다. Variety 다양성 Velocity 속도\n",
    "# 분산처리  hadoop가 필요할 텐데\n",
    "# 정형 데이터 / semi structure or documented type of data / unstructured data\n",
    "# mostly paying attention to the unstructured data \n",
    "# DB / Semi-structured Data, object-relational mapping , 정규식 -> semi structured data\n",
    "#를 잘 쓰기 위해서 . 데이터 정제, 부\n",
    "# 3일차 JSON / XML, 공공데이터 포털에서 파싱하는 법\n",
    "# 4, 5일차 비정형 데이터를 수집할 지 ->  static page , dynamic page, .... crawling\n",
    "# scrapping, ... "
   ]
  },
  {
   "cell_type": "markdown",
   "metadata": {},
   "source": [
    "- DB 개요 RDBMS, SQL , SQLite\n",
    "- ORM SQLAlchemy Regular Expression\n",
    "- HTML5,  CSS\n",
    "- JSON , XML\n"
   ]
  },
  {
   "cell_type": "code",
   "execution_count": 2,
   "metadata": {},
   "outputs": [],
   "source": [
    "# DB를 한다는 것은 structured data를 다룬다는 의미이다. "
   ]
  },
  {
   "cell_type": "markdown",
   "metadata": {},
   "source": [
    "## DBMS -> Database management system"
   ]
  },
  {
   "cell_type": "markdown",
   "metadata": {},
   "source": [
    "data vs. information\n",
    "data : raw facts , no context, just numbers and text\n",
    "Information : processed data, data with context, value-added data"
   ]
  },
  {
   "cell_type": "markdown",
   "metadata": {},
   "source": [
    "- database: collection of data organized in a manner that allows access, retrieval, and use of that data -> means 'structured'\n",
    "- Data: collection of unprocessed items: text, numbers images audio ,video"
   ]
  },
  {
   "cell_type": "code",
   "execution_count": 3,
   "metadata": {},
   "outputs": [],
   "source": [
    "# What is database ? a collection of interrelated data, a set of intergrated, stored, shared and operational data\n",
    "# 조건: Integrated, stored, shared, operational\n",
    "# 통합: 동일한 데이터가 주복되지 않도록 구성하고 ㅗ치소한의 중복 또는 통제된 중복 만을 허용한다.\n",
    "# 저장: 컴퓨터로 접근 가능한 물리적 저장 매체 저장\n",
    "# 공유: 공동으로 소유하고 유지하며 이용하는 데이터\n",
    "# 운영: 존재 목적이나 기능 수행에 꼭 필요한 데이터 집합"
   ]
  },
  {
   "cell_type": "code",
   "execution_count": 4,
   "metadata": {},
   "outputs": [],
   "source": [
    "# 데이터베이스 특징\n",
    "# 실시근 접근성: 데이터들 간의 밀접한 관계로 연결, 중복 데이터를 배제하도고록 지양, 사용자의 어떤 요구에도 즉각 응답\n",
    "# 계속적인 변화: 현실 세계의 상태를 정확히 반영, 동적으로 삽입,삭제,수정하여 현재의 데이터 유지\n",
    "# 동시 공유 가능: 여러 사용자들이 동시에 이용, 같은 시간에 같은 데이터에 접근하여 이용\n",
    "# 내용에 의한 참조 가능: 저장된 주소나 위치에 의해서 참조하지 않고\n",
    "# 사용자가 요구하는 데이터의 내용 / 값에 따라 참조"
   ]
  },
  {
   "cell_type": "code",
   "execution_count": 5,
   "metadata": {},
   "outputs": [],
   "source": [
    "# 코드 짜기도 바쁜데 데이터베이스를 하나하나 관리하기 어렵다 -> 그 과정에서\n",
    "# DBMS라는 애가 중간에 서 데이터베이스를 관리해 주는 형식이다.\n"
   ]
  },
  {
   "cell_type": "markdown",
   "metadata": {},
   "source": [
    " DBMS?\n",
    "- a collection of programs\n",
    "- manage the database structure\n",
    "- controls access to the data stored in the databse\n",
    "\n",
    "\n",
    "DBMS의 역할?\n",
    "- create database\n",
    "- insert, update and delete data\n",
    "- sort and query data\n",
    "- creat form and report"
   ]
  },
  {
   "cell_type": "markdown",
   "metadata": {},
   "source": [
    "## DBMS 역할과 장점\n",
    "- improved data sharing\n",
    "- improved data security\n",
    "- minimized data inconsistency\n",
    "- imporved data access\n",
    "- improved decision making\n",
    " - increasd end user productivity\n",
    "  - reduce application development time\n",
    "  \n",
    "  DBMS ? for integratiy\n",
    "  \n",
    "  HADOOP을 이용한 분산 처리 없이는 기존의 DB architecture를 이기기 어렵다. \n",
    "  "
   ]
  },
  {
   "cell_type": "markdown",
   "metadata": {},
   "source": [
    "## DB model:\n",
    "\n",
    "- relational database model: SQL..\n",
    "entity : table이라 부른다.\n",
    "- object relational database model -> postgrad SQL\n",
    "entity : object\n",
    "\n",
    "- relational database model 을 object relational DB model처럼 쓰게 만드는 방법이 ORM\n",
    "\n",
    "- noSQL - mongoDB 쓰는 법은 특강으로 존재할 것.\n"
   ]
  },
  {
   "cell_type": "markdown",
   "metadata": {},
   "source": [
    "# 1.2 RDBMS:"
   ]
  },
  {
   "cell_type": "markdown",
   "metadata": {},
   "source": [
    "- 데이터 안정성: data is immune to program crashes\n",
    "- concurrent access: atomic updates via transactions\n",
    "- fault tolerance: replicated DBS for instant fallover on machine/ disk crashes\n",
    "- data integrity: aids to keep data meaningful\n",
    "- scalability: can handel small/ large ...."
   ]
  },
  {
   "cell_type": "markdown",
   "metadata": {},
   "source": [
    "## RDBMS\n",
    "\n",
    "- relation / table\n",
    "- tuple / row or record\n",
    "- cardinality / number of rows\n",
    "- degree/ number of columns\n",
    "- domain / pool or legal values\n",
    "- primary key / unique identifier"
   ]
  },
  {
   "cell_type": "code",
   "execution_count": 6,
   "metadata": {},
   "outputs": [],
   "source": [
    "# 주로 primary key를 아이디로 만든다. -> 이래야 중봅ㄱ 검사를 해서 primary key로서\n",
    "# 작성되도록 만들 수 있다. "
   ]
  },
  {
   "cell_type": "code",
   "execution_count": 7,
   "metadata": {},
   "outputs": [],
   "source": [
    "# 얘를 만들ㄸ ㅐ사용하는 게 바로 Entity-Relationship Mdoel이다."
   ]
  },
  {
   "cell_type": "code",
   "execution_count": 8,
   "metadata": {},
   "outputs": [],
   "source": [
    "# Entity ;실 세계에 존재하는 분리된 실제 하나를 표현, 일반적으로 명사 하나에 해당\n",
    "# relationship:  개체들 사이에 존재하는 연관이나 연결, 일반적으로 동시에 해당\n",
    "# 최소 대응수(minimum cardinality)와 최대 대응수(maximum cardniality)로 구성\n",
    "# 속성(Attribute): 개체의 성질, 분류, 식별, 수량, 상태 등을 나타내는 세부 항목\n",
    "# 관계 또한 속성을 보유할 수 있음\n",
    "# 기본키(primary key, 혹은  pk): 모든 개체를 고유하게 식별할 수 있는 속성\n"
   ]
  },
  {
   "cell_type": "code",
   "execution_count": 9,
   "metadata": {},
   "outputs": [],
   "source": [
    "# 학사정보시스템을 만든다고 가정했을 때 , samsung notes 참고\n"
   ]
  },
  {
   "cell_type": "code",
   "execution_count": 10,
   "metadata": {},
   "outputs": [],
   "source": [
    "# relationship : mapping cardinality"
   ]
  },
  {
   "cell_type": "code",
   "execution_count": 11,
   "metadata": {},
   "outputs": [],
   "source": [
    "# 조건 1: 교수는 꼬 ㄱ 학생에 대한 지도를 해야 한다 - > min-card(교수,지도) = 1"
   ]
  },
  {
   "cell_type": "code",
   "execution_count": 12,
   "metadata": {},
   "outputs": [],
   "source": [
    "# 조건 2: 교수는 여러 명의 학생을 지도할 수 있다. -> max-card:(교수, 지도) = n\n",
    "# 조건 3: 학생은 꼬 교수에게 지도를 받아야 한다. -> min-card(교수, 지도) = 1\n",
    "# 조건 4: 학생은 여러 명의 교수에게 지도를 받을 수 없다. -> max-card(교수,지도)=1\n",
    "\n",
    "# wording -> view table 찾을 것..."
   ]
  },
  {
   "cell_type": "code",
   "execution_count": null,
   "metadata": {},
   "outputs": [],
   "source": []
  },
  {
   "cell_type": "markdown",
   "metadata": {},
   "source": [
    "# SQL: Structured Query Language"
   ]
  },
  {
   "cell_type": "markdown",
   "metadata": {},
   "source": [
    "- RDBMS의 데이터를 관리하기 위해 만들어진 언어(대부분 ISO 표준을 따름) -> 디비엠에스 마다 조금씩 다를 수 있다. \n",
    "- 자료의 검색과 관리, 데이터베이스 스키마 새엇ㅇ과 수정, 데이터베이스 객체 접근 조정 관리 등을 고안\n",
    "\n",
    "SQL 명령:\n",
    "- 데이터 정의 언어 DDL(Data Definition Language)\n",
    " - create, drop, alter, truncate\n",
    "- 데이터 조작 언어 DML(Data Manipulation Language)\n",
    " -  Insert, update, delete, select\n",
    "- 데이터 제어 언어 DCL(data control language)\n",
    " - grant, revoke\n",
    " \n",
    "데이터 정의 언어는 개발자한테 절대 넘기지 않는다.슈퍼관리자가 정의를 하지...\n",
    "\n",
    "나아가 조작 언어도 조심"
   ]
  },
  {
   "cell_type": "code",
   "execution_count": 13,
   "metadata": {},
   "outputs": [],
   "source": [
    "# update, delete 구문을 개인적으로 절대 쓰지 말라고 가르친다.\n",
    "# 데이터가 한방에... 위험하기 짝이 없어\n",
    "\n",
    "#UPDATE country\n",
    "#SET  population = poulation + 1\n",
    "#WHERE  name = 'USA'"
   ]
  },
  {
   "cell_type": "markdown",
   "metadata": {},
   "source": [
    "# Data type of SQL\n",
    "\n",
    "- boolean(BOOLEAN)\n",
    " - to repeat value True or FALSE\n",
    "- Character (CHAR, VARCHAR) - > CHAR는 CHAR(10)이라고 하면 A라고 치면 공백 9개 포함VARCHAR -> 가변, 최대 10\n",
    " - to represent character data for columns such as names of persons or cities\n",
    "- Exact Numeric(NUMERIC, DECIMAL,  INTEGER, SMALLINT, BIGINT)\n",
    " - TO PRESENT NUMBER SUCH AS 1,2,3, ... AND SO ON\n",
    " - USED FOR NUMBERS WITH FRACTIONS SUCH AS 123.45\n",
    "- APPROXIMATE NUMERIC(REAL, FLOAT, DOUBLE_\n",
    " - TO REPRESENT NUMBERS WITH FRACTIONS SUCH AS 123,45\n",
    " - PRECISINO OF THE FRACTION MAY NOT BE PRESERVED ACROSS MANIPULATION SUCH AS COL,UMN NUMBERS\n",
    " \n",
    " CLOB\n",
    " \n",
    " "
   ]
  },
  {
   "cell_type": "markdown",
   "metadata": {},
   "source": [
    "## BOOLEAN\n",
    "\n",
    "- VALUES OF BOOLEAN COLUMN : TRUE OR FALSE\n",
    "\n",
    "## CHARACTER\n",
    "- SEQUENCE OF CHARACTERS ASUCH AS NAMES OF PERSONS, CITIES, ETC\n",
    "- SYNTAX\n",
    "\n",
    "## VARCHAR\n",
    "- SYNTAX{VARCHAR | CHARACTER VARYING | CHAR VARYING }\n",
    "\n",
    "## INTEGER\n",
    "- 4BYTES(32BITS)\n",
    "\n",
    "## DATE\n",
    "\n",
    "## TIME\n",
    "\n",
    "## CLOB \n",
    "\n",
    "## BLOB\n",
    "\n",
    "DBMS마다 조금씩 다 다르다. -> 다 알아야돼 ㅂㄷㅂㄷ"
   ]
  },
  {
   "cell_type": "markdown",
   "metadata": {},
   "source": [
    "# DDL\n",
    "- CREATE\n",
    "\n",
    "CREATE TABLE [TABLE NAME] ([COLUMN DEFINITION]) [TABLE PARAMETERS]\n",
    "\n",
    "CONSTRATINS:\n",
    "- NOT NULL: NOT ALLOWING NULL\n",
    "- UNIQUE: ENSURES THAT ALL VALUES IN A COLUMN ARE DIFFERENT\n",
    "- PRIMARY KEY: A COMBINATION OF A NOT NALL AND UNIQUE, UNIQUELY IDENTIFIES EACH ROW IN A TABLE\n",
    "- FOREIGN KEY: UNIQUELY IDENTIFIES A ROW/ RECORD IN ANOTHER TABLE\n",
    "- CHECK \n",
    "- DEFAULT\n",
    "- INDEX\n",
    "\n",
    "- AUTO INCREMENT"
   ]
  },
  {
   "cell_type": "markdown",
   "metadata": {},
   "source": [
    "CREATE TABLE employees{\n",
    "id INTEGER  PRIMARY KEY,\n",
    "first_name VARCHAR(50) not null,\n",
    "last_name VARCAHAR(25) not null,\n",
    "fname VARCHAR(25) not null,\n",
    "dateofbirth DATE not null\n",
    "};"
   ]
  },
  {
   "cell_type": "markdown",
   "metadata": {},
   "source": [
    "Drop\n",
    "- DROP objecttype objectname \n",
    "- DROP TABLE employees;\n",
    "- 안쓰는 걸 추천, 싹 날리지만 10번까지 날릭고 다시 넣으면 11로 시작함 ㅂㄷㅂㄷ\n",
    "- 하나의 열 이상을 날린다는 의미이다. \n",
    "-> 얘는 최대한 쓰지 말아라..\n",
    "\n",
    "TRUNCATE\n",
    "- TRUNCATE TABLE table_name\n",
    "- delete all data from a table, 다 날리면 1번부터 다시 시작\n",
    "\n",
    "ALTER \n",
    "- ALTER objecttype objectname parameters\n",
    "- modifies existing database\n",
    "\n",
    "DROP을 쓴다는 건 DB를 매우 위험하게 만들고 있따는 의미이고\n",
    "ALTER를 쓰고 있다는 건 DB 설계를 잘못했다는 의미이다."
   ]
  },
  {
   "cell_type": "markdown",
   "metadata": {},
   "source": [
    "# DML\n",
    "\n",
    "INSERT\n",
    "- INSERT INTO table (column 1{,column 2 , column 3 ...}) VALUES(value1{,value2, value3});\n",
    "- INSERT INTO table VALUES (value1 {,value2, value3});\n",
    "\n",
    "- INSERT INTO phone_book(name,number) VALUES('asdf', 'asdf', 'asdf');\n",
    "\n",
    "SELECT\n",
    "- SELECT column1, column2, ...\n",
    "- FROM  table_name;\n",
    "- SELECT CumstomerName, City FROM Customers;\n",
    "- SELECT * FROM Customer\n",
    "- * 은 모든 컬럼을 얘기한다. -> cross 조인이라고 부르고\n",
    "- 매우 안좋은 방법이다. 테이블을 여러개 부른다? 잘못쓰신것이다. \n",
    "\n",
    "인젝션이란 무엇인가??? \n",
    "\n",
    "- SELECT [ALL | DISTRICT] 컬럼명 [,컬럼명...] FROM 테이블명 [,테이블명...]\n",
    "- [WHERE 조건식]\n",
    "- [GROUP BY 컬럼명 [HAVING 조건식]\n",
    "- [GROUP BY 컬럼명]\n",
    "\n",
    "\n",
    "- WHERE: SPECIFIES WHICH ROWS TO RETRIEVE -> 조건문이 들어간다\n",
    "- GROUP BY: GROUPS ROWS SHARING A PROPOERTY SO THAT AN AGGREGATE FUNCTION CAN BE APPLIED TO EACH GROUP\n",
    "- HAVING: SELECTS AMONG THE GROUP DEFINED BY THE GROUP BY CLAUSE\n",
    "- ORDER BY : SPECIFIES AN ORDER IN WHICH TO RETURN THE ROWS\n",
    "- AS: PROVIDES AN ALLAS WHICH CAN BE USED TO TEMPORARILY RENAME TABLES OR COLUMNS\n",
    "\n",
    "- SELECT * FROM T ORDER BY C1 DESC -> DESCENDING ORDER 라는 의미이다. \n",
    "- SELECT * FROM T WHERE C1 = 1 -> 교집합을 출력한다는 의미이다. \n",
    "\n",
    "AND, OR\n",
    "\n",
    "- DELETE\n",
    "- FROM mytable\n",
    "- WHERE mycol > 100 AND item = 'hammer'\n",
    "\n",
    "LIKE\n",
    "\n",
    "- a% -> 앞이 a로 시작하고 뒤는 신경쓰지 않는다\n",
    "- %a -> 뒤가 a로 끝나고 앞은 신경쓰지 않는다.\n",
    "- %or% -> 앞뒤 상관 안하고 중간에 or이 있으면 된다.\n",
    "\n",
    "UPDATE\n",
    " - UPDATE table_name\n",
    " - SET column1 = value1, column2 = value2\n",
    " - WHERE condition ;\n",
    " \n",
    " 얘를 사용하면 기존의 데이터를 잃어버릴 가능성이 있어서\n",
    " 개인적으로 추천하지 않는다. \n",
    " \n",
    " - changes the data of one or more records in a atable\n",
    " - either all the rows can be updated or a subset may be chosen using a condition\n",
    " \n",
    " Example of UPDATE\n",
    " \n",
    " - UPDATE Customers\n",
    " - SET Customername = 'alfred', city = 'firefox\n",
    " - WHERE CustomerID = 1;\n",
    " \n",
    " UPDATE는 굉장히 위험하다. 자신없으면  쓰지 마. \n",
    " \n",
    " - UPDATE Customers\n",
    " - SET ContactName = 'Juan'\n",
    " \n",
    " 이러면 ContactName의 내용물이 다 Juan으로 바뀐다. \n",
    " \n",
    " * LIMIT option은 자주 쓸 것이다. \n",
    " \n",
    " DELETE\n",
    " \n",
    " - DELETE FROM table_name\n",
    " - WHERE condition;\n",
    " - removes one or more records\n",
    " - 쓰지마... 그냥..\n",
    " \n",
    " - DELETE FROM table_name;\n",
    " - Delete all records\n",
    " \n",
    " JOINS\n",
    " - combines columns from one or more tables in a relational database, based on a related column between them\n",
    " - JOIN: INNER, LEFT OUTER, RIGHT OUTER, FULL OUTER , CROSS\n",
    " - INNER JOIN: 교집합, LEFT JOIN: TABLE 1, RIGHT JOIN: TABLE 2, FULL OUTER JOIN: 교집합\n",
    " - (INNER) JOIN: RETURNS RECORDS THAT HAVE MATCHING VALUES IN BOTH TABLES\n",
    " - LEFT(OUTER) JOIN: RETURN ALL RECORDS FROM THE LEFT TABLE, AND THE MATCHED RECORDS FROM THE RIGHR TABLE\n",
    " - RIGHT JOIN: RETURN ALL RECORDS FROM THE RIGHR TABLE, AND THE MATCHED RECORDS FROM THE LEFT TABLE\n",
    " - FULL(OUTER) TABLE: RETURN ALL RECORDS WHEN THERE IS A MATCH IN EITHER LEFT OR RIGHT\n",
    " \n",
    " EXAMPLE OF JOINS\n",
    " - SELECT Orders.Order ID, Customers.CustomerName, Orders.OrderDate FROM Orders\n",
    " - INNER_JOIN Customers ON Orders.CustomerID = Customers.CustomerID;\n",
    " \n",
    " - INNER #table1 #table2 ... 요론 식으로 cross join을 하기도 하는데 좋지 않다. \n",
    " \n",
    "DB 파일 만드는 사람이 DB 만들고 DUMP 파일을 만들고 나눠 갖는걸로 DB를 테스트해볼 수 있다.\n",
    "\n",
    "CROSS JOIN\n",
    "- SELECT *\n",
    "- FROM employ CROSS JOIN department\n",
    "여기에 where 절을 걸어서 employment 6행, department 4행을 갖고 있을 때, 6의 4승 개 만들어버리기 때문에 느리다.\n",
    "\n",
    "INNER JOIN\n",
    "- SELECT employee.LastName, employee.DepartmentID, department.DepartmentName FROM employee\n",
    "- INNER JOIN department ON employee.DepartmentID = department.DepartmentID;\n",
    " \n",
    "LEFT OUTER JOIN\n",
    "- SELECT *\n",
    "- FROM employee\n",
    "- LEFT OUTER JOIN department ON employee.DepartmentID = department.DepartmentID;\n",
    "\n",
    "RIGHT OUTER JOIN\n",
    "- SELECT *\n",
    "- FROM employee RIGHT OUTER JOIN department ON employee.DepartmentID = department.DepartmentID\n",
    "\n",
    "FULL OUTER JOIN 둘 다 모두 해당 되는 경우\n",
    "- SELECT *\n",
    "- FROM employee FULL OUTER JOIN depatment ON employee.DepartmentID = department.DepartmentID\n"
   ]
  },
  {
   "cell_type": "markdown",
   "metadata": {},
   "source": [
    "## SQLite\n",
    "\n",
    "- open source db\n",
    "- serverless (direct io)\n",
    "- self-contained\n",
    "- single disk file\n",
    "- zero configuration\n",
    "- supports RDBMS features such as ACID , SQL syntax, transactions\n",
    "\n"
   ]
  },
  {
   "cell_type": "code",
   "execution_count": 14,
   "metadata": {},
   "outputs": [],
   "source": [
    "import sqlite3"
   ]
  },
  {
   "cell_type": "code",
   "execution_count": 15,
   "metadata": {},
   "outputs": [
    {
     "data": {
      "text/plain": [
       "'2.6.0'"
      ]
     },
     "execution_count": 15,
     "metadata": {},
     "output_type": "execute_result"
    }
   ],
   "source": [
    "sqlite3.version"
   ]
  },
  {
   "cell_type": "code",
   "execution_count": 20,
   "metadata": {},
   "outputs": [],
   "source": [
    "# 위는 sqlite 패키지 버전이고 아래는 sqlite 자체의 버전을 의미한다."
   ]
  },
  {
   "cell_type": "code",
   "execution_count": 16,
   "metadata": {},
   "outputs": [
    {
     "data": {
      "text/plain": [
       "(2, 6, 0)"
      ]
     },
     "execution_count": 16,
     "metadata": {},
     "output_type": "execute_result"
    }
   ],
   "source": [
    "sqlite3.version_info"
   ]
  },
  {
   "cell_type": "code",
   "execution_count": 18,
   "metadata": {},
   "outputs": [
    {
     "data": {
      "text/plain": [
       "'3.21.0'"
      ]
     },
     "execution_count": 18,
     "metadata": {},
     "output_type": "execute_result"
    }
   ],
   "source": [
    "sqlite3.sqlite_version"
   ]
  },
  {
   "cell_type": "code",
   "execution_count": 19,
   "metadata": {},
   "outputs": [
    {
     "data": {
      "text/plain": [
       "(3, 21, 0)"
      ]
     },
     "execution_count": 19,
     "metadata": {},
     "output_type": "execute_result"
    }
   ],
   "source": [
    "sqlite3.sqlite_version_info"
   ]
  },
  {
   "cell_type": "code",
   "execution_count": 21,
   "metadata": {},
   "outputs": [],
   "source": [
    "# 유저는 하나, 서버는 없지만, 다른 점은 일반적인 디비랑 매우 비슷하다.\n",
    "# 우선 디비가 잇는 서버에 접속해야한다.\n"
   ]
  },
  {
   "cell_type": "code",
   "execution_count": 22,
   "metadata": {},
   "outputs": [],
   "source": [
    "# conn = sqlite3.connect('경로/이름' or ':memory') -> DB가 있다면 경로를, 없다면 on memory 라는 의미로 ':memory'를 넣는다."
   ]
  },
  {
   "cell_type": "code",
   "execution_count": 23,
   "metadata": {},
   "outputs": [
    {
     "ename": "SyntaxError",
     "evalue": "invalid syntax (<ipython-input-23-09d832332f3e>, line 1)",
     "output_type": "error",
     "traceback": [
      "\u001b[1;36m  File \u001b[1;32m\"<ipython-input-23-09d832332f3e>\"\u001b[1;36m, line \u001b[1;32m1\u001b[0m\n\u001b[1;33m    opens a connection to the sqlite database file datatbase.\u001b[0m\n\u001b[1;37m          ^\u001b[0m\n\u001b[1;31mSyntaxError\u001b[0m\u001b[1;31m:\u001b[0m invalid syntax\n"
     ]
    }
   ],
   "source": [
    "#opens a connection to the sqlite database file datatbase. you can use \":memory:\" to open\n",
    "# a database connection to a adatabase tha resides in RAM instead of on disk"
   ]
  },
  {
   "cell_type": "code",
   "execution_count": 25,
   "metadata": {},
   "outputs": [],
   "source": [
    "conn = sqlite3.connect(':memory:')"
   ]
  },
  {
   "cell_type": "code",
   "execution_count": 26,
   "metadata": {},
   "outputs": [
    {
     "data": {
      "text/plain": [
       "sqlite3.Connection"
      ]
     },
     "execution_count": 26,
     "metadata": {},
     "output_type": "execute_result"
    }
   ],
   "source": [
    "type(conn)"
   ]
  },
  {
   "cell_type": "code",
   "execution_count": 27,
   "metadata": {},
   "outputs": [
    {
     "data": {
      "text/plain": [
       "<sqlite3.Connection at 0x254bdddfc70>"
      ]
     },
     "execution_count": 27,
     "metadata": {},
     "output_type": "execute_result"
    }
   ],
   "source": [
    "conn"
   ]
  },
  {
   "cell_type": "code",
   "execution_count": 28,
   "metadata": {},
   "outputs": [],
   "source": [
    "# 하나의 DB 는 하나의 파일이다. "
   ]
  },
  {
   "cell_type": "code",
   "execution_count": 29,
   "metadata": {},
   "outputs": [],
   "source": [
    "cur = conn.cursor()"
   ]
  },
  {
   "cell_type": "code",
   "execution_count": 30,
   "metadata": {},
   "outputs": [],
   "source": [
    "# Cursor(facctory = cursor): the cursor method accepts a single optional parameter factory\n",
    "# if supplied , this musst be a acallable returning an instead of cursor of its subclasses"
   ]
  },
  {
   "cell_type": "code",
   "execution_count": null,
   "metadata": {},
   "outputs": [],
   "source": []
  },
  {
   "cell_type": "code",
   "execution_count": 31,
   "metadata": {},
   "outputs": [
    {
     "data": {
      "text/plain": [
       "['__class__',\n",
       " '__delattr__',\n",
       " '__dir__',\n",
       " '__doc__',\n",
       " '__eq__',\n",
       " '__format__',\n",
       " '__ge__',\n",
       " '__getattribute__',\n",
       " '__gt__',\n",
       " '__hash__',\n",
       " '__init__',\n",
       " '__init_subclass__',\n",
       " '__iter__',\n",
       " '__le__',\n",
       " '__lt__',\n",
       " '__ne__',\n",
       " '__new__',\n",
       " '__next__',\n",
       " '__reduce__',\n",
       " '__reduce_ex__',\n",
       " '__repr__',\n",
       " '__setattr__',\n",
       " '__sizeof__',\n",
       " '__str__',\n",
       " '__subclasshook__',\n",
       " 'arraysize',\n",
       " 'close',\n",
       " 'connection',\n",
       " 'description',\n",
       " 'execute',\n",
       " 'executemany',\n",
       " 'executescript',\n",
       " 'fetchall',\n",
       " 'fetchmany',\n",
       " 'fetchone',\n",
       " 'lastrowid',\n",
       " 'row_factory',\n",
       " 'rowcount',\n",
       " 'setinputsizes',\n",
       " 'setoutputsize']"
      ]
     },
     "execution_count": 31,
     "metadata": {},
     "output_type": "execute_result"
    }
   ],
   "source": [
    "dir(cur)"
   ]
  },
  {
   "cell_type": "code",
   "execution_count": 33,
   "metadata": {},
   "outputs": [],
   "source": [
    "# 'execute',\n",
    "# 'executemany',\n",
    "# 'executescript',\n",
    "# 'fetchall',\n",
    "# 'fetchmany',\n",
    "# 'fetchone',\n",
    "# 얘내들을 유의해야 한다."
   ]
  },
  {
   "cell_type": "code",
   "execution_count": 34,
   "metadata": {},
   "outputs": [
    {
     "data": {
      "text/plain": [
       "['DataError',\n",
       " 'DatabaseError',\n",
       " 'Error',\n",
       " 'IntegrityError',\n",
       " 'InterfaceError',\n",
       " 'InternalError',\n",
       " 'NotSupportedError',\n",
       " 'OperationalError',\n",
       " 'ProgrammingError',\n",
       " 'Warning',\n",
       " '__call__',\n",
       " '__class__',\n",
       " '__delattr__',\n",
       " '__dir__',\n",
       " '__doc__',\n",
       " '__enter__',\n",
       " '__eq__',\n",
       " '__exit__',\n",
       " '__format__',\n",
       " '__ge__',\n",
       " '__getattribute__',\n",
       " '__gt__',\n",
       " '__hash__',\n",
       " '__init__',\n",
       " '__init_subclass__',\n",
       " '__le__',\n",
       " '__lt__',\n",
       " '__ne__',\n",
       " '__new__',\n",
       " '__reduce__',\n",
       " '__reduce_ex__',\n",
       " '__repr__',\n",
       " '__setattr__',\n",
       " '__sizeof__',\n",
       " '__str__',\n",
       " '__subclasshook__',\n",
       " 'close',\n",
       " 'commit',\n",
       " 'create_aggregate',\n",
       " 'create_collation',\n",
       " 'create_function',\n",
       " 'cursor',\n",
       " 'enable_load_extension',\n",
       " 'execute',\n",
       " 'executemany',\n",
       " 'executescript',\n",
       " 'in_transaction',\n",
       " 'interrupt',\n",
       " 'isolation_level',\n",
       " 'iterdump',\n",
       " 'load_extension',\n",
       " 'rollback',\n",
       " 'row_factory',\n",
       " 'set_authorizer',\n",
       " 'set_progress_handler',\n",
       " 'set_trace_callback',\n",
       " 'text_factory',\n",
       " 'total_changes']"
      ]
     },
     "execution_count": 34,
     "metadata": {},
     "output_type": "execute_result"
    }
   ],
   "source": [
    "dir(conn)"
   ]
  },
  {
   "cell_type": "code",
   "execution_count": 35,
   "metadata": {},
   "outputs": [],
   "source": [
    "# 커넥션에 있는 엑세큐트는 임시로 만드는 것이다.\n",
    "# connection에 있는 execute 문은 잊어버리세요 \n",
    "# Conneciton 은 db 접속을 위해 필요하다. \n",
    "# 실제 query를 전달하고 받으려면 cursor의 execute / fetch를 시행해야 한다.\n",
    "# execute는 한줄 짜리 \n",
    "# 같은 쿼리 가지고 시퀜셜한 데이터를 반복적으로 집어 넣을 때 executemany\n",
    "# semicolon이 여러개인 것을 넣을 때  executescript \n",
    "# fetch는 전체 결과를 다 받아온다. list의 형태로\n",
    "# fetchone 하나\n",
    "# fetchmany는 지정한 여러개를 가지고 온다. \n"
   ]
  },
  {
   "cell_type": "code",
   "execution_count": 39,
   "metadata": {},
   "outputs": [
    {
     "data": {
      "text/plain": [
       "<sqlite3.Cursor at 0x254bdda5c70>"
      ]
     },
     "execution_count": 39,
     "metadata": {},
     "output_type": "execute_result"
    }
   ],
   "source": [
    "cur.execute(\"select sqlite_version()\")"
   ]
  },
  {
   "cell_type": "code",
   "execution_count": 40,
   "metadata": {},
   "outputs": [
    {
     "data": {
      "text/plain": [
       "[('3.21.0',)]"
      ]
     },
     "execution_count": 40,
     "metadata": {},
     "output_type": "execute_result"
    }
   ],
   "source": [
    "cur.fetchall()"
   ]
  },
  {
   "cell_type": "code",
   "execution_count": 42,
   "metadata": {},
   "outputs": [
    {
     "data": {
      "text/plain": [
       "False"
      ]
     },
     "execution_count": 42,
     "metadata": {},
     "output_type": "execute_result"
    }
   ],
   "source": [
    "sqlite3.complete_statement(\"select sqlite_version()\")"
   ]
  },
  {
   "cell_type": "code",
   "execution_count": 43,
   "metadata": {},
   "outputs": [
    {
     "data": {
      "text/plain": [
       "True"
      ]
     },
     "execution_count": 43,
     "metadata": {},
     "output_type": "execute_result"
    }
   ],
   "source": [
    "sqlite3.complete_statement(\"select sqlite_version();\")"
   ]
  },
  {
   "cell_type": "code",
   "execution_count": 44,
   "metadata": {},
   "outputs": [],
   "source": [
    "# 반드시 세미 콜론 붙이라고 보여준 것이다. "
   ]
  },
  {
   "cell_type": "markdown",
   "metadata": {},
   "source": [
    "## data type of sqlite\n",
    "- null\n",
    "- integer\n",
    "- real; the value in floating point type\n",
    "- text:the value is a text string, stored using the data encoding\n",
    "- BLOB: the value is a blob of data, stored exxactly as it was input byte type of large of bytes??\n",
    "\n"
   ]
  },
  {
   "cell_type": "code",
   "execution_count": 45,
   "metadata": {},
   "outputs": [],
   "source": [
    "#cur.execute('sql')\n",
    "# execute(sql[,parameters]): executes an sql statement. the sql statement may be \n",
    "# parameterized. the sqite3 module supports \n"
   ]
  },
  {
   "cell_type": "code",
   "execution_count": 53,
   "metadata": {},
   "outputs": [
    {
     "name": "stdout",
     "output_type": "stream",
     "text": [
      "('katelin', 72)\n"
     ]
    }
   ],
   "source": [
    "\n",
    "#cur.execute(\"create table people (name_last, age)\")\n",
    "who = 'katelin'\n",
    "age = 72\n",
    "\n",
    "# this is the qmark styole\n",
    "cur. execute(\"Insert into people values (?,?)\", (who, age))\n",
    "\n",
    "# and this is the named style\n",
    "cur.execute(\"select * from people where name_last = :who and age=:age\",{'who':who, 'age':age})\n",
    "\n",
    "print(cur.fetchone())"
   ]
  },
  {
   "cell_type": "code",
   "execution_count": null,
   "metadata": {},
   "outputs": [],
   "source": [
    "# cur. executemany('SQL',paramas)\n",
    "# executes an sql dcommand against all parameter sequences or mappnings found in the \n",
    "# sequence seq_of_parameters. The sqlite3 module also allow using an interator uielding\n",
    "# parametrs instead of a sequence"
   ]
  },
  {
   "cell_type": "code",
   "execution_count": 65,
   "metadata": {},
   "outputs": [
    {
     "data": {
      "text/plain": [
       "<sqlite3.Cursor at 0x254bdda5c70>"
      ]
     },
     "execution_count": 65,
     "metadata": {},
     "output_type": "execute_result"
    }
   ],
   "source": [
    "sql = \"insert into people values (?,?)\"\n",
    "curData = [('A',1),('B',2),('c',3)]\n",
    "\n",
    "cur.executemany(sql,curData)"
   ]
  },
  {
   "cell_type": "code",
   "execution_count": 66,
   "metadata": {},
   "outputs": [
    {
     "name": "stdout",
     "output_type": "stream",
     "text": [
      "[]\n"
     ]
    }
   ],
   "source": [
    "print(cur.fetchmany())"
   ]
  },
  {
   "cell_type": "code",
   "execution_count": 67,
   "metadata": {},
   "outputs": [
    {
     "ename": "OperationalError",
     "evalue": "unrecognized token: \":\"",
     "output_type": "error",
     "traceback": [
      "\u001b[1;31m---------------------------------------------------------------------------\u001b[0m",
      "\u001b[1;31mOperationalError\u001b[0m                          Traceback (most recent call last)",
      "\u001b[1;32m<ipython-input-67-4876de55b061>\u001b[0m in \u001b[0;36m<module>\u001b[1;34m()\u001b[0m\n\u001b[0;32m      2\u001b[0m \u001b[0mcurData2\u001b[0m \u001b[1;33m=\u001b[0m \u001b[1;33m[\u001b[0m\u001b[1;33m{\u001b[0m\u001b[1;34m'A'\u001b[0m\u001b[1;33m:\u001b[0m\u001b[1;36m1\u001b[0m\u001b[1;33m,\u001b[0m \u001b[1;34m'B'\u001b[0m\u001b[1;33m:\u001b[0m\u001b[1;36m2\u001b[0m\u001b[1;33m,\u001b[0m \u001b[1;34m'C'\u001b[0m\u001b[1;33m:\u001b[0m\u001b[1;36m3\u001b[0m\u001b[1;33m}\u001b[0m\u001b[1;33m]\u001b[0m\u001b[1;33m\u001b[0m\u001b[0m\n\u001b[0;32m      3\u001b[0m \u001b[1;33m\u001b[0m\u001b[0m\n\u001b[1;32m----> 4\u001b[1;33m \u001b[0mcur\u001b[0m\u001b[1;33m.\u001b[0m\u001b[0mexecutemany\u001b[0m\u001b[1;33m(\u001b[0m\u001b[0msql2\u001b[0m\u001b[1;33m,\u001b[0m \u001b[0mcurData2\u001b[0m\u001b[1;33m)\u001b[0m\u001b[1;33m\u001b[0m\u001b[0m\n\u001b[0m",
      "\u001b[1;31mOperationalError\u001b[0m: unrecognized token: \":\""
     ]
    }
   ],
   "source": [
    "sql2 = 'select * from people where name_last = :who and age=:'\n",
    "curData2 = [{'A':1, 'B':2, 'C':3}]\n",
    "\n",
    "cur.executemany(sql2, curData2)"
   ]
  },
  {
   "cell_type": "code",
   "execution_count": 68,
   "metadata": {},
   "outputs": [],
   "source": [
    "# executescript\n",
    "# cur.executescript('''SQL1; SQL2; ...  ''')\n",
    "# this is a nonstandrad convenience method for executing multiple SQL statements at once\n",
    "# it issuees a COMMIT statement first, then executes the SQL script it gets as a parameter\n"
   ]
  },
  {
   "cell_type": "code",
   "execution_count": null,
   "metadata": {},
   "outputs": [],
   "source": [
    "# 항상 COMMIT을 하고 다음을 진행한다. "
   ]
  },
  {
   "cell_type": "code",
   "execution_count": 73,
   "metadata": {},
   "outputs": [
    {
     "data": {
      "text/plain": [
       "<sqlite3.Cursor at 0x254bdda5c70>"
      ]
     },
     "execution_count": 73,
     "metadata": {},
     "output_type": "execute_result"
    }
   ],
   "source": [
    "cur.executescript('''\n",
    "    create table person(\n",
    "        first_name text primary key,\n",
    "        last_name text not null\n",
    "    );\n",
    "    \n",
    "    insert into person values('name','kim'); ''')"
   ]
  },
  {
   "cell_type": "code",
   "execution_count": 74,
   "metadata": {},
   "outputs": [
    {
     "data": {
      "text/plain": [
       "<sqlite3.Connection at 0x254bdddfc70>"
      ]
     },
     "execution_count": 74,
     "metadata": {},
     "output_type": "execute_result"
    }
   ],
   "source": [
    "conn"
   ]
  },
  {
   "cell_type": "code",
   "execution_count": 89,
   "metadata": {},
   "outputs": [],
   "source": [
    "conn.close()"
   ]
  },
  {
   "cell_type": "code",
   "execution_count": 90,
   "metadata": {},
   "outputs": [
    {
     "data": {
      "text/plain": [
       "<sqlite3.Connection at 0x254bdddfd50>"
      ]
     },
     "execution_count": 90,
     "metadata": {},
     "output_type": "execute_result"
    }
   ],
   "source": [
    "conn"
   ]
  },
  {
   "cell_type": "code",
   "execution_count": 91,
   "metadata": {},
   "outputs": [],
   "source": [
    "# DB browser for SQLite라는 맥 프로그램 이 있다. "
   ]
  },
  {
   "cell_type": "code",
   "execution_count": 92,
   "metadata": {},
   "outputs": [],
   "source": [
    "#cur.fetchone()\n",
    "#cur.fetchall()"
   ]
  },
  {
   "cell_type": "code",
   "execution_count": 93,
   "metadata": {
    "scrolled": true
   },
   "outputs": [
    {
     "name": "stdout",
     "output_type": "stream",
     "text": [
      "Opened Database Successfully\n"
     ]
    },
    {
     "ename": "OperationalError",
     "evalue": "table COMPANY already exists",
     "output_type": "error",
     "traceback": [
      "\u001b[1;31m---------------------------------------------------------------------------\u001b[0m",
      "\u001b[1;31mOperationalError\u001b[0m                          Traceback (most recent call last)",
      "\u001b[1;32m<ipython-input-93-53b134b5b096>\u001b[0m in \u001b[0;36m<module>\u001b[1;34m()\u001b[0m\n\u001b[0;32m     13\u001b[0m         \u001b[0mADDRESS\u001b[0m        \u001b[0mCHAR\u001b[0m\u001b[1;33m(\u001b[0m\u001b[1;36m50\u001b[0m\u001b[1;33m)\u001b[0m\u001b[1;33m,\u001b[0m\u001b[1;33m\u001b[0m\u001b[0m\n\u001b[0;32m     14\u001b[0m         SALARY         REAL);\n\u001b[1;32m---> 15\u001b[1;33m ''')\n\u001b[0m\u001b[0;32m     16\u001b[0m \u001b[0mprint\u001b[0m\u001b[1;33m(\u001b[0m\u001b[1;34m\"Table created successfully\"\u001b[0m\u001b[1;33m)\u001b[0m\u001b[1;33m\u001b[0m\u001b[0m\n",
      "\u001b[1;31mOperationalError\u001b[0m: table COMPANY already exists"
     ]
    }
   ],
   "source": [
    "# DDL\n",
    "\n",
    "#create\n",
    "\n",
    "conn = sqlite3.connect('create.db')\n",
    "print(\"Opened Database Successfully\")\n",
    "cur = conn.cursor()\n",
    "cur.execute('''\n",
    "    CREATE TABLE COMPANY(\n",
    "        ID INT PRIMARY KEY  NOT NULL,\n",
    "        NAME           TEXT NOT NULL,\n",
    "        AGE            INT  NOT NULL,\n",
    "        ADDRESS        CHAR(50),\n",
    "        SALARY         REAL);\n",
    "''')\n",
    "print(\"Table created successfully\")"
   ]
  },
  {
   "cell_type": "code",
   "execution_count": 94,
   "metadata": {},
   "outputs": [
    {
     "data": {
      "text/plain": [
       "[]"
      ]
     },
     "execution_count": 94,
     "metadata": {},
     "output_type": "execute_result"
    }
   ],
   "source": [
    "cur.fetchall()"
   ]
  },
  {
   "cell_type": "code",
   "execution_count": 95,
   "metadata": {
    "scrolled": true
   },
   "outputs": [
    {
     "ename": "IntegrityError",
     "evalue": "UNIQUE constraint failed: COMPANY.ID",
     "output_type": "error",
     "traceback": [
      "\u001b[1;31m---------------------------------------------------------------------------\u001b[0m",
      "\u001b[1;31mIntegrityError\u001b[0m                            Traceback (most recent call last)",
      "\u001b[1;32m<ipython-input-95-b112a3363bbd>\u001b[0m in \u001b[0;36m<module>\u001b[1;34m()\u001b[0m\n\u001b[0;32m      1\u001b[0m \u001b[1;31m# DML\u001b[0m\u001b[1;33m\u001b[0m\u001b[1;33m\u001b[0m\u001b[0m\n\u001b[1;32m----> 2\u001b[1;33m \u001b[0mcur\u001b[0m\u001b[1;33m.\u001b[0m\u001b[0mexecute\u001b[0m\u001b[1;33m(\u001b[0m\u001b[1;34m\"INSERT INTO COMPANY (ID,NAME, AGE, ADDRESS, SALARY) VALUES(1, 'PAUL', 32, 'CALIFORNIA',20000.00)\"\u001b[0m\u001b[1;33m)\u001b[0m\u001b[1;33m;\u001b[0m\u001b[1;33m\u001b[0m\u001b[0m\n\u001b[0m\u001b[0;32m      3\u001b[0m cur.execute(\"INSERT INTO COMPANY (ID,NAME, AGE, ADDRESS, SALARY) VALUES(:id, :name, :age, :address,:salary)\",\n\u001b[0;32m      4\u001b[0m             {'id':2, 'name':'allen','age':25, 'address':'texas', 'salary':15000.00});\n\u001b[0;32m      5\u001b[0m \u001b[1;33m\u001b[0m\u001b[0m\n",
      "\u001b[1;31mIntegrityError\u001b[0m: UNIQUE constraint failed: COMPANY.ID"
     ]
    }
   ],
   "source": [
    "# DML\n",
    "cur.execute(\"INSERT INTO COMPANY (ID,NAME, AGE, ADDRESS, SALARY) VALUES(1, 'PAUL', 32, 'CALIFORNIA',20000.00)\");\n",
    "cur.execute(\"INSERT INTO COMPANY (ID,NAME, AGE, ADDRESS, SALARY) VALUES(:id, :name, :age, :address,:salary)\",\n",
    "            {'id':2, 'name':'allen','age':25, 'address':'texas', 'salary':15000.00});\n",
    "\n",
    "data = [(3,'teddy',23,'norway', 20000.00),\n",
    "        (4, 'mark',25,'rich-mond',65000.00)]\n",
    "cur.executemany(\"INSERT INTO COMPANY (ID,NAME,AGE,ADDRESS, SALARY) VALUES (?,?,?,?,?)\", data);\n",
    "cur.executescript(\"\"\"\n",
    "    INSERT INTO COMPANY (ID,NAME,AGE,ADDRESS, SALARY)\n",
    "    VALUES(5,'MARK1',25,'RICHMOND',65000.00);\n",
    "    \n",
    "    INSERT INTO COMPANY (ID,NAME,AGE,ADDRESS, SALARY)\n",
    "    VALUES (6,'MARK2',25,'RICHMOND',65000.00)\n",
    "\"\"\");"
   ]
  },
  {
   "cell_type": "code",
   "execution_count": 96,
   "metadata": {},
   "outputs": [],
   "source": [
    "# 이렇게 CONN으로 바로 하면 커서를 받아놓고 하지 않았기 때문에 데이터가 다 보여 ㄷㄷ"
   ]
  },
  {
   "cell_type": "code",
   "execution_count": null,
   "metadata": {},
   "outputs": [],
   "source": [
    "# UPDATE"
   ]
  },
  {
   "cell_type": "code",
   "execution_count": 105,
   "metadata": {},
   "outputs": [
    {
     "name": "stdout",
     "output_type": "stream",
     "text": [
      "Total numer of rows updated :  1\n"
     ]
    }
   ],
   "source": [
    "cid = 1\n",
    "cur.execute(\"UPDATE COMPANY set SALARY = 25000.00 WHERE ID = :id\",{'id': cid})\n",
    "conn.commit()\n",
    "print(\"Total numer of rows updated : \", conn.total_changes)"
   ]
  },
  {
   "cell_type": "code",
   "execution_count": 106,
   "metadata": {},
   "outputs": [],
   "source": [
    "# DELETE"
   ]
  },
  {
   "cell_type": "code",
   "execution_count": 107,
   "metadata": {},
   "outputs": [
    {
     "name": "stdout",
     "output_type": "stream",
     "text": [
      "Total number of rows deleted :  2\n"
     ]
    }
   ],
   "source": [
    "cur.execute(\"DELETE FROM COMPANY WHERE ID = 2;\")\n",
    "print(\"Total number of rows deleted : \", conn.total_changes)\n"
   ]
  },
  {
   "cell_type": "code",
   "execution_count": 108,
   "metadata": {},
   "outputs": [],
   "source": [
    "# db 생성 / 열기 cursor 생성 에러 대처 방법\n",
    "#import sqlite3 as sql # ERror handling\n",
    "#con = None\n",
    "#try:\n",
    "#    con = sql.connect('test.db') "
   ]
  },
  {
   "cell_type": "code",
   "execution_count": null,
   "metadata": {},
   "outputs": [],
   "source": []
  },
  {
   "cell_type": "code",
   "execution_count": 114,
   "metadata": {
    "scrolled": true
   },
   "outputs": [
    {
     "ename": "AttributeError",
     "evalue": "'str' object has no attribute 'connect'",
     "output_type": "error",
     "traceback": [
      "\u001b[1;31m---------------------------------------------------------------------------\u001b[0m",
      "\u001b[1;31mAttributeError\u001b[0m                            Traceback (most recent call last)",
      "\u001b[1;32m<ipython-input-114-b684e50d6d95>\u001b[0m in \u001b[0;36m<module>\u001b[1;34m()\u001b[0m\n\u001b[1;32m----> 1\u001b[1;33m \u001b[0mcon\u001b[0m \u001b[1;33m=\u001b[0m \u001b[0msql\u001b[0m\u001b[1;33m.\u001b[0m\u001b[0mconnect\u001b[0m\u001b[1;33m(\u001b[0m\u001b[1;34m'test.db'\u001b[0m\u001b[1;33m)\u001b[0m\u001b[1;33m\u001b[0m\u001b[0m\n\u001b[0m\u001b[0;32m      2\u001b[0m \u001b[1;33m\u001b[0m\u001b[0m\n\u001b[0;32m      3\u001b[0m \u001b[1;32mwith\u001b[0m \u001b[0mcon\u001b[0m\u001b[1;33m:\u001b[0m\u001b[1;33m\u001b[0m\u001b[0m\n\u001b[0;32m      4\u001b[0m     \u001b[0mcur\u001b[0m \u001b[1;33m=\u001b[0m \u001b[0mcon\u001b[0m\u001b[1;33m.\u001b[0m\u001b[0mcursor\u001b[0m\u001b[1;33m(\u001b[0m\u001b[1;33m)\u001b[0m\u001b[1;33m\u001b[0m\u001b[0m\n\u001b[0;32m      5\u001b[0m     \u001b[0mcur\u001b[0m\u001b[1;33m.\u001b[0m\u001b[0mexecute\u001b[0m\u001b[1;33m(\u001b[0m\u001b[1;34m\"CREATE TABLE Cars(ID INT, Name TEXT, Price INT)\"\u001b[0m\u001b[1;33m)\u001b[0m\u001b[1;33m\u001b[0m\u001b[0m\n",
      "\u001b[1;31mAttributeError\u001b[0m: 'str' object has no attribute 'connect'"
     ]
    }
   ],
   "source": [
    "con = sql.connect('test.db')\n",
    "\n",
    "with con:\n",
    "    cur = con.cursor()\n",
    "    cur.execute(\"CREATE TABLE Cars(ID INT, Name TEXT, Price INT)\")\n",
    "    cur.execute(\"INSERT INTO Cars VALUES(1,'audi',51223)\")\n",
    "    cur.execute(\"INSERT INTO Cars VALUES(1,'audi',51223)\")\n",
    "    cur.execute(\"INSERT INTO Cars VALUES(1,'audi',51223)\")\n",
    "    cur.execute(\"INSERT INTO Cars VALUES(1,'audi',51223)\")\n",
    "    cur.execute(\"INSERT INTO Cars VALUES(1,'audi',51223)\")\n",
    "    cur.execute(\"INSERT INTO Cars VALUES(1,'audi',51223)\")"
   ]
  },
  {
   "cell_type": "markdown",
   "metadata": {},
   "source": [
    "### TABLE 생성\n",
    "- CONNECT TABLE Artist(\n",
    "         id INTEGER NOT NULL PRIMARY KEY AUTOINCREMENT UNIQUE, name TEXT)\n",
    "\n",
    "- CONNECT TABLE Genre(\n",
    "         id "
   ]
  },
  {
   "cell_type": "code",
   "execution_count": 120,
   "metadata": {},
   "outputs": [
    {
     "ename": "OperationalError",
     "evalue": "table Artist already exists",
     "output_type": "error",
     "traceback": [
      "\u001b[1;31m---------------------------------------------------------------------------\u001b[0m",
      "\u001b[1;31mOperationalError\u001b[0m                          Traceback (most recent call last)",
      "\u001b[1;32m<ipython-input-120-341759f89a23>\u001b[0m in \u001b[0;36m<module>\u001b[1;34m()\u001b[0m\n\u001b[0;32m     22\u001b[0m         \u001b[0malbum_id\u001b[0m \u001b[0mINTEGER\u001b[0m\u001b[1;33m.\u001b[0m\u001b[1;33m\u001b[0m\u001b[0m\n\u001b[0;32m     23\u001b[0m         genre_id INTEGER) \n\u001b[1;32m---> 24\u001b[1;33m         ''');\n\u001b[0m\u001b[0;32m     25\u001b[0m \u001b[0mprint\u001b[0m\u001b[1;33m(\u001b[0m\u001b[1;34m\"Table created successfully\"\u001b[0m\u001b[1;33m)\u001b[0m\u001b[1;33m\u001b[0m\u001b[0m\n",
      "\u001b[1;31mOperationalError\u001b[0m: table Artist already exists"
     ]
    }
   ],
   "source": [
    "\n",
    "#conn = sqlite3.connect('playlist.db')\n",
    "#print(\"Opened Database Successfully\")\n",
    "#cur = conn.cursor()\n",
    "cur.executescript('''\n",
    "    CREATE TABLE Artist(\n",
    "        id INTEGER NOT NULL PRIMARY KEY AUTOINCREMENT UNIQUE, \n",
    "        name TEXT);\n",
    "    CREATE TABLE Genre(\n",
    "        id INTEGER NOT NULL PRIMARY KEY AUTOINCREMENT UNIQUE,\n",
    "        name TEXT);\n",
    "    CREATE TABLE Album(\n",
    "        id INTEGER NOT NULL PRIMARY KEY AUTOINCREMENT UNIQUE,\n",
    "        title TEXT,\n",
    "        artist_id INTEGER);\n",
    "    CREATE TABLE Track(\n",
    "        id INTEGER NOT NULL PRIMARY KEY AUTOINCREMENT UNIQUE,\n",
    "        title TEXT,\n",
    "        length INTEGER,\n",
    "        rating INTEGER,\n",
    "        count INTEGER,\n",
    "        album_id INTEGER.\n",
    "        genre_id INTEGER) \n",
    "        ''');\n",
    "print(\"Table created successfully\")"
   ]
  },
  {
   "cell_type": "code",
   "execution_count": 122,
   "metadata": {},
   "outputs": [],
   "source": [
    "cur.execute('CREATE TABLE Track(id INTEGER NOT NULL PRIMARY KEY AUTOINCREMENT UNIQUE,title TEXT,length INTEGER,rating INTEGER,count INTEGER,album_id INTEGER,genre_id INTEGER)');"
   ]
  },
  {
   "cell_type": "code",
   "execution_count": 124,
   "metadata": {},
   "outputs": [
    {
     "data": {
      "text/plain": [
       "<sqlite3.Cursor at 0x254bdda5810>"
      ]
     },
     "execution_count": 124,
     "metadata": {},
     "output_type": "execute_result"
    }
   ],
   "source": [
    "cur.execute('INSERT INTO Artist (name) VALUES(\"LED ZEPPLIN\")')\n",
    "cur.execute('INSERT INTO Artist (name) VALUES(\"AC/DC\")')\n",
    "cur.execute('INSERT INTO Genre (name) VALUES(\"rock\")')\n",
    "cur.execute('INSERT INTO Genre (name) VALUES(\"Metal\")')\n",
    "\n"
   ]
  },
  {
   "cell_type": "code",
   "execution_count": 126,
   "metadata": {},
   "outputs": [],
   "source": [
    "conn.commit()"
   ]
  },
  {
   "cell_type": "code",
   "execution_count": 138,
   "metadata": {},
   "outputs": [
    {
     "data": {
      "text/plain": [
       "<sqlite3.Cursor at 0x254bdda5810>"
      ]
     },
     "execution_count": 138,
     "metadata": {},
     "output_type": "execute_result"
    }
   ],
   "source": [
    "cur.execute(\"\"\"\n",
    "    INSERT INTO Album(title, artist_id)\n",
    "    VALUES(:Album,\n",
    "        (SELECT id\n",
    "        FROM Artist\n",
    "        WHERE name =:Artist))\"\"\",{\"Album\":\"Who Made Who\",\"Artist\":\"AC/DC\"})"
   ]
  },
  {
   "cell_type": "code",
   "execution_count": 139,
   "metadata": {},
   "outputs": [],
   "source": [
    "conn.commit()"
   ]
  },
  {
   "cell_type": "code",
   "execution_count": null,
   "metadata": {},
   "outputs": [],
   "source": []
  },
  {
   "cell_type": "code",
   "execution_count": 141,
   "metadata": {},
   "outputs": [
    {
     "data": {
      "text/plain": [
       "<sqlite3.Cursor at 0x254bdda5810>"
      ]
     },
     "execution_count": 141,
     "metadata": {},
     "output_type": "execute_result"
    }
   ],
   "source": [
    "cur.execute(\"\"\"\n",
    "    INSERT INTO Album(title, artist_id)\n",
    "    VALUES(:Album,\n",
    "        (SELECT id\n",
    "        FROM Artist\n",
    "        WHERE name =:Artist))\"\"\",{\"Album\":\"second jedai\",\"Artist\":\"LED ZEPPLIN\"})"
   ]
  },
  {
   "cell_type": "code",
   "execution_count": 142,
   "metadata": {},
   "outputs": [],
   "source": [
    "conn.commit()"
   ]
  },
  {
   "cell_type": "code",
   "execution_count": 146,
   "metadata": {},
   "outputs": [
    {
     "data": {
      "text/plain": [
       "<sqlite3.Cursor at 0x254bdda5810>"
      ]
     },
     "execution_count": 146,
     "metadata": {},
     "output_type": "execute_result"
    }
   ],
   "source": [
    "cur.executescript(\"\"\"\n",
    "    INSERT INTO Track(title, rating, length, count, album_id, genre_id) VALUES (\"Black Dog\",5,297,0,2,1);\n",
    "    INSERT INTO Track(title, rating, length, count, album_id, genre_id) VALUES (\"Stairway\",5,482,0,2,1);\n",
    "    INSERT INTO Track(title, rating, length, count, album_id, genre_id) VALUES (\"About to Rock\",5,313,0,1,2);\n",
    "    INSERT INTO Track(title, rating, length, count, album_id, genre_id) VALUES (\"Who made Who\",5,207,0,1,2);\n",
    "\"\"\")"
   ]
  },
  {
   "cell_type": "code",
   "execution_count": 147,
   "metadata": {},
   "outputs": [],
   "source": [
    "conn.commit()"
   ]
  },
  {
   "cell_type": "code",
   "execution_count": 148,
   "metadata": {},
   "outputs": [
    {
     "data": {
      "text/plain": [
       "'\\n\\n'"
      ]
     },
     "execution_count": 148,
     "metadata": {},
     "output_type": "execute_result"
    }
   ],
   "source": [
    "'''\n",
    "select Album.title, Artist name\n",
    "    from Album\n",
    "        join Artist on  # 아무것도 안적어놨기 때문에 inner join 이다. sqlite에선 \n",
    "            album.artist_id = Artist.id\n",
    "'''"
   ]
  },
  {
   "cell_type": "code",
   "execution_count": 149,
   "metadata": {},
   "outputs": [
    {
     "data": {
      "text/plain": [
       "'\\nselect Track.title, Genre.name\\n    from Track\\n        join Genre on  # cross join처럼 만들면 된다, Genre on 뒤에 필요한 테이블 처럼 쓰며ㅑㄴ 된다. \\n            Tracck.genre_id = Genre.id\\n'"
      ]
     },
     "execution_count": 149,
     "metadata": {},
     "output_type": "execute_result"
    }
   ],
   "source": [
    "# right-join을 사용하면 -> right join not supported 이런 식으로 쓰인다. \n",
    "'''\n",
    "select Track.title, Genre.name\n",
    "    from Track\n",
    "        join Genre on  # cross join처럼 만들면 된다, Genre on 뒤에 필요한 테이블 처럼 쓰며ㅑㄴ 된다. \n",
    "            Tracck.genre_id = Genre.id\n",
    "'''"
   ]
  },
  {
   "cell_type": "code",
   "execution_count": null,
   "metadata": {},
   "outputs": [],
   "source": [
    "'''\n",
    "select Track.title, Artist.name, Album title, Genre.name\n",
    "    from Track\n",
    "        join Artist join Album join Genre on\n",
    "            Track.Album_id = Album_id\n",
    "            and\n",
    "            Track.genre_id = Genre_id\n",
    "            and\n",
    "            Album.artist_id = Artist_id\n",
    "'''"
   ]
  }
 ],
 "metadata": {
  "kernelspec": {
   "display_name": "Python 3",
   "language": "python",
   "name": "python3"
  },
  "language_info": {
   "codemirror_mode": {
    "name": "ipython",
    "version": 3
   },
   "file_extension": ".py",
   "mimetype": "text/x-python",
   "name": "python",
   "nbconvert_exporter": "python",
   "pygments_lexer": "ipython3",
   "version": "3.6.5"
  }
 },
 "nbformat": 4,
 "nbformat_minor": 2
}
