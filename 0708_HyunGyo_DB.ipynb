{
 "cells": [
  {
   "cell_type": "markdown",
   "metadata": {},
   "source": [
    "# 빅데이터 "
   ]
  },
  {
   "cell_type": "markdown",
   "metadata": {},
   "source": [
    "- DBMS\n",
    "- ORM, RE\n",
    "- JSON, XML\n"
   ]
  },
  {
   "cell_type": "markdown",
   "metadata": {},
   "source": [
    "## DBMS"
   ]
  },
  {
   "cell_type": "markdown",
   "metadata": {},
   "source": [
    "- 80% Unstructured\n",
    "- 20% Structured"
   ]
  },
  {
   "cell_type": "markdown",
   "metadata": {},
   "source": [
    "- data : 있는 그대로의 값, 사실\n",
    "- information : 의사결정에 중요한 정보를 제공(data로부터 만들어진다)\n",
    "- DataBase: 안에 들어있는 데이터를 structured data 라고 부른다. \n",
    "    - interrelated data\n",
    "    - 통합 : 동일한데이터가 중복 안되게하는데, 최소한의 중복만 허용 \n",
    "    - 저장 : 컴퓨터로 접근 가능한 물리적 저장매체\n",
    "    - 공유 : 공동으로 소유하고 유지하며 이용하는 데이터\n",
    "    - 운영 : 존재 목적이나 기능 수행에 꼭 필요한 데이터 집합\n",
    "   "
   ]
  },
  {
   "cell_type": "markdown",
   "metadata": {},
   "source": [
    "### DB 특징\n",
    "- 실시간 접근성 (Real-time Accessibility)\n",
    "    - 데이터들 간의 밀접한 관계로 연결\n",
    "    - 중복 데이터를 배제하도록 지양\n",
    "    - 사용자의 어떤 요구에도 즉각 응답\n",
    "- 계속적인 변화 (Continuous evolution)\n",
    "    - 현실 세계의 상태를 정확히 반영\n",
    "    - 동적으로 삽입/삭제/수정하여 현재의 데이터 유지\n",
    "- 독시 공유 가능 \n",
    "    - 여러 사용자들이 동시에 이용\n",
    "    - 같은 시간에 같은 데이터에 접근하여 이용\n",
    "- 내용에 의한 참조 가능\n",
    "    - 저장된 주소나 위치에 의해서 참조하지 않고 사용자가 요구하는 데이터의 내용/값에 따라 참조\n"
   ]
  },
  {
   "cell_type": "markdown",
   "metadata": {},
   "source": [
    "### DBMS\n",
    "- collection of programs\n",
    "- manage the database strucetur\n",
    "- controls access to the data stored in the database\n",
    "\n",
    "### DBMS역할\n",
    "- create databases\n",
    "- insert, update, delete data\n",
    "- sort and query data\n",
    "- create form and report\n",
    "\n",
    "#### DBMS 역할과 장점 (데이터 베이스가 하는 일을 도와주는것, 뒤에 있는 내용이 DB가 하는 역할이고 그것들을 원활하게 만들어주는것) \n",
    "- improved data sharing\n",
    "- improved data security\n",
    "- Minimized data inconsistency\n",
    "- improved data access\n",
    "- improved decision making\n",
    "- increased end-user productivity\n",
    "- Reduce application development time"
   ]
  },
  {
   "cell_type": "markdown",
   "metadata": {},
   "source": [
    "### DBMS 종류\n",
    "- 계층형 모델\n",
    "- 네트워크형 모델\n",
    "\n",
    "#### 관계 데이터 모델(table) - 얘만 할거임. but ORM을 통해 밑에 애처럼 쓸수 있게 만든다??\n",
    "- 개체를 테이블, 개체 집합들 사이의 관계를 공통 속성으로 연결\n",
    "\n",
    "#### 객체 관계 모델 (object)\n",
    "- 속성-관계\n",
    "- 개체 관계"
   ]
  },
  {
   "cell_type": "markdown",
   "metadata": {},
   "source": [
    "## RDBMS\n",
    "\n",
    "- 왜 이걸 사용할까? (전체적 DBMS 의 특징)\n",
    "    - 데이터 안정성\n",
    "    - 동시 접근성\n",
    "    - 장애 허용성\n",
    "    - 데이터 무결성\n",
    "    - 데이터 확장성\n",
    "    - 데이터 보고서\n",
    "    "
   ]
  },
  {
   "cell_type": "markdown",
   "metadata": {},
   "source": [
    "- Relation / table\n",
    "- tuple/row or Record\n",
    "- attribute / Column or Field\n",
    "- cardinality / Number of Rows\n",
    "- degree / Number of colums\n",
    "- Domain / pool or legal values\n",
    "- Primary key / unique identifier"
   ]
  },
  {
   "cell_type": "markdown",
   "metadata": {},
   "source": [
    "## 개체 관계 모델\n",
    "- 개체 : 실세계에 존재하는 분리된 하나를 표현, 일반적으로 명사하나에 해당\n",
    "- 관계 : 개체들 사이에 존재하는 연관이나 연결, 일반적으로 동사에 해당, (minimum cardinality, maximum cardinality로 구성)\n",
    "- 속성 : 개체의 성질, 분류, 식별, 수량, 상태 등을 나타내는 세부 항목, 관계또한 속성 보유가능\n",
    "- 기본키"
   ]
  },
  {
   "cell_type": "markdown",
   "metadata": {},
   "source": [
    "관계 ( mapping cardinality)\n",
    "\n",
    "(min-card, max-card)"
   ]
  },
  {
   "cell_type": "markdown",
   "metadata": {},
   "source": [
    "이름으로 pk설정하면 hash처리를 못해서 시간차이가 많이남"
   ]
  },
  {
   "cell_type": "markdown",
   "metadata": {},
   "source": [
    "##  SQL (Structured Query Language)\n",
    "- RDBMS 의 데이터를 관리하기 위해 만들어진 언어\n",
    "- 자료의 검색과 관리, 데이터베이스 스키마 생성과 수정, 데이터 베이스 객체 접근 조정관리 등을 고민\n",
    "\n",
    "\n",
    "## SQL 명령\n",
    "- 데이터 정의 언어 (DDL)  => SUPER 관리자만\n",
    "    - CREATE, DROP, ALTER, TRUNCATE\n",
    "- 데이터 조작 언어 (DML)  => UPDATE, DELETE 권한 주면 안됨 (이 두개는 필드 나가서도 쓸일 없음)\n",
    "    - INSERT, UPDATE, DELETE, SELECT\n",
    "- 데이터 제어 언어 (DCL)\n",
    "    - GRANT, REVOKE"
   ]
  },
  {
   "cell_type": "markdown",
   "metadata": {},
   "source": [
    "SQL 구문 : 문(Statement), 절(Clause), 식(Expression), 술어(Predicate)"
   ]
  },
  {
   "cell_type": "markdown",
   "metadata": {},
   "source": [
    "## Data Type\n",
    "\n",
    "- Boolean\n",
    "- Character (char-고정폭, varchar-가변폭) -> char는 공간이 남으면 blank채우는데, varchar는 안채움\n",
    "- Exact numeric (numeric, decimal, integer, smallint, bigint)\n",
    "- Approximate numeric (real, float, double)\n",
    "- DateTime(date, time, timestamp) / Large Object(clob, blob)"
   ]
  },
  {
   "cell_type": "markdown",
   "metadata": {},
   "source": [
    "DATE/TIME"
   ]
  },
  {
   "cell_type": "markdown",
   "metadata": {},
   "source": [
    "# DDL\n",
    "\n",
    "CREATE TABLE table_name (\n",
    "\n",
    "id integer PRIMARY KEY,\n",
    "\n",
    "first_name varchar(15) not null\n",
    ");\n",
    "\n",
    "\n",
    "#### constraints\n",
    "- NOTNULL\n",
    "- UNIQUE\n",
    "- PRIMARY KEY\n",
    "- FOREIGN KEY\n",
    "- CHECK\n",
    "- DEFAULT\n",
    "- INDEX\n",
    "\n",
    "\n",
    "#### DROP\n",
    "- DROP object_type object_name;\n",
    "\n",
    "#### TRUNCATE (index number를 처음부터 다시시작함, delete는 index는 남아있음) -> 테스트 충분히 한다음 본서버로 넘어갈 때 싹 날림\n",
    "- TRUNCATE TABLE table_name; \n",
    "\n",
    "#### ALTER\n",
    "- ALTER object_type object_name parameters"
   ]
  },
  {
   "cell_type": "markdown",
   "metadata": {},
   "source": [
    "# DML\n",
    "\n",
    "#### INSERT\n",
    "- INSERT INTO table (column1 [,column2,...]) VALUES (value1[,value2,...])\n",
    "\n",
    "#### SELECT\n",
    "- SELECT column1,enum2,... from table_name\n",
    "\n",
    "- WHERE\n",
    "    - used filter r\n",
    "- GROUP BY\n",
    "\n",
    "'_r%' 한글자 + r + 뒤에아 무거나\n",
    "\n",
    "\n",
    "'''UDATE \n",
    "set\n",
    "where'''\n",
    "\n",
    "#### Join (얘때문에 DB를 쓴다?) -> 집합과 집합 사이에 어느 부분을 가져올 것이냐\n",
    "INNER JOIN (교집합)\n",
    "LEFT JOIN (LEFT 그대로)\n",
    "RIGHT JOIN (RIGHT 그대로)\n",
    "FULL OUTER JOIN (합집합)\n",
    "\n",
    "SELECT * from s INNER JOIN a ON sdf (???)\n",
    "id INT reference 다른 테이블 명(다른 테이블 PK) -> 다른 테이블 참조\n",
    "\n",
    "#### cross join(느려서 추천하지 않음)\n",
    "select * from employee cross join department; \n",
    "\n",
    "\n",
    "## 예시 찾기\n",
    "#### inner join\n",
    "#### left join\n",
    "#### right join\n",
    "#### full outer join"
   ]
  },
  {
   "cell_type": "markdown",
   "metadata": {},
   "source": [
    "### DCL \n",
    "-없음"
   ]
  },
  {
   "cell_type": "markdown",
   "metadata": {},
   "source": [
    "# SQLite\n",
    "\n",
    "- import sqlite3\n",
    "- sqlite3 version (string)\n",
    "- sqlite3.version_info (tuple)\n",
    "- sqlite3.sqlite_version\n",
    "- sqlite3.sqlite_version_info\n"
   ]
  },
  {
   "cell_type": "code",
   "execution_count": 4,
   "metadata": {},
   "outputs": [],
   "source": [
    "import sqlite3"
   ]
  },
  {
   "cell_type": "code",
   "execution_count": 11,
   "metadata": {},
   "outputs": [
    {
     "data": {
      "text/plain": [
       "'2.6.0'"
      ]
     },
     "execution_count": 11,
     "metadata": {},
     "output_type": "execute_result"
    }
   ],
   "source": [
    "sqlite3.version"
   ]
  },
  {
   "cell_type": "code",
   "execution_count": 12,
   "metadata": {
    "scrolled": true
   },
   "outputs": [
    {
     "data": {
      "text/plain": [
       "(2, 6, 0)"
      ]
     },
     "execution_count": 12,
     "metadata": {},
     "output_type": "execute_result"
    }
   ],
   "source": [
    "sqlite3.version_info"
   ]
  },
  {
   "cell_type": "code",
   "execution_count": 13,
   "metadata": {},
   "outputs": [
    {
     "data": {
      "text/plain": [
       "'3.27.2'"
      ]
     },
     "execution_count": 13,
     "metadata": {},
     "output_type": "execute_result"
    }
   ],
   "source": [
    "sqlite3.sqlite_version"
   ]
  },
  {
   "cell_type": "code",
   "execution_count": 14,
   "metadata": {
    "scrolled": true
   },
   "outputs": [
    {
     "data": {
      "text/plain": [
       "(3, 27, 2)"
      ]
     },
     "execution_count": 14,
     "metadata": {},
     "output_type": "execute_result"
    }
   ],
   "source": [
    "sqlite3.sqlite_version_info"
   ]
  },
  {
   "cell_type": "markdown",
   "metadata": {},
   "source": [
    "## DB 연결(생성)\n",
    "- conn = sqlite3.connect('경로/이름' or ':memory:')"
   ]
  },
  {
   "cell_type": "code",
   "execution_count": 23,
   "metadata": {},
   "outputs": [],
   "source": [
    "conn = sqlite3.connect(':memory:')"
   ]
  },
  {
   "cell_type": "code",
   "execution_count": 25,
   "metadata": {},
   "outputs": [
    {
     "data": {
      "text/plain": [
       "sqlite3.Connection"
      ]
     },
     "execution_count": 25,
     "metadata": {},
     "output_type": "execute_result"
    }
   ],
   "source": [
    "type(conn)"
   ]
  },
  {
   "cell_type": "markdown",
   "metadata": {},
   "source": [
    "## Cursor 생성\n",
    "- cur = conn.cursor()"
   ]
  },
  {
   "cell_type": "code",
   "execution_count": 58,
   "metadata": {},
   "outputs": [],
   "source": [
    "cur = conn.cursor() #cursor를 통해 sql문을 주고받는다"
   ]
  },
  {
   "cell_type": "code",
   "execution_count": 59,
   "metadata": {
    "scrolled": true
   },
   "outputs": [],
   "source": [
    "# excute- (sql문 실행) 랑 fetch-(결과 받아오기) 중요"
   ]
  },
  {
   "cell_type": "code",
   "execution_count": 60,
   "metadata": {},
   "outputs": [
    {
     "data": {
      "text/plain": [
       "<sqlite3.Cursor at 0x6368180>"
      ]
     },
     "execution_count": 60,
     "metadata": {},
     "output_type": "execute_result"
    }
   ],
   "source": [
    "cur.execute('select sqlite_version();')"
   ]
  },
  {
   "cell_type": "code",
   "execution_count": 61,
   "metadata": {},
   "outputs": [
    {
     "data": {
      "text/plain": [
       "('3.27.2',)"
      ]
     },
     "execution_count": 61,
     "metadata": {},
     "output_type": "execute_result"
    }
   ],
   "source": [
    "cur.fetchone()"
   ]
  },
  {
   "cell_type": "code",
   "execution_count": 62,
   "metadata": {},
   "outputs": [
    {
     "data": {
      "text/plain": [
       "True"
      ]
     },
     "execution_count": 62,
     "metadata": {},
     "output_type": "execute_result"
    }
   ],
   "source": [
    "sqlite3.complete_statement('select sqlite_version();') #sql 구문을 마지막까지 알맞게 썼는지 확인해줌"
   ]
  },
  {
   "cell_type": "markdown",
   "metadata": {},
   "source": [
    "## SQLite Data Type\n",
    "- NULL\n",
    "- INTEGER\n",
    "- REAL\n",
    "- TEXT\n",
    "- BLOB\n",
    "\n",
    "execute()\n",
    "- qmark style  cur.execute('insert into people values (?,?)\", (who, age))\n",
    "- named style  cur.execute('select * from people where name_last =: who and age=:age', {'who' : who, 'age' : age))"
   ]
  },
  {
   "cell_type": "code",
   "execution_count": 102,
   "metadata": {},
   "outputs": [
    {
     "name": "stdout",
     "output_type": "stream",
     "text": [
      "('Ualsdk', 72)\n"
     ]
    }
   ],
   "source": [
    "cur.execute('create table people (name_last, age)')\n",
    "\n",
    "who = \"Ualsdk\"\n",
    "age = 72\n",
    "cur.execute('insert into people values (?,?)', (who, age))   #qmark style -> 데이터 구조 복잡, 데이터 명끼리 섞일때 어려워짐\n",
    "#commit 있어야함?            \n",
    "cur.execute('select * from people where name_last=:who and age=:age', {'who' : who, 'age' : age}) #named style\n",
    "            \n",
    "print(cur.fetchone())\n",
    "                                                                         "
   ]
  },
  {
   "cell_type": "code",
   "execution_count": 103,
   "metadata": {},
   "outputs": [
    {
     "data": {
      "text/plain": [
       "[]"
      ]
     },
     "execution_count": 103,
     "metadata": {},
     "output_type": "execute_result"
    }
   ],
   "source": [
    "#qmark style , executemany\n",
    "\n",
    "sql = 'insert into people values (?,?)'\n",
    "curData = [('A',1), ('B',2), ('C',3)]\n",
    "cur.executemany(sql, curData)\n",
    "cur.fetchall()"
   ]
  },
  {
   "cell_type": "code",
   "execution_count": 104,
   "metadata": {},
   "outputs": [
    {
     "data": {
      "text/plain": [
       "<sqlite3.Cursor at 0x6368180>"
      ]
     },
     "execution_count": 104,
     "metadata": {},
     "output_type": "execute_result"
    }
   ],
   "source": [
    "#named style , executemany\n",
    "\n",
    "dataDict = [{'who':'e', 'age':1},{'who':'F', 'age':1},{'who':'g', 'age':1}]\n",
    "sql = 'insert into people values(:who, :age)'\n",
    "cur.executemany(sql,dataDict)"
   ]
  },
  {
   "cell_type": "code",
   "execution_count": 105,
   "metadata": {
    "scrolled": true
   },
   "outputs": [
    {
     "data": {
      "text/plain": [
       "[('Ualsdk', 72), ('A', 1), ('B', 2), ('C', 3), ('e', 1), ('F', 1), ('g', 1)]"
      ]
     },
     "execution_count": 105,
     "metadata": {},
     "output_type": "execute_result"
    }
   ],
   "source": [
    "cur.execute(\"select * from people\")\n",
    "cur.fetchall()"
   ]
  },
  {
   "cell_type": "markdown",
   "metadata": {},
   "source": [
    "### executescript : 여러개의 sql문을 한번에 쓸때, 앞에 무슨 작업을 했든 commit을 하고 실행한다.\n",
    "cur.executescript('''\n",
    "    sql1, sql2\n",
    "''')"
   ]
  },
  {
   "cell_type": "code",
   "execution_count": 106,
   "metadata": {},
   "outputs": [
    {
     "ename": "OperationalError",
     "evalue": "table person already exists",
     "output_type": "error",
     "traceback": [
      "\u001b[1;31m---------------------------------------------------------------------------\u001b[0m",
      "\u001b[1;31mOperationalError\u001b[0m                          Traceback (most recent call last)",
      "\u001b[1;32m<ipython-input-106-4d06c2ac346c>\u001b[0m in \u001b[0;36m<module>\u001b[1;34m\u001b[0m\n\u001b[0;32m      6\u001b[0m \u001b[1;33m\u001b[0m\u001b[0m\n\u001b[0;32m      7\u001b[0m     \u001b[0minsert\u001b[0m \u001b[0minto\u001b[0m \u001b[0mperson\u001b[0m \u001b[0mvalues\u001b[0m\u001b[1;33m(\u001b[0m\u001b[1;34m'name'\u001b[0m\u001b[1;33m,\u001b[0m \u001b[1;34m'kim'\u001b[0m\u001b[1;33m)\u001b[0m\u001b[1;33m;\u001b[0m\u001b[1;33m\u001b[0m\u001b[1;33m\u001b[0m\u001b[0m\n\u001b[1;32m----> 8\u001b[1;33m ''')\n\u001b[0m",
      "\u001b[1;31mOperationalError\u001b[0m: table person already exists"
     ]
    }
   ],
   "source": [
    "cur.executescript('''\n",
    "    create table person(\n",
    "        first_name text primary key,\n",
    "        last_name text not null\n",
    "    );\n",
    "    \n",
    "    insert into person values('name', 'kim');\n",
    "''')"
   ]
  },
  {
   "cell_type": "code",
   "execution_count": 107,
   "metadata": {},
   "outputs": [
    {
     "name": "stdout",
     "output_type": "stream",
     "text": [
      "[('name', 'kim')]\n"
     ]
    }
   ],
   "source": [
    "cur.execute('select * from person')\n",
    "print(cur.fetchall())"
   ]
  },
  {
   "cell_type": "markdown",
   "metadata": {},
   "source": [
    "### fetch 방법 \n",
    "- cur.fetchone()\n",
    "- cur.fetchmany(size)\n",
    "- cur.fetchall()"
   ]
  },
  {
   "cell_type": "code",
   "execution_count": 1,
   "metadata": {},
   "outputs": [],
   "source": [
    "import sqlite3"
   ]
  },
  {
   "cell_type": "code",
   "execution_count": 4,
   "metadata": {},
   "outputs": [
    {
     "name": "stdout",
     "output_type": "stream",
     "text": [
      "opened database successfully\n",
      "table created successfully\n"
     ]
    }
   ],
   "source": [
    "conn = sqlite3.connect('korea.db')\n",
    "print('opened database successfully')\n",
    "cur = conn.cursor()\n",
    "cur.execute('''\n",
    "    create table company1(\n",
    "        id int primary key not null,\n",
    "        name text not null,\n",
    "        age int not null,\n",
    "        address char(50),\n",
    "        salary real\n",
    "        );\n",
    "''')\n",
    "print('table created successfully')"
   ]
  },
  {
   "cell_type": "code",
   "execution_count": 5,
   "metadata": {
    "scrolled": true
   },
   "outputs": [],
   "source": [
    "cur.execute(\"insert into company1 (id, name, age, address, salary) values(1,'paul', 32, 'callifornia', 20000.00)\");\n",
    "cur.execute(\"insert into company1 (id, name, age, address, salary) values(:id, :name, :age, :address, :salary)\", \n",
    "             {'id':2, 'name':'Alien', 'age':23,'address':'texas','salary':15000.00});\n",
    "data = [(3, 'teddy', 23, 'Norway',20000.00),(4, 'mark', 26, 'rich-mond',65000.00)]\n",
    "\n",
    "cur.executemany(\"insert into company1 (id, name, age, address, salary) values (?,?,?,?,?)\", data);\n"
   ]
  },
  {
   "cell_type": "code",
   "execution_count": 9,
   "metadata": {},
   "outputs": [],
   "source": [
    "conn.commit()"
   ]
  },
  {
   "cell_type": "code",
   "execution_count": 10,
   "metadata": {},
   "outputs": [
    {
     "data": {
      "text/plain": [
       "2"
      ]
     },
     "execution_count": 10,
     "metadata": {},
     "output_type": "execute_result"
    }
   ],
   "source": [
    "cur.executescript(\"\"\"\n",
    "    insert into company1 (id, name, age, address, salary) values (5, 'a', 25, 'rich-mond' ,65000.00);\n",
    "    insert into company1 (id, name, age, address, salary) values (6, 'b', 25, 'rich-mond' ,65000.00);\n",
    "\"\"\")\n",
    "cur.lastrowid"
   ]
  },
  {
   "cell_type": "code",
   "execution_count": 5,
   "metadata": {},
   "outputs": [
    {
     "name": "stdout",
     "output_type": "stream",
     "text": [
      "id =  1\n",
      "name =  paul\n",
      "address =  callifornia\n",
      "salary =  20000.0\n",
      "\n",
      "id =  2\n",
      "name =  Alien\n",
      "address =  texas\n",
      "salary =  15000.0\n",
      "\n",
      "id =  3\n",
      "name =  teddy\n",
      "address =  Norway\n",
      "salary =  20000.0\n",
      "\n",
      "id =  4\n",
      "name =  mark\n",
      "address =  rich-mond\n",
      "salary =  65000.0\n",
      "\n",
      "id =  5\n",
      "name =  a\n",
      "address =  rich-mond\n",
      "salary =  65000.0\n",
      "\n",
      "id =  6\n",
      "name =  b\n",
      "address =  rich-mond\n",
      "salary =  65000.0\n",
      "\n",
      "operation done successfully\n"
     ]
    }
   ],
   "source": [
    "cursor = conn.execute(\"select id, name, address, salary from company\")\n",
    "\n",
    "for row in cursor:\n",
    "    print(\"id = \", row[0])\n",
    "    print(\"name = \", row[1])\n",
    "    print(\"address = \", row[2])\n",
    "    print(\"salary = \", row[3], end='\\n\\n')\n",
    "\n",
    "print(\"operation done successfully\")"
   ]
  },
  {
   "cell_type": "code",
   "execution_count": 8,
   "metadata": {},
   "outputs": [
    {
     "data": {
      "text/plain": [
       "int"
      ]
     },
     "execution_count": 8,
     "metadata": {},
     "output_type": "execute_result"
    }
   ],
   "source": [
    "type(row[0])"
   ]
  },
  {
   "cell_type": "code",
   "execution_count": 9,
   "metadata": {},
   "outputs": [
    {
     "data": {
      "text/plain": [
       "str"
      ]
     },
     "execution_count": 9,
     "metadata": {},
     "output_type": "execute_result"
    }
   ],
   "source": [
    "type(row[1])"
   ]
  },
  {
   "cell_type": "code",
   "execution_count": 10,
   "metadata": {},
   "outputs": [
    {
     "data": {
      "text/plain": [
       "str"
      ]
     },
     "execution_count": 10,
     "metadata": {},
     "output_type": "execute_result"
    }
   ],
   "source": [
    "type(row[2])"
   ]
  },
  {
   "cell_type": "code",
   "execution_count": 11,
   "metadata": {},
   "outputs": [
    {
     "data": {
      "text/plain": [
       "float"
      ]
     },
     "execution_count": 11,
     "metadata": {},
     "output_type": "execute_result"
    }
   ],
   "source": [
    "type(row[3])"
   ]
  },
  {
   "cell_type": "code",
   "execution_count": 14,
   "metadata": {},
   "outputs": [
    {
     "name": "stdout",
     "output_type": "stream",
     "text": [
      "total number of rows updated :  9\n",
      "id =  1\n",
      "name =  paul\n",
      "address =  callifornia\n",
      "salary =  26000.0 \n",
      "\n",
      "id =  2\n",
      "name =  Alien\n",
      "address =  texas\n",
      "salary =  15000.0 \n",
      "\n",
      "id =  3\n",
      "name =  teddy\n",
      "address =  Norway\n",
      "salary =  20000.0 \n",
      "\n",
      "id =  4\n",
      "name =  mark\n",
      "address =  rich-mond\n",
      "salary =  65000.0 \n",
      "\n",
      "id =  5\n",
      "name =  a\n",
      "address =  rich-mond\n",
      "salary =  65000.0 \n",
      "\n",
      "id =  6\n",
      "name =  b\n",
      "address =  rich-mond\n",
      "salary =  65000.0 \n",
      "\n"
     ]
    }
   ],
   "source": [
    "cid = 1\n",
    "cur.execute(\"update company set salary = 26000.00 where id = :id\", {'id':cid})\n",
    "conn.commit()\n",
    "\n",
    "print(\"total number of rows updated : \", conn.total_changes)\n",
    "\n",
    "cursor = conn.execute(\"select id, name, address, salary from company\")\n",
    "for row in cursor:\n",
    "    print(\"id = \", row[0])\n",
    "    print(\"name = \", row[1])\n",
    "    print(\"address = \", row[2])\n",
    "    print(\"salary = \", row[3], \"\\n\")"
   ]
  },
  {
   "cell_type": "code",
   "execution_count": 17,
   "metadata": {
    "collapsed": true
   },
   "outputs": [
    {
     "name": "stdout",
     "output_type": "stream",
     "text": [
      "total number of rows deleted :  10\n",
      "id =  1\n",
      "name =  paul\n",
      "address =  callifornia\n",
      "salary =  26000.0 \n",
      "\n",
      "id =  3\n",
      "name =  teddy\n",
      "address =  Norway\n",
      "salary =  20000.0 \n",
      "\n",
      "id =  4\n",
      "name =  mark\n",
      "address =  rich-mond\n",
      "salary =  65000.0 \n",
      "\n",
      "id =  5\n",
      "name =  a\n",
      "address =  rich-mond\n",
      "salary =  65000.0 \n",
      "\n",
      "id =  6\n",
      "name =  b\n",
      "address =  rich-mond\n",
      "salary =  65000.0 \n",
      "\n"
     ]
    }
   ],
   "source": [
    "cur.execute(\"delete from company where id = 2;\")\n",
    "\n",
    "print(\"total number of rows deleted : \", conn.total_changes)\n",
    "\n",
    "cursor = conn.execute(\"select id, name, address, salary from company\")\n",
    "for row in cursor:\n",
    "    print(\"id = \", row[0])\n",
    "    print(\"name = \", row[1])\n",
    "    print(\"address = \", row[2])\n",
    "    print(\"salary = \", row[3], \"\\n\")"
   ]
  },
  {
   "cell_type": "code",
   "execution_count": 19,
   "metadata": {},
   "outputs": [],
   "source": [
    "conn.commit()"
   ]
  },
  {
   "cell_type": "markdown",
   "metadata": {},
   "source": [
    "create Table Artist(\n",
    "    id integer not null primary key autoincrement unique,\n",
    "    name text\n",
    ")"
   ]
  },
  {
   "cell_type": "markdown",
   "metadata": {},
   "source": [
    "create Table Genre(\n",
    "    id integer not null primary key autoincrement unique,\n",
    "    name text\n",
    ")"
   ]
  },
  {
   "cell_type": "markdown",
   "metadata": {},
   "source": [
    "create Table Album(\n",
    "    id integer not null primary key autoincrement unique,\n",
    "    title text,\n",
    "    artist_id integer\n",
    ")"
   ]
  },
  {
   "cell_type": "code",
   "execution_count": 20,
   "metadata": {},
   "outputs": [
    {
     "name": "stdout",
     "output_type": "stream",
     "text": [
      "opened database successfully\n",
      "table created successfully\n"
     ]
    }
   ],
   "source": [
    "conn = sqlite3.connect('create.db')\n",
    "print('opened database successfully')\n",
    "cur = conn.cursor()\n",
    "cur.executescript('''\n",
    "    create Table Artist(\n",
    "        id integer not null primary key autoincrement unique,\n",
    "        name text\n",
    "    );\n",
    "    create Table Genre(\n",
    "        id integer not null primary key autoincrement unique,\n",
    "        name text\n",
    "    );\n",
    "    create Table Album(\n",
    "        id integer not null primary key autoincrement unique,\n",
    "        title text,\n",
    "        artist_id integer\n",
    "    );\n",
    "    create Table Track(\n",
    "        id integer not null primary key autoincrement unique,\n",
    "        title text,\n",
    "        length text,\n",
    "        rating integer\n",
    "        count integer,\n",
    "        album_id integer,\n",
    "        genre_id integer\n",
    "    );\n",
    "''')\n",
    "print('table created successfully')"
   ]
  },
  {
   "cell_type": "code",
   "execution_count": 23,
   "metadata": {},
   "outputs": [
    {
     "data": {
      "text/plain": [
       "<sqlite3.Cursor at 0x6088500>"
      ]
     },
     "execution_count": 23,
     "metadata": {},
     "output_type": "execute_result"
    }
   ],
   "source": [
    "cur.execute(\"insert into Artist (name) values ('led zepplin')\")\n",
    "cur.execute(\"insert into Artist (name) values ('AC/DC')\")"
   ]
  },
  {
   "cell_type": "code",
   "execution_count": 26,
   "metadata": {},
   "outputs": [],
   "source": [
    "conn.commit()"
   ]
  },
  {
   "cell_type": "code",
   "execution_count": 25,
   "metadata": {},
   "outputs": [
    {
     "data": {
      "text/plain": [
       "<sqlite3.Cursor at 0x6088500>"
      ]
     },
     "execution_count": 25,
     "metadata": {},
     "output_type": "execute_result"
    }
   ],
   "source": [
    "cur.execute(\"insert into Genre (name) values ('Rock')\")\n",
    "cur.execute(\"insert into Genre (name) values ('Metal')\")"
   ]
  },
  {
   "cell_type": "code",
   "execution_count": 27,
   "metadata": {},
   "outputs": [
    {
     "data": {
      "text/plain": [
       "2"
      ]
     },
     "execution_count": 27,
     "metadata": {},
     "output_type": "execute_result"
    }
   ],
   "source": [
    "cur.lastrowid"
   ]
  },
  {
   "cell_type": "code",
   "execution_count": 57,
   "metadata": {},
   "outputs": [
    {
     "data": {
      "text/plain": [
       "<sqlite3.Cursor at 0x6088500>"
      ]
     },
     "execution_count": 57,
     "metadata": {},
     "output_type": "execute_result"
    }
   ],
   "source": [
    "cur.execute(\n",
    "    \"\"\"\n",
    "    insert into Album (title, artist_id) values (:Album, (select id from Artist where name=:Artist))\"\"\"\n",
    "    , {\"Album\":\"good song\", \"Artist\":\"led zepplin\"})"
   ]
  },
  {
   "cell_type": "code",
   "execution_count": 100,
   "metadata": {},
   "outputs": [],
   "source": [
    "conn.commit()"
   ]
  },
  {
   "cell_type": "code",
   "execution_count": 59,
   "metadata": {},
   "outputs": [
    {
     "data": {
      "text/plain": [
       "<sqlite3.Cursor at 0x6088500>"
      ]
     },
     "execution_count": 59,
     "metadata": {},
     "output_type": "execute_result"
    }
   ],
   "source": [
    "cur.execute(\"delete from Album where id = 5\")"
   ]
  },
  {
   "cell_type": "code",
   "execution_count": 55,
   "metadata": {},
   "outputs": [],
   "source": [
    "cursor = conn.execute(\"select id, title, artist_id from Album\")\n",
    "for row in cursor:\n",
    "    print(\"id = \", row[0])\n",
    "    print(\"title = \", row[1])\n",
    "    print(\"artist_id = \", row[2],\"\\n\")"
   ]
  },
  {
   "cell_type": "code",
   "execution_count": 86,
   "metadata": {
    "scrolled": true
   },
   "outputs": [
    {
     "data": {
      "text/plain": [
       "<sqlite3.Cursor at 0x6088500>"
      ]
     },
     "execution_count": 86,
     "metadata": {},
     "output_type": "execute_result"
    }
   ],
   "source": [
    "cur.execute(\n",
    "    \"\"\"\n",
    "    insert into Track (title,rating, length, count, album_id, genre_id)\n",
    "    values (:Track, :rating, :length, :count\n",
    "    ,(select id from Album where title=:Album)\n",
    "    ,(select id from Genre where name=:Genre))\n",
    "    \"\"\"\n",
    "    , {\"Track\":\"what the fxxk\", \"rating\":2, \"length\":397,\"count\":0, \"Album\":\"iv\",\"Genre\":\"Metal\"})"
   ]
  },
  {
   "cell_type": "code",
   "execution_count": 104,
   "metadata": {},
   "outputs": [
    {
     "data": {
      "text/plain": [
       "<sqlite3.Cursor at 0x6088500>"
      ]
     },
     "execution_count": 104,
     "metadata": {},
     "output_type": "execute_result"
    }
   ],
   "source": [
    "#그냥 조인 쓰면 inner join\n",
    "cur.execute(\"select Album.title, Artist.name from Album join Artist on Album.artist_id = Artist.id\")"
   ]
  },
  {
   "cell_type": "code",
   "execution_count": 105,
   "metadata": {},
   "outputs": [
    {
     "name": "stdout",
     "output_type": "stream",
     "text": [
      "[('iv', 'AC/DC'), ('who mad who', 'led zepplin')]\n"
     ]
    }
   ],
   "source": [
    "print(cur.fetchall())"
   ]
  },
  {
   "cell_type": "code",
   "execution_count": 107,
   "metadata": {},
   "outputs": [
    {
     "data": {
      "text/plain": [
       "<sqlite3.Cursor at 0x6088500>"
      ]
     },
     "execution_count": 107,
     "metadata": {},
     "output_type": "execute_result"
    }
   ],
   "source": [
    "cur.execute(\"select Album.title, Track.title from Track join Album on Track.album_id = Album.id\")"
   ]
  },
  {
   "cell_type": "code",
   "execution_count": 108,
   "metadata": {},
   "outputs": [
    {
     "name": "stdout",
     "output_type": "stream",
     "text": [
      "[('iv', 'Black Dog'), ('iv', 'what the fxxk')]\n"
     ]
    }
   ],
   "source": [
    "print(cur.fetchall())"
   ]
  },
  {
   "cell_type": "code",
   "execution_count": 109,
   "metadata": {},
   "outputs": [
    {
     "data": {
      "text/plain": [
       "<sqlite3.Cursor at 0x6088500>"
      ]
     },
     "execution_count": 109,
     "metadata": {},
     "output_type": "execute_result"
    }
   ],
   "source": [
    "cur.execute(\n",
    "    \"\"\"\n",
    "        select Track.title, Artist.name, Album.title, Genre.name\n",
    "        from Track\n",
    "        join Artist join Album join Genre on \n",
    "        Track.album_id = Album.id\n",
    "        and Track.genre_id = Genre.id\n",
    "        and Album.artist_id = Artist.id\n",
    "    \"\"\")"
   ]
  },
  {
   "cell_type": "code",
   "execution_count": 110,
   "metadata": {},
   "outputs": [
    {
     "name": "stdout",
     "output_type": "stream",
     "text": [
      "[('what the fxxk', 'AC/DC', 'iv', 'Metal')]\n"
     ]
    }
   ],
   "source": [
    "print(cur.fetchall())"
   ]
  }
 ],
 "metadata": {
  "kernelspec": {
   "display_name": "Python 3",
   "language": "python",
   "name": "python3"
  }
 },
 "nbformat": 4,
 "nbformat_minor": 2
}
