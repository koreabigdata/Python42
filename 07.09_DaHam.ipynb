{
 "cells": [
  {
   "cell_type": "markdown",
   "metadata": {},
   "source": [
    "# ##2019.07.09 ORM과RE에 대한 이해"
   ]
  },
  {
   "cell_type": "markdown",
   "metadata": {},
   "source": [
    "ORM에 대한 이해"
   ]
  },
  {
   "cell_type": "code",
   "execution_count": 1,
   "metadata": {},
   "outputs": [],
   "source": [
    "# E-relationship model의 설계법 -> 최소는 0부터 시작해서 n대n의 관계가 될 수 있다.\n",
    "# 사람 한명이 여러 답변을 달 수 있어 -> 1대n의 관계를 가지게 된다.\n",
    "\n",
    "# INSERT INTO question values (?,?,?,?,?) -> question_id = 1\n",
    "# SELECT tag_id, name FROM tag WHERE name = 'python' ; -> tag_id = 1\n",
    "# UPDATE tag SET tagged_count = tagged_count + 1 WHERE NAME = 'Python'\n",
    "# 앞서 question과 tag를 join하면 tag에 어떠한 question이 있는지 볼 수 있다 \n",
    "# "
   ]
  },
  {
   "cell_type": "code",
   "execution_count": null,
   "metadata": {},
   "outputs": [],
   "source": [
    "# ORM을 통하여 REGB와 ..."
   ]
  },
  {
   "cell_type": "code",
   "execution_count": 7,
   "metadata": {},
   "outputs": [
    {
     "name": "stdout",
     "output_type": "stream",
     "text": [
      "Collecting sqlalchemy\n",
      "  Downloading https://files.pythonhosted.org/packages/62/3c/9dda60fd99dbdcbc6312c799a3ec9a261f95bc12f2874a35818f04db2dd9/SQLAlchemy-1.3.5.tar.gz (5.9MB)\n",
      "Building wheels for collected packages: sqlalchemy\n",
      "  Building wheel for sqlalchemy (setup.py): started\n",
      "  Building wheel for sqlalchemy (setup.py): finished with status 'done'\n",
      "  Stored in directory: C:\\Users\\lucro\\AppData\\Local\\pip\\Cache\\wheels\\f4\\74\\97\\23789e1e541fb3d64dc9a921a676539695b3d184cf77f5b009\n",
      "Successfully built sqlalchemy\n",
      "Installing collected packages: sqlalchemy\n",
      "Successfully installed sqlalchemy-1.3.5\n"
     ]
    }
   ],
   "source": [
    "#예제 1\n",
    "!pip install sqlalchemy"
   ]
  },
  {
   "cell_type": "code",
   "execution_count": 8,
   "metadata": {},
   "outputs": [],
   "source": [
    "import sqlalchemy"
   ]
  },
  {
   "cell_type": "code",
   "execution_count": 28,
   "metadata": {},
   "outputs": [
    {
     "data": {
      "text/plain": [
       "Engine(sqlite:///:memory:)"
      ]
     },
     "execution_count": 28,
     "metadata": {},
     "output_type": "execute_result"
    }
   ],
   "source": [
    "from sqlalchemy import create_engine\n",
    "\n",
    "engine = create_engine(\"sqlite:///:memory:\",echo = True)\n",
    "\n",
    "engine"
   ]
  },
  {
   "cell_type": "code",
   "execution_count": null,
   "metadata": {},
   "outputs": [],
   "source": [
    "# 접근 준비만 했으뿐 아직 접근하지는 못했음. "
   ]
  },
  {
   "cell_type": "code",
   "execution_count": 12,
   "metadata": {},
   "outputs": [
    {
     "data": {
      "text/plain": [
       "sqlalchemy.engine.base.Engine"
      ]
     },
     "execution_count": 12,
     "metadata": {},
     "output_type": "execute_result"
    }
   ],
   "source": [
    "type(engine)"
   ]
  },
  {
   "cell_type": "code",
   "execution_count": 13,
   "metadata": {},
   "outputs": [],
   "source": [
    "# DBS 관계없이 공통된 틀을 만들어 줄 예정 -> class로 만들 수 있음 // int 이외에 데이터 type 만들 수 있음 \n",
    "# Table 객체, column 객체, meta data를 전부 볼 수 있음"
   ]
  },
  {
   "cell_type": "code",
   "execution_count": 16,
   "metadata": {},
   "outputs": [],
   "source": [
    "#\n",
    "from sqlalchemy import Table, Column, Integer, String, MetaData, ForeignKey"
   ]
  },
  {
   "cell_type": "code",
   "execution_count": 17,
   "metadata": {},
   "outputs": [],
   "source": [
    "metadata = MetaData()"
   ]
  },
  {
   "cell_type": "code",
   "execution_count": 19,
   "metadata": {},
   "outputs": [],
   "source": [
    "users = Table('users',metadata,\n",
    "             Column('id',Integer,primary_key = True),\n",
    "             Column('name',String),\n",
    "             Column('fullname',String),\n",
    "             )"
   ]
  },
  {
   "cell_type": "code",
   "execution_count": 21,
   "metadata": {},
   "outputs": [
    {
     "ename": "InvalidRequestError",
     "evalue": "Table 'adresses' is already defined for this MetaData instance.  Specify 'extend_existing=True' to redefine options and columns on an existing Table object.",
     "output_type": "error",
     "traceback": [
      "\u001b[1;31m---------------------------------------------------------------------------\u001b[0m",
      "\u001b[1;31mInvalidRequestError\u001b[0m                       Traceback (most recent call last)",
      "\u001b[1;32m<ipython-input-21-e5675cf4a448>\u001b[0m in \u001b[0;36m<module>\u001b[1;34m\u001b[0m\n\u001b[0;32m      3\u001b[0m              Column('user_id',None, \n\u001b[0;32m      4\u001b[0m                      ForeignKey('users.id')),\n\u001b[1;32m----> 5\u001b[1;33m              \u001b[0mColumn\u001b[0m\u001b[1;33m(\u001b[0m\u001b[1;34m'email_address'\u001b[0m\u001b[1;33m,\u001b[0m\u001b[0mString\u001b[0m\u001b[1;33m,\u001b[0m \u001b[0mnullable\u001b[0m \u001b[1;33m=\u001b[0m \u001b[1;32mFalse\u001b[0m\u001b[1;33m)\u001b[0m\u001b[1;33m,\u001b[0m\u001b[1;33m\u001b[0m\u001b[1;33m\u001b[0m\u001b[0m\n\u001b[0m\u001b[0;32m      6\u001b[0m              )\n\u001b[0;32m      7\u001b[0m \u001b[1;31m# metadata.create_all(engine)\u001b[0m\u001b[1;33m\u001b[0m\u001b[1;33m\u001b[0m\u001b[1;33m\u001b[0m\u001b[0m\n",
      "\u001b[1;32m<string>\u001b[0m in \u001b[0;36m__new__\u001b[1;34m(cls, *args, **kw)\u001b[0m\n",
      "\u001b[1;32mc:\\users\\lucro\\anaconda3\\envs\\py36\\lib\\site-packages\\sqlalchemy\\util\\deprecations.py\u001b[0m in \u001b[0;36mwarned\u001b[1;34m(fn, *args, **kwargs)\u001b[0m\n\u001b[0;32m    128\u001b[0m                     )\n\u001b[0;32m    129\u001b[0m \u001b[1;33m\u001b[0m\u001b[0m\n\u001b[1;32m--> 130\u001b[1;33m             \u001b[1;32mreturn\u001b[0m \u001b[0mfn\u001b[0m\u001b[1;33m(\u001b[0m\u001b[1;33m*\u001b[0m\u001b[0margs\u001b[0m\u001b[1;33m,\u001b[0m \u001b[1;33m**\u001b[0m\u001b[0mkwargs\u001b[0m\u001b[1;33m)\u001b[0m\u001b[1;33m\u001b[0m\u001b[1;33m\u001b[0m\u001b[0m\n\u001b[0m\u001b[0;32m    131\u001b[0m \u001b[1;33m\u001b[0m\u001b[0m\n\u001b[0;32m    132\u001b[0m         \u001b[0mdoc\u001b[0m \u001b[1;33m=\u001b[0m \u001b[0mfn\u001b[0m\u001b[1;33m.\u001b[0m\u001b[0m__doc__\u001b[0m \u001b[1;32mis\u001b[0m \u001b[1;32mnot\u001b[0m \u001b[1;32mNone\u001b[0m \u001b[1;32mand\u001b[0m \u001b[0mfn\u001b[0m\u001b[1;33m.\u001b[0m\u001b[0m__doc__\u001b[0m \u001b[1;32mor\u001b[0m \u001b[1;34m\"\"\u001b[0m\u001b[1;33m\u001b[0m\u001b[1;33m\u001b[0m\u001b[0m\n",
      "\u001b[1;32mc:\\users\\lucro\\anaconda3\\envs\\py36\\lib\\site-packages\\sqlalchemy\\sql\\schema.py\u001b[0m in \u001b[0;36m__new__\u001b[1;34m(cls, *args, **kw)\u001b[0m\n\u001b[0;32m    476\u001b[0m                     \u001b[1;34m\"to redefine \"\u001b[0m\u001b[1;33m\u001b[0m\u001b[1;33m\u001b[0m\u001b[0m\n\u001b[0;32m    477\u001b[0m                     \u001b[1;34m\"options and columns on an \"\u001b[0m\u001b[1;33m\u001b[0m\u001b[1;33m\u001b[0m\u001b[0m\n\u001b[1;32m--> 478\u001b[1;33m                     \u001b[1;34m\"existing Table object.\"\u001b[0m \u001b[1;33m%\u001b[0m \u001b[0mkey\u001b[0m\u001b[1;33m\u001b[0m\u001b[1;33m\u001b[0m\u001b[0m\n\u001b[0m\u001b[0;32m    479\u001b[0m                 )\n\u001b[0;32m    480\u001b[0m             \u001b[0mtable\u001b[0m \u001b[1;33m=\u001b[0m \u001b[0mmetadata\u001b[0m\u001b[1;33m.\u001b[0m\u001b[0mtables\u001b[0m\u001b[1;33m[\u001b[0m\u001b[0mkey\u001b[0m\u001b[1;33m]\u001b[0m\u001b[1;33m\u001b[0m\u001b[1;33m\u001b[0m\u001b[0m\n",
      "\u001b[1;31mInvalidRequestError\u001b[0m: Table 'adresses' is already defined for this MetaData instance.  Specify 'extend_existing=True' to redefine options and columns on an existing Table object."
     ]
    }
   ],
   "source": [
    "addresses = Table('adresses',metadata,\n",
    "             Column('id',Integer,primary_key = True),\n",
    "             Column('user_id',None, \n",
    "                     ForeignKey('users.id')),\n",
    "             Column('email_address',String, nullable = False),\n",
    "             )\n"
   ]
  },
  {
   "cell_type": "code",
   "execution_count": 22,
   "metadata": {},
   "outputs": [],
   "source": [
    "# metadata.create_all(engine)"
   ]
  },
  {
   "cell_type": "code",
   "execution_count": 24,
   "metadata": {},
   "outputs": [
    {
     "data": {
      "text/plain": [
       "immutabledict({'users': Table('users', MetaData(bind=None), Column('id', Integer(), table=<users>, primary_key=True, nullable=False), Column('name', String(), table=<users>), Column('fullname', String(), table=<users>), schema=None), 'adresses': Table('adresses', MetaData(bind=None), Column('id', Integer(), table=<adresses>, primary_key=True, nullable=False), Column('user_id', Integer(), ForeignKey('users.id'), table=<adresses>), Column('email_address', String(), table=<adresses>, nullable=False), schema=None)})"
      ]
     },
     "execution_count": 24,
     "metadata": {},
     "output_type": "execute_result"
    }
   ],
   "source": [
    "# Table들을 성공적으로 생성했다!! // 수정 불가한 상태로 넣어짐\n",
    "metadata.tables"
   ]
  },
  {
   "cell_type": "code",
   "execution_count": 29,
   "metadata": {},
   "outputs": [
    {
     "name": "stdout",
     "output_type": "stream",
     "text": [
      "2019-07-09 11:22:21,215 INFO sqlalchemy.engine.base.Engine SELECT CAST('test plain returns' AS VARCHAR(60)) AS anon_1\n",
      "2019-07-09 11:22:21,217 INFO sqlalchemy.engine.base.Engine ()\n",
      "2019-07-09 11:22:21,220 INFO sqlalchemy.engine.base.Engine SELECT CAST('test unicode returns' AS VARCHAR(60)) AS anon_1\n",
      "2019-07-09 11:22:21,221 INFO sqlalchemy.engine.base.Engine ()\n",
      "2019-07-09 11:22:21,224 INFO sqlalchemy.engine.base.Engine PRAGMA table_info(\"users\")\n",
      "2019-07-09 11:22:21,225 INFO sqlalchemy.engine.base.Engine ()\n",
      "2019-07-09 11:22:21,227 INFO sqlalchemy.engine.base.Engine PRAGMA table_info(\"adresses\")\n",
      "2019-07-09 11:22:21,228 INFO sqlalchemy.engine.base.Engine ()\n",
      "2019-07-09 11:22:21,230 INFO sqlalchemy.engine.base.Engine \n",
      "CREATE TABLE users (\n",
      "\tid INTEGER NOT NULL, \n",
      "\tname VARCHAR, \n",
      "\tfullname VARCHAR, \n",
      "\tPRIMARY KEY (id)\n",
      ")\n",
      "\n",
      "\n",
      "2019-07-09 11:22:21,231 INFO sqlalchemy.engine.base.Engine ()\n",
      "2019-07-09 11:22:21,232 INFO sqlalchemy.engine.base.Engine COMMIT\n",
      "2019-07-09 11:22:21,234 INFO sqlalchemy.engine.base.Engine \n",
      "CREATE TABLE adresses (\n",
      "\tid INTEGER NOT NULL, \n",
      "\tuser_id INTEGER, \n",
      "\temail_address VARCHAR NOT NULL, \n",
      "\tPRIMARY KEY (id), \n",
      "\tFOREIGN KEY(user_id) REFERENCES users (id)\n",
      ")\n",
      "\n",
      "\n",
      "2019-07-09 11:22:21,235 INFO sqlalchemy.engine.base.Engine ()\n",
      "2019-07-09 11:22:21,236 INFO sqlalchemy.engine.base.Engine COMMIT\n"
     ]
    }
   ],
   "source": [
    "metadata.create_all(engine)"
   ]
  },
  {
   "cell_type": "code",
   "execution_count": 30,
   "metadata": {},
   "outputs": [],
   "source": [
    "# Table은 immutable이게이 수정이 안됨 -> table를 삭제 -> 다시 만들어서 binding시켜야 한다\n",
    "# memory는 확인하지 못한다 -> 파일을 다시 떨궈야 함???"
   ]
  },
  {
   "cell_type": "code",
   "execution_count": 32,
   "metadata": {},
   "outputs": [
    {
     "name": "stdout",
     "output_type": "stream",
     "text": [
      "INSERT INTO users (id, name, fullname) VALUES (:id, :name, :fullname)\n",
      "INSERT INTO users (name, fullname) VALUES (:name, :fullname)\n"
     ]
    },
    {
     "data": {
      "text/plain": [
       "{'name': 'kim', 'fullname': 'Anonymous, Kim'}"
      ]
     },
     "execution_count": 32,
     "metadata": {},
     "output_type": "execute_result"
    }
   ],
   "source": [
    "# INSERT의 이용방법\n",
    "\n",
    "insert = users.insert()\n",
    "print(insert)\n",
    "\n",
    "insert = users.insert().values(\n",
    "         name = 'kim', fullname = 'Anonymous, Kim')\n",
    "print(insert)\n",
    "\n",
    "insert.compile().params"
   ]
  },
  {
   "cell_type": "code",
   "execution_count": 34,
   "metadata": {},
   "outputs": [],
   "source": [
    "# 우리가 parameters을 두개 넘겼음 -> 그 다음 찍어보니 2개의 parameter만 named 형태로 넘어감 -> 그러나 어디인가 숨겨 있음 \n",
    "# 이게 dictonary 값으로 넘어가서 -> key&value로 넘어가 있음 -> 따라서 compile을 통해 이를 찾아냄\n",
    "# **이런 방식으로 값을 집어 넣는 것이 더 쉽고 편의함. 참고로 id는 아직 값을 할당하지 않았음"
   ]
  },
  {
   "cell_type": "code",
   "execution_count": 35,
   "metadata": {},
   "outputs": [],
   "source": [
    "# result = conn.execute(insert, name = 'Lee', fullname = 'Unknown,Lee') -> 위와 똑같이 값을 insert하는 또 하나의 방법임"
   ]
  },
  {
   "cell_type": "code",
   "execution_count": 36,
   "metadata": {},
   "outputs": [
    {
     "name": "stdout",
     "output_type": "stream",
     "text": [
      "2019-07-09 11:35:22,078 INFO sqlalchemy.engine.base.Engine INSERT INTO users (name, fullname) VALUES (?, ?)\n",
      "2019-07-09 11:35:22,079 INFO sqlalchemy.engine.base.Engine ('kim', 'Anonymous, Kim')\n",
      "2019-07-09 11:35:22,081 INFO sqlalchemy.engine.base.Engine COMMIT\n"
     ]
    },
    {
     "data": {
      "text/plain": [
       "[1]"
      ]
     },
     "execution_count": 36,
     "metadata": {},
     "output_type": "execute_result"
    }
   ],
   "source": [
    "conn = engine.connect()\n",
    "insert.bind = engine\n",
    "str(insert)\n",
    "cur = conn.execute(insert)\n",
    "cur.inserted_primary_key"
   ]
  },
  {
   "cell_type": "code",
   "execution_count": 45,
   "metadata": {},
   "outputs": [
    {
     "name": "stdout",
     "output_type": "stream",
     "text": [
      "2019-07-09 11:42:19,725 INFO sqlalchemy.engine.base.Engine INSERT INTO users (name, fullname) VALUES (?, ?)\n",
      "2019-07-09 11:42:19,727 INFO sqlalchemy.engine.base.Engine ('lee', 'unknow, Lee')\n",
      "2019-07-09 11:42:19,728 INFO sqlalchemy.engine.base.Engine COMMIT\n"
     ]
    },
    {
     "data": {
      "text/plain": [
       "[4]"
      ]
     },
     "execution_count": 45,
     "metadata": {},
     "output_type": "execute_result"
    }
   ],
   "source": [
    "insert = users.insert()\n",
    "result = conn.execute( insert, \n",
    "                       name = \"lee\",\n",
    "                        fullname = \"unknow, Lee\" )\n",
    "result.inserted_primary_key"
   ]
  },
  {
   "cell_type": "code",
   "execution_count": 44,
   "metadata": {},
   "outputs": [
    {
     "name": "stdout",
     "output_type": "stream",
     "text": [
      "2019-07-09 11:40:14,311 INFO sqlalchemy.engine.base.Engine INSERT INTO adresses (user_id, email_address) VALUES (?, ?)\n",
      "2019-07-09 11:40:14,313 INFO sqlalchemy.engine.base.Engine ((1, 'mylady@naver.com'), (2, 'excuseme@nate.com'))\n",
      "2019-07-09 11:40:14,314 INFO sqlalchemy.engine.base.Engine COMMIT\n"
     ]
    },
    {
     "data": {
      "text/plain": [
       "<sqlalchemy.engine.result.ResultProxy at 0x1d4a353de10>"
      ]
     },
     "execution_count": 44,
     "metadata": {},
     "output_type": "execute_result"
    }
   ],
   "source": [
    "# 일단 user id 1,2를 Qmark방식으로 insert한 다음 이를 자동으로 commit하는 거 같음.\n",
    "conn.execute(addresses.insert(),[\n",
    "    {\"user_id\":1,\n",
    "     \"email_address\":\"mylady@naver.com\"},\n",
    "    {\"user_id\":2,\n",
    "     \"email_address\":\"excuseme@nate.com\"}\n",
    "])"
   ]
  },
  {
   "cell_type": "code",
   "execution_count": 46,
   "metadata": {},
   "outputs": [],
   "source": [
    "# SELECT의 이용방법"
   ]
  },
  {
   "cell_type": "code",
   "execution_count": 50,
   "metadata": {},
   "outputs": [
    {
     "name": "stdout",
     "output_type": "stream",
     "text": [
      "2019-07-09 11:44:56,114 INFO sqlalchemy.engine.base.Engine SELECT users.id, users.name, users.fullname \n",
      "FROM users\n",
      "2019-07-09 11:44:56,115 INFO sqlalchemy.engine.base.Engine ()\n",
      "(1, 'kim', 'Anonymous, Kim')\n",
      "(2, 'lee', 'unknow, Lee')\n",
      "(3, 'lee', 'unknow, Lee')\n",
      "(4, 'lee', 'unknow, Lee')\n"
     ]
    }
   ],
   "source": [
    "# users 모든 query정보를 알고 싶을 떄는 이 같은 방법을 사용한다. \n",
    "\n",
    "from sqlalchemy.sql import select\n",
    "\n",
    "query = select([users])\n",
    "result = conn.execute(query)\n",
    "\n",
    "for row in result : \n",
    "    print(row)"
   ]
  },
  {
   "cell_type": "code",
   "execution_count": 53,
   "metadata": {},
   "outputs": [
    {
     "name": "stdout",
     "output_type": "stream",
     "text": [
      "2019-07-09 13:11:05,586 INFO sqlalchemy.engine.base.Engine SELECT users.id, users.name, users.fullname \n",
      "FROM users\n",
      "2019-07-09 13:11:05,587 INFO sqlalchemy.engine.base.Engine ()\n"
     ]
    },
    {
     "data": {
      "text/plain": [
       "[(1, 'kim', 'Anonymous, Kim'),\n",
       " (2, 'lee', 'unknow, Lee'),\n",
       " (3, 'lee', 'unknow, Lee'),\n",
       " (4, 'lee', 'unknow, Lee')]"
      ]
     },
     "execution_count": 53,
     "metadata": {},
     "output_type": "execute_result"
    }
   ],
   "source": [
    "# 이 방법 또한 가능하다\n",
    "cur = conn.execute(select([users]))\n",
    "cur.fetchall()\n",
    "#임시 cursur을 반환하여 이를 프락시로 받는다 "
   ]
  },
  {
   "cell_type": "code",
   "execution_count": 54,
   "metadata": {},
   "outputs": [],
   "source": [
    "# Conjunctions \n",
    "# 아래의 방법을 통하여 join을 했거나 특정 attribute들을 찾을 수 있음!"
   ]
  },
  {
   "cell_type": "code",
   "execution_count": 55,
   "metadata": {},
   "outputs": [],
   "source": [
    "from sqlalchemy import and_,or_,not_"
   ]
  },
  {
   "cell_type": "code",
   "execution_count": 60,
   "metadata": {},
   "outputs": [
    {
     "name": "stdout",
     "output_type": "stream",
     "text": [
      "users.id = adresses.user_id\n",
      "users.id = :id_1\n",
      "{'id_1': 1}\n"
     ]
    }
   ],
   "source": [
    "print (users.c.id == addresses.c.user_id)\n",
    "print (users.c.id ==1 )\n",
    "print ((users.c.id == 1).compile().params)"
   ]
  },
  {
   "cell_type": "code",
   "execution_count": 67,
   "metadata": {},
   "outputs": [
    {
     "name": "stdout",
     "output_type": "stream",
     "text": [
      "2019-07-09 13:19:22,888 INFO sqlalchemy.engine.base.Engine SELECT users.id, users.name, users.fullname \n",
      "FROM users \n",
      "WHERE users.id = ?\n",
      "2019-07-09 13:19:22,890 INFO sqlalchemy.engine.base.Engine (1,)\n"
     ]
    }
   ],
   "source": [
    "result = conn.execute(select([users]).where (users.c.id == 1))"
   ]
  },
  {
   "cell_type": "code",
   "execution_count": 68,
   "metadata": {},
   "outputs": [
    {
     "name": "stdout",
     "output_type": "stream",
     "text": [
      "(1, 'kim', 'Anonymous, Kim')\n"
     ]
    }
   ],
   "source": [
    "for row in result :\n",
    "    print(row)"
   ]
  },
  {
   "cell_type": "code",
   "execution_count": 70,
   "metadata": {},
   "outputs": [
    {
     "name": "stdout",
     "output_type": "stream",
     "text": [
      "2019-07-09 13:20:47,619 INFO sqlalchemy.engine.base.Engine SELECT users.id, users.name, users.fullname, adresses.id, adresses.user_id, adresses.email_address \n",
      "FROM users, adresses \n",
      "WHERE users.id = adresses.user_id\n",
      "2019-07-09 13:20:47,620 INFO sqlalchemy.engine.base.Engine ()\n"
     ]
    }
   ],
   "source": [
    "result = conn.execute(select([users,addresses]).where(users.c.id == addresses.c.user_id))"
   ]
  },
  {
   "cell_type": "code",
   "execution_count": 73,
   "metadata": {},
   "outputs": [],
   "source": [
    "# 주로 for문을 이용하여 join한 table을 확인하다\n",
    "for row in result :\n",
    "    print(row)"
   ]
  },
  {
   "cell_type": "code",
   "execution_count": 74,
   "metadata": {},
   "outputs": [
    {
     "name": "stdout",
     "output_type": "stream",
     "text": [
      "users JOIN adresses ON users.id = adresses.user_id\n"
     ]
    }
   ],
   "source": [
    "print (users.join(addresses))\n",
    "\n",
    "print(users.join(addresses, users.c.id == adresses))"
   ]
  },
  {
   "cell_type": "code",
   "execution_count": null,
   "metadata": {},
   "outputs": [],
   "source": [
    "quary = select([users.c.id,\n",
    "                users.c.fullname,\n",
    "               addresses.email_address])"
   ]
  },
  {
   "cell_type": "code",
   "execution_count": 84,
   "metadata": {},
   "outputs": [],
   "source": [
    "# Table 객체를 METADA로 받아 사용하는 법을 알아보자!"
   ]
  },
  {
   "cell_type": "code",
   "execution_count": 79,
   "metadata": {},
   "outputs": [],
   "source": [
    "artist = Table (\"Artist\",metadata,\n",
    "               Column(\"id\", Integer, Primary_key = True),\n",
    "               Column (\"name\",String,nullable=False),\n",
    "               extend_existing = True)"
   ]
  },
  {
   "cell_type": "code",
   "execution_count": 80,
   "metadata": {},
   "outputs": [],
   "source": [
    "album = Table (\"Album\",metadata,\n",
    "               Column(\"id\", Integer, Primary_key = True),\n",
    "               Column (\"title\",String,nullable=False),\n",
    "               Column (\"artist_id\",Integer,ForeignKey(\"Artist.id\")),\n",
    "               extend_existing = True)"
   ]
  },
  {
   "cell_type": "code",
   "execution_count": 81,
   "metadata": {},
   "outputs": [],
   "source": [
    "genre = Table (\"Genre\",metadata,\n",
    "               Column(\"id\", Integer, Primary_key = True),\n",
    "               Column (\"name\",String,nullable=False),\n",
    "               extend_existing = True)"
   ]
  },
  {
   "cell_type": "code",
   "execution_count": 83,
   "metadata": {},
   "outputs": [],
   "source": [
    "track = Table(\"Track\", metadata,\n",
    "               Column(\"id\", Integer, Primary_key = True),\n",
    "               Column (\"title\",String,nullable=False),\n",
    "               Column (\"length\",Integer,nullable=False),\n",
    "               Column (\"rating\",Integer,nullable=False),\n",
    "               Column (\"count\",Integer,nullable=False),\n",
    "               Column (\"album_id\",Integer,ForeignKey(\"Album.id\")),\n",
    "               Column (\"genre_id\",Integer,ForeignKey(\"Genre.id\")),\n",
    "               extend_existing = True)"
   ]
  },
  {
   "cell_type": "code",
   "execution_count": 86,
   "metadata": {},
   "outputs": [
    {
     "name": "stdout",
     "output_type": "stream",
     "text": [
      "users\n",
      "adresses\n",
      "Artist\n",
      "Album\n",
      "Genre\n",
      "Track\n"
     ]
    }
   ],
   "source": [
    "# Table을 보여주는 법\n",
    "\n",
    "tables = metadata.tables\n",
    "\n",
    "for table in tables:\n",
    "    print(table)"
   ]
  },
  {
   "cell_type": "code",
   "execution_count": 97,
   "metadata": {},
   "outputs": [
    {
     "name": "stdout",
     "output_type": "stream",
     "text": [
      "2019-07-09 14:06:32,236 INFO sqlalchemy.engine.base.Engine PRAGMA table_info(\"users\")\n",
      "2019-07-09 14:06:32,237 INFO sqlalchemy.engine.base.Engine ()\n",
      "2019-07-09 14:06:32,239 INFO sqlalchemy.engine.base.Engine PRAGMA table_info(\"adresses\")\n",
      "2019-07-09 14:06:32,239 INFO sqlalchemy.engine.base.Engine ()\n",
      "2019-07-09 14:06:32,241 INFO sqlalchemy.engine.base.Engine PRAGMA table_info(\"Artist\")\n",
      "2019-07-09 14:06:32,241 INFO sqlalchemy.engine.base.Engine ()\n",
      "2019-07-09 14:06:32,243 INFO sqlalchemy.engine.base.Engine PRAGMA table_info(\"Album\")\n",
      "2019-07-09 14:06:32,243 INFO sqlalchemy.engine.base.Engine ()\n",
      "2019-07-09 14:06:32,245 INFO sqlalchemy.engine.base.Engine PRAGMA table_info(\"Genre\")\n",
      "2019-07-09 14:06:32,245 INFO sqlalchemy.engine.base.Engine ()\n",
      "2019-07-09 14:06:32,248 INFO sqlalchemy.engine.base.Engine PRAGMA table_info(\"Track\")\n",
      "2019-07-09 14:06:32,248 INFO sqlalchemy.engine.base.Engine ()\n"
     ]
    }
   ],
   "source": [
    "metadata.create_all(engine) # memory에서 engine으로 동기화 할 필요가 있음"
   ]
  },
  {
   "cell_type": "code",
   "execution_count": 100,
   "metadata": {},
   "outputs": [
    {
     "name": "stdout",
     "output_type": "stream",
     "text": [
      "2019-07-09 14:06:36,583 INFO sqlalchemy.engine.base.Engine SELECT name FROM sqlite_master WHERE type='table' ORDER BY name\n",
      "2019-07-09 14:06:36,584 INFO sqlalchemy.engine.base.Engine ()\n",
      "Album\n",
      "Artist\n",
      "Genre\n",
      "Track\n",
      "adresses\n",
      "users\n"
     ]
    }
   ],
   "source": [
    "# Table에 객체들이 저장되어 있는지 확인 하는 방법??\n",
    "for table in engine.table_names():\n",
    "    print(table)"
   ]
  },
  {
   "cell_type": "code",
   "execution_count": 101,
   "metadata": {},
   "outputs": [
    {
     "name": "stdout",
     "output_type": "stream",
     "text": [
      "2019-07-09 14:06:40,524 INFO sqlalchemy.engine.base.Engine INSERT INTO \"Artist\" (name) VALUES (?)\n",
      "2019-07-09 14:06:40,525 INFO sqlalchemy.engine.base.Engine (('Led',), ('Daniel',))\n",
      "2019-07-09 14:06:40,527 INFO sqlalchemy.engine.base.Engine COMMIT\n",
      "2019-07-09 14:06:40,528 INFO sqlalchemy.engine.base.Engine INSERT INTO \"Album\" (title, artist_id) VALUES (?, ?)\n",
      "2019-07-09 14:06:40,529 INFO sqlalchemy.engine.base.Engine (('Hoho', 1), ('Lulu', 2))\n",
      "2019-07-09 14:06:40,530 INFO sqlalchemy.engine.base.Engine COMMIT\n",
      "2019-07-09 14:06:40,532 INFO sqlalchemy.engine.base.Engine INSERT INTO \"Genre\" (name) VALUES (?)\n",
      "2019-07-09 14:06:40,533 INFO sqlalchemy.engine.base.Engine (('Rock',), ('Metal',))\n",
      "2019-07-09 14:06:40,534 INFO sqlalchemy.engine.base.Engine COMMIT\n",
      "2019-07-09 14:06:40,536 INFO sqlalchemy.engine.base.Engine INSERT INTO \"Track\" (title, length, rating, count, album_id, genre_id) VALUES (?, ?, ?, ?, ?, ?)\n",
      "2019-07-09 14:06:40,537 INFO sqlalchemy.engine.base.Engine (('Black', 3234, 5, 0, 1, 1), ('White', 1182, 3, 0, 2, 2), ('FUnkt', 32, 7, 0, 1, 2), ('Angds', 134, 1, 0, 2, 1))\n",
      "2019-07-09 14:06:40,538 INFO sqlalchemy.engine.base.Engine COMMIT\n"
     ]
    },
    {
     "data": {
      "text/plain": [
       "<sqlalchemy.engine.result.ResultProxy at 0x1d4a3912908>"
      ]
     },
     "execution_count": 101,
     "metadata": {},
     "output_type": "execute_result"
    }
   ],
   "source": [
    "# INSERT 하는 방법\n",
    "\n",
    "conn.execute(artist.insert(),[\n",
    "    {\"name\":\"Led\"},\n",
    "    {\"name\":\"Daniel\"}\n",
    "])\n",
    "\n",
    "\n",
    "conn.execute(album.insert(),[\n",
    "    {\"title\":\"Hoho\", \"artist_id\":1},\n",
    "    {\"title\":\"Lulu\", \"artist_id\":2}\n",
    "])\n",
    "\n",
    "conn.execute(genre.insert(),[\n",
    "    {\"name\":\"Rock\"},\n",
    "    {\"name\":\"Metal\"}\n",
    "])\n",
    "\n",
    "conn.execute(track.insert(),[\n",
    "    {\"title\":\"Black\",\"rating\":5,\"length\":3234,\"count\":0, \"album_id\":1,\"genre_id\":1},\n",
    "    {\"title\":\"White\",\"rating\":3,\"length\":1182,\"count\":0, \"album_id\":2,\"genre_id\":2},\n",
    "    {\"title\":\"FUnkt\",\"rating\":7,\"length\":32,\"count\":0, \"album_id\":1,\"genre_id\":2},\n",
    "    {\"title\":\"Angds\",\"rating\":1,\"length\":134,\"count\":0, \"album_id\":2,\"genre_id\":1},\n",
    "])\n",
    "\n"
   ]
  },
  {
   "cell_type": "code",
   "execution_count": 106,
   "metadata": {},
   "outputs": [
    {
     "name": "stdout",
     "output_type": "stream",
     "text": [
      "2019-07-09 14:11:37,633 INFO sqlalchemy.engine.base.Engine SELECT \"Track\".id, \"Track\".title, \"Track\".length, \"Track\".rating, \"Track\".count, \"Track\".album_id, \"Track\".genre_id \n",
      "FROM \"Track\" \n",
      "WHERE \"Track\".album_id = ? AND \"Track\".genre_id = ?\n",
      "2019-07-09 14:11:37,634 INFO sqlalchemy.engine.base.Engine (1, 1)\n",
      "(None, 'Black', 3234, 5, 0, 1, 1)\n"
     ]
    }
   ],
   "source": [
    "# where\n",
    "\n",
    "trackResult = conn.execute(select([track])\n",
    "                          .where(\n",
    "                              and_(track.c.album_id == 1, track.c.genre_id == 1)\n",
    "                          )\n",
    "                          )\n",
    "for row in trackResult:\n",
    "    print(row)"
   ]
  },
  {
   "cell_type": "code",
   "execution_count": 109,
   "metadata": {},
   "outputs": [
    {
     "name": "stdout",
     "output_type": "stream",
     "text": [
      "2019-07-09 14:13:36,087 INFO sqlalchemy.engine.base.Engine SELECT \"Track\".id, \"Track\".title, \"Track\".length, \"Track\".rating, \"Track\".count, \"Track\".album_id, \"Track\".genre_id \n",
      "FROM \"Track\" JOIN \"Album\" ON \"Album\".id = \"Track\".album_id\n",
      "2019-07-09 14:13:36,088 INFO sqlalchemy.engine.base.Engine ()\n"
     ]
    }
   ],
   "source": [
    "#join \n",
    "# 이런식으로 같이 join을 하고 확인할 수 있음\n",
    "result = conn.execute(track\n",
    "                     .select()\n",
    "                     .select_from(track.join(album)))\n",
    "\n",
    "for row in result.fetchall():\n",
    "    print(row)"
   ]
  },
  {
   "cell_type": "code",
   "execution_count": 114,
   "metadata": {},
   "outputs": [
    {
     "name": "stdout",
     "output_type": "stream",
     "text": [
      "2019-07-09 14:17:52,319 INFO sqlalchemy.engine.base.Engine SELECT \"Track\".title, \"Album\".title, \"Genre\".name, \"Artist\".name \n",
      "FROM \"Track\" JOIN \"Album\" ON \"Album\".id = \"Track\".album_id JOIN \"Genre\" ON \"Genre\".id = \"Track\".genre_id JOIN \"Artist\" ON \"Artist\".id = \"Album\".artist_id\n",
      "2019-07-09 14:17:52,320 INFO sqlalchemy.engine.base.Engine ()\n"
     ]
    }
   ],
   "source": [
    "# Multiple Join\n",
    "# 가져오고 싶은 column만 써주면 된다는 장점이 있음 -> primary key 서로 맞출 필요가 없다는 엄청난 장점이 있음\n",
    "\n",
    "result = conn.execute(select([track.c.title,album.c.title,genre.c.name,artist.c.name])\n",
    "                      .select_from(track.join(album).join(genre).join(artist)))\n",
    "\n",
    "for row in result.fetchall():\n",
    "    print(row)"
   ]
  },
  {
   "cell_type": "code",
   "execution_count": 116,
   "metadata": {},
   "outputs": [
    {
     "name": "stdout",
     "output_type": "stream",
     "text": [
      "2019-07-09 14:19:00,150 INFO sqlalchemy.engine.base.Engine SELECT \"Track\".title, \"Album\".title, \"Genre\".name, \"Artist\".name \n",
      "FROM \"Track\" JOIN \"Album\" ON \"Album\".id = \"Track\".album_id JOIN \"Genre\" ON \"Genre\".id = \"Track\".genre_id JOIN \"Artist\" ON \"Artist\".id = \"Album\".artist_id \n",
      "WHERE \"Genre\".id = ? AND \"Artist\".id = ?\n",
      "2019-07-09 14:19:00,151 INFO sqlalchemy.engine.base.Engine (1, 1)\n"
     ]
    }
   ],
   "source": [
    "# 1개의 결과값을 찾았다??\n",
    "\n",
    "result = conn.execute(select([track.c.title,album.c.title,genre.c.name,artist.c.name])\n",
    "                      .select_from(track.join(album).join(genre).join(artist))\n",
    "                      .where(\n",
    "                      and_(\n",
    "                      genre.c.id == 1,\n",
    "                      artist.c.id ==1\n",
    "                      \n",
    "                      )))\n",
    "\n",
    "for row in result.fetchall():\n",
    "    print(row)"
   ]
  },
  {
   "cell_type": "code",
   "execution_count": 257,
   "metadata": {},
   "outputs": [],
   "source": [
    "# Engine은 살아있는 상태이며, metadata는 이미 비운 상태 ,따라서 아무것도 안나와야 한다\n",
    "conn.close()\n",
    "metadata.clear()"
   ]
  },
  {
   "cell_type": "code",
   "execution_count": 258,
   "metadata": {},
   "outputs": [],
   "source": [
    "# 현재 metadata에는 table이 비여있음\n",
    "for table in tables:\n",
    "    print(table)"
   ]
  },
  {
   "cell_type": "code",
   "execution_count": 264,
   "metadata": {},
   "outputs": [],
   "source": [
    "# Engine에는 table이 존재\n",
    "\n",
    "for table in engine.table_names():\n",
    "    print(table)"
   ]
  },
  {
   "cell_type": "code",
   "execution_count": 267,
   "metadata": {},
   "outputs": [
    {
     "name": "stderr",
     "output_type": "stream",
     "text": [
      "c:\\users\\lucro\\anaconda3\\envs\\py36\\lib\\site-packages\\ipykernel_launcher.py:1: SADeprecationWarning: The MetaData.reflect flag is deprecated and will be removed in a future release.   Please use the MetaData.reflect() method.\n",
      "  \"\"\"Entry point for launching an IPython kernel.\n"
     ]
    }
   ],
   "source": [
    "metadata = MetaData(bind = engine, reflect = True)\n",
    "metadata.reflect(bind=engine)\n",
    "\n",
    "# 엔진에서 metadata로 table들을 받아 드렸음 -> 이를 row로 반영\n",
    "for row in metadata.tables:\n",
    "    print(row)\n",
    "                 "
   ]
  },
  {
   "cell_type": "code",
   "execution_count": 242,
   "metadata": {},
   "outputs": [],
   "source": [
    "#선언부와 base가 필요하다 -> 이는 상위 class의 개념이 된다.\n",
    "\n",
    "from sqlalchemy import create_engine\n",
    "engine = create_engine(\"sqlite:///:memory:\")\n",
    "\n",
    "from sqlalchemy.ext.declarative import declarative_base\n",
    "base = declarative_base()"
   ]
  },
  {
   "cell_type": "code",
   "execution_count": 243,
   "metadata": {
    "scrolled": true
   },
   "outputs": [],
   "source": [
    "class User(base):\n",
    "    __tablename__=\"users\"\n",
    "    \n",
    "    id = Column(Integer, primary_key = True)\n",
    "    name = Column(String)\n",
    "    fullname = Column(String)\n",
    "    password = Column(\"password\", String)\n",
    "    \n",
    "    def __repr__(self):\n",
    "        return\"<T'User(name = '%s', fullname = '%s', password = '%s')>\"\\\n",
    "               %(self.name,self.fullname,self.password)"
   ]
  },
  {
   "cell_type": "code",
   "execution_count": 244,
   "metadata": {},
   "outputs": [
    {
     "data": {
      "text/plain": [
       "Table('users', MetaData(bind=None), Column('id', Integer(), table=<users>, primary_key=True, nullable=False), Column('name', String(), table=<users>), Column('fullname', String(), table=<users>), Column('password', String(), table=<users>), schema=None)"
      ]
     },
     "execution_count": 244,
     "metadata": {},
     "output_type": "execute_result"
    }
   ],
   "source": [
    "User.__table__"
   ]
  },
  {
   "cell_type": "code",
   "execution_count": 197,
   "metadata": {},
   "outputs": [],
   "source": [
    "base.metadata.create_all(engine)"
   ]
  },
  {
   "cell_type": "code",
   "execution_count": 198,
   "metadata": {},
   "outputs": [
    {
     "name": "stdout",
     "output_type": "stream",
     "text": [
      "<T'User(name = 'kim', fullname = 'annoymou, kim', password = 'aaa')>\n",
      "None\n"
     ]
    }
   ],
   "source": [
    "kim = User(name = \"kim\", fullname = \"annoymou, kim\", password=\"aaa\")\n",
    "\n",
    "print(kim)\n",
    "print(kim.id)"
   ]
  },
  {
   "cell_type": "code",
   "execution_count": 199,
   "metadata": {},
   "outputs": [],
   "source": [
    "# Session -> database와 우리들의 object를 왔다 갔다 해주는 아이???\n",
    "# 중간에 ORM이 조율을 해준다 -> 싱크가 틀어질 수 있음 -> 데이터 베이스에는 정보가 없는 경우 , insert가 제대로 되지 않는 경우 \n",
    "\n",
    "from sqlalchemy.orm import sessionmaker\n",
    "\n",
    "session = sessionmaker(bind = engine)\n",
    "session = session()"
   ]
  },
  {
   "cell_type": "code",
   "execution_count": 200,
   "metadata": {},
   "outputs": [],
   "source": [
    "# commit를 해야 한다\n",
    "session.add(kim)"
   ]
  },
  {
   "cell_type": "code",
   "execution_count": 201,
   "metadata": {},
   "outputs": [],
   "source": [
    "session.commit()"
   ]
  },
  {
   "cell_type": "code",
   "execution_count": 202,
   "metadata": {},
   "outputs": [
    {
     "data": {
      "text/plain": [
       "True"
      ]
     },
     "execution_count": 202,
     "metadata": {},
     "output_type": "execute_result"
    }
   ],
   "source": [
    "kim.password = 'password'\n",
    "\n",
    "# UPDATE\n",
    "session.dirty\n",
    "\n",
    "session.is_modified(kim)"
   ]
  },
  {
   "cell_type": "code",
   "execution_count": 203,
   "metadata": {},
   "outputs": [
    {
     "name": "stdout",
     "output_type": "stream",
     "text": [
      "<class '__main__.User'>\n",
      "1 kim annoymou, kim password\n"
     ]
    }
   ],
   "source": [
    "for row in session.query(User):\n",
    "    print(type(row))\n",
    "    print(row.id,row.name,row.fullname,row.password)"
   ]
  },
  {
   "cell_type": "code",
   "execution_count": 206,
   "metadata": {},
   "outputs": [
    {
     "name": "stdout",
     "output_type": "stream",
     "text": [
      "<class 'sqlalchemy.util._collections.result'>\n",
      "1 annoymou, kim\n"
     ]
    }
   ],
   "source": [
    "for row in session.query(User.id,User.fullname).filter_by(name = \"kim\"):\n",
    "    print(type(row))\n",
    "    print(row.id,row.fullname)"
   ]
  },
  {
   "cell_type": "code",
   "execution_count": 272,
   "metadata": {},
   "outputs": [
    {
     "data": {
      "text/plain": [
       "<function sqlalchemy.orm.relationship(argument, secondary=None, primaryjoin=None, secondaryjoin=None, foreign_keys=None, uselist=None, order_by=False, backref=None, back_populates=None, post_update=False, cascade=False, extension=None, viewonly=False, lazy='select', collection_class=None, passive_deletes=False, passive_updates=True, remote_side=None, enable_typechecks=True, join_depth=None, comparator_factory=None, single_parent=False, innerjoin=False, distinct_target_key=None, doc=None, active_history=False, cascade_backrefs=True, load_on_pending=False, bake_queries=True, _local_remote_pairs=None, query_class=None, info=None, omit_join=None)>"
      ]
     },
     "execution_count": 272,
     "metadata": {},
     "output_type": "execute_result"
    }
   ],
   "source": [
    "sqlalchemy.orm.relationship"
   ]
  },
  {
   "cell_type": "code",
   "execution_count": 277,
   "metadata": {},
   "outputs": [],
   "source": [
    "base.metadata.clear()"
   ]
  },
  {
   "cell_type": "code",
   "execution_count": 278,
   "metadata": {},
   "outputs": [
    {
     "name": "stderr",
     "output_type": "stream",
     "text": [
      "c:\\users\\lucro\\anaconda3\\envs\\py36\\lib\\site-packages\\sqlalchemy\\ext\\declarative\\clsregistry.py:129: SAWarning: This declarative base already contains a class with the same class name and module name as __main__.Artists, and will be replaced in the string-lookup table.\n",
      "  % (item.__module__, item.__name__)\n",
      "c:\\users\\lucro\\anaconda3\\envs\\py36\\lib\\site-packages\\sqlalchemy\\ext\\declarative\\clsregistry.py:129: SAWarning: This declarative base already contains a class with the same class name and module name as __main__.Album, and will be replaced in the string-lookup table.\n",
      "  % (item.__module__, item.__name__)\n",
      "c:\\users\\lucro\\anaconda3\\envs\\py36\\lib\\site-packages\\sqlalchemy\\ext\\declarative\\clsregistry.py:129: SAWarning: This declarative base already contains a class with the same class name and module name as __main__.Genre, and will be replaced in the string-lookup table.\n",
      "  % (item.__module__, item.__name__)\n"
     ]
    }
   ],
   "source": [
    "from sqlalchemy.orm import relationship \n",
    "# back_populates을 하면 table을 join하지 않아도 된다는 장점이 있음 -> 권장!\n",
    "class Artists(base):\n",
    "    __tablename__=\"Artists\"\n",
    "    \n",
    "    id = Column(Integer, primary_key = True)\n",
    "    name = Column(String)\n",
    "    \n",
    "    albumList = relationship(\"Album\",back_populates = \"artist\")\n",
    "    \n",
    "    \n",
    "class Album(base):\n",
    "    __tablename__=\"Album\"\n",
    "    \n",
    "    id = Column(Integer, primary_key = True)\n",
    "    title = Column(String)\n",
    "    Artist_id = Column(Integer,ForeignKey(\"Artist.id\"))\n",
    "    \n",
    "    artist = relationship (\"Artist\",back_populates=\"albumList\",uselist = False)\n",
    "    trackList = relationship(\"Track\",back_populates = \"album\")\n",
    "\n",
    "class Genre(base):\n",
    "    __tablename__=\"Genre\"\n",
    "    \n",
    "    id = Column(Integer, primary_key = True)\n",
    "    name = Column(String)\n",
    "    \n",
    "    trackList = relationship(\"Track\",back_populates = \"genre\")\n",
    "    \n",
    "class Track(base):\n",
    "    __tablename__=\"Track\"\n",
    "    \n",
    "    id = Column(Integer, primary_key = True)\n",
    "    title = Column(String)\n",
    "    length = Column(Integer)\n",
    "    rating = Column(Integer)\n",
    "    count = Column(String)\n",
    "    album_id = Column(Integer,ForeignKey(\"Album.id\"))\n",
    "    genre_id = Column(Integer,ForeignKey(\"Genre.id\"))\n",
    "    \n",
    "    album = relationship (\"Album\",back_populates = \"trackList\",uselist = False)\n",
    "    genre = relationship (\"Genre\",back_populates = \"trackList\",uselist = False)"
   ]
  },
  {
   "cell_type": "code",
   "execution_count": 280,
   "metadata": {},
   "outputs": [],
   "source": [
    "#metadata.clear() Table에 객체들이 저장되어 있는지 확인 하는 방법??\n",
    "for table in engine.table_names():\n",
    "    print(table)"
   ]
  },
  {
   "cell_type": "code",
   "execution_count": 282,
   "metadata": {},
   "outputs": [],
   "source": [
    "# base.metadata.create_all(engine)\n",
    "# base data는 engine에 따로 올릴 필요가 없음"
   ]
  },
  {
   "cell_type": "markdown",
   "metadata": {},
   "source": [
    "Regular Expression에 대한 이해"
   ]
  },
  {
   "cell_type": "code",
   "execution_count": 284,
   "metadata": {},
   "outputs": [],
   "source": [
    "# 속도가 빠르다는 특징을 지님 -> text을 처리할때 효율적 \n",
    "# regular expression?? -> 패턴을 만드는 일환이라 생각하면 편함\n",
    "# 왜 쓸까?? -> 주어진 text으로 부터 unstructured를 structured으로 바꾸고자 함 , 특정한 패턴을 찾음"
   ]
  },
  {
   "cell_type": "code",
   "execution_count": 286,
   "metadata": {},
   "outputs": [],
   "source": [
    "# 쓰는 이유?\n",
    "# 1.) 속도가 매우 빠름 -> linux상 이를 사용하면 매우매우 빠름 \n",
    "# 2.) NLP에 반드시 이 친구를 써야 한다 -> 한국 text는 이를 쓰는 것이 매우 효과적 -> 한국말 처리가 매우 중요\n",
    "# ex.) 영어는 하나의 단어이기에 밀어넣으면 쉬움 // 그러나 한국어는 어근을 찾지 못하여 어려움.... 다 다르다네....음절?? 음소?? 음가???\n",
    "# 3.) 이메일이나 계정 등 validation을 위하여 쓰임 -> 매우 빨라야함, 우리나라는 1초 걸려야함 -> validation이 중요\n",
    "# 단점 -> learning curve가 존재 -> 익숙해지기 위해서는 매우 오래 걸린다는 단점이 있음"
   ]
  },
  {
   "cell_type": "code",
   "execution_count": null,
   "metadata": {},
   "outputs": [],
   "source": [
    "# Anchor : ^$\n",
    "# Alternative : |\n",
    "# Gropuing: 0\n",
    "# Quantification: ?+*{m,n}\n",
    "# Main Characters : .[][-][^]\n",
    "# Character Classes : \\w\\d\\s\\w...."
   ]
  },
  {
   "cell_type": "code",
   "execution_count": null,
   "metadata": {},
   "outputs": [],
   "source": [
    "# .(dot) \n",
    "#   - a,b \n",
    "#   - a + 모든 문자 + b\n",
    "#   - aab,a)b\n",
    "\n",
    "# *(asterisk)\n",
    "# - ab*c\n",
    "# - a + b(0번 이상 반복) + c\n",
    "# - ac,abc,abbbbbbbbc\n",
    "\n",
    "# +(plus)\n",
    "# - ab+c\n",
    "# - a+b(1번 이상 반복)\n",
    "# - abc,abbbbbbbc\n",
    "\n",
    "# {n|min,|min,max}(curly braces)\n",
    "# - {0,}=*,{1,}=+\n",
    "# ab{1}c, ab{2,6}c\n",
    "\n",
    "# ?(question)\n",
    "# - ab?c b{0,1}\n",
    "# - a+b(1개 있거나, 없거나) + c\n",
    "# ac,abc"
   ]
  },
  {
   "cell_type": "code",
   "execution_count": 293,
   "metadata": {},
   "outputs": [
    {
     "name": "stdout",
     "output_type": "stream",
     "text": [
      "None\n",
      "<_sre.SRE_Match object; span=(6, 7), match='w'>\n"
     ]
    }
   ],
   "source": [
    "# 예제\n",
    "import re\n",
    "content = \"hello world\"\n",
    "\n",
    "print(re.match(\"w\",content))\n",
    "print(re.search(\"w\",content))\n"
   ]
  },
  {
   "cell_type": "code",
   "execution_count": 297,
   "metadata": {},
   "outputs": [
    {
     "name": "stdout",
     "output_type": "stream",
     "text": [
      "park 800905-*******\n",
      "kim  700905-*******  \n"
     ]
    }
   ],
   "source": [
    "# 정규식을 이용하면 확실히 더 편해짐\n",
    "\n",
    "data = \"\"\"park 800905-1049118\n",
    "kim  700905-1059119  \"\"\"\n",
    "\n",
    "pat = re.compile(\"(\\d{6})[-]\\d{7}\")\n",
    "print(pat.sub(\"\\g<1>-*******\",data))"
   ]
  },
  {
   "cell_type": "code",
   "execution_count": 299,
   "metadata": {},
   "outputs": [
    {
     "name": "stdout",
     "output_type": "stream",
     "text": [
      "<_sre.SRE_Match object; span=(0, 4), match='Crow'>\n"
     ]
    }
   ],
   "source": [
    "p = re.compile('Crow|Servo')\n",
    "m = p.match('CrowHello')\n",
    "\n",
    "print(m)"
   ]
  },
  {
   "cell_type": "code",
   "execution_count": 300,
   "metadata": {},
   "outputs": [
    {
     "name": "stdout",
     "output_type": "stream",
     "text": [
      "<_sre.SRE_Match object; span=(3, 8), match='class'>\n",
      "None\n",
      "None\n"
     ]
    }
   ],
   "source": [
    "# Class를 찾아달라고 한다\n",
    "\n",
    "p = re.compile(r'\\bclass\\b')\n",
    "\n",
    "print(p.search('no class at all'))\n",
    "print(p.search(' one subclass is'))\n",
    "print(p.search('the disclassfied algorithm'))\n",
    "      "
   ]
  },
  {
   "cell_type": "code",
   "execution_count": 302,
   "metadata": {},
   "outputs": [
    {
     "name": "stdout",
     "output_type": "stream",
     "text": [
      "Isac\n",
      "Isa\n",
      "c\n",
      "('Isa', 'c')\n"
     ]
    }
   ],
   "source": [
    "# Group에 대한 예제\n",
    "\n",
    "m = re.match(r\"(\\w+)(\\w+)\",\"Isac Newton, psychologist\")\n",
    "print(m.group(0))\n",
    "print(m.group(1))\n",
    "print(m.group(2))\n",
    "print(m.group(1,2))"
   ]
  },
  {
   "cell_type": "code",
   "execution_count": 305,
   "metadata": {},
   "outputs": [
    {
     "name": "stdout",
     "output_type": "stream",
     "text": [
      "Isac Newton\n"
     ]
    },
    {
     "data": {
      "text/plain": [
       "'Newton Isac, psychologist'"
      ]
     },
     "execution_count": 305,
     "metadata": {},
     "output_type": "execute_result"
    }
   ],
   "source": [
    "p = re.compile(r\"(\\w+) (\\w+)\")\n",
    "m = p.search(\"Isac Newton, psychologist\")\n",
    "print(m.group())\n",
    "\n",
    "p.sub(\"\\g<2> \\g<1>\",\"Isac Newton, psychologist\")"
   ]
  }
 ],
 "metadata": {
  "kernelspec": {
   "display_name": "Python 3",
   "language": "python",
   "name": "python3"
  },
  "language_info": {
   "codemirror_mode": {
    "name": "ipython",
    "version": 3
   },
   "file_extension": ".py",
   "mimetype": "text/x-python",
   "name": "python",
   "nbconvert_exporter": "python",
   "pygments_lexer": "ipython3",
   "version": "3.6.8"
  }
 },
 "nbformat": 4,
 "nbformat_minor": 2
}
