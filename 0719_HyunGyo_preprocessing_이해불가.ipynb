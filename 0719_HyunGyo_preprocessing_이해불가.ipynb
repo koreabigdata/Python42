{
 "cells": [
  {
   "cell_type": "markdown",
   "metadata": {},
   "source": [
    "# Preprocessing(1)"
   ]
  },
  {
   "cell_type": "markdown",
   "metadata": {},
   "source": [
    "자연어 분석\n",
    "- 형태소 분석\n",
    "- 구문 분석\n",
    "- 의미 분석\n",
    "- 담화 분석 \n",
    "- 중의성 해소\n",
    "\n",
    "응용 기술\n",
    "- 검색\n",
    "- 온라인광고\n",
    "- 자동번역\n",
    "- 감정분석\n",
    "- 음성인식\n",
    "- 맞춤법 검사"
   ]
  },
  {
   "cell_type": "markdown",
   "metadata": {},
   "source": [
    "large scale 차원에서  벡터화\n",
    "\n",
    "- 온톨로지 : 사람이 직접 사전화 한다? 그래서 제약사항이 많은가봄\n",
    "\n",
    "word embeding\n",
    "\n",
    "- 딥러닝 : 번역, \n",
    "\n",
    "문장 -> 문단 -> 담화\n",
    "\n",
    "최소단위 : 문장\n",
    "\n",
    "최대단위 : text"
   ]
  },
  {
   "cell_type": "markdown",
   "metadata": {},
   "source": [
    "- KoNLPy\n",
    "- NLTK (Natural Language Tool Kit)"
   ]
  },
  {
   "cell_type": "markdown",
   "metadata": {},
   "source": [
    "## Tokenizing"
   ]
  },
  {
   "cell_type": "code",
   "execution_count": 5,
   "metadata": {},
   "outputs": [],
   "source": [
    "import nltk"
   ]
  },
  {
   "cell_type": "code",
   "execution_count": 6,
   "metadata": {
    "collapsed": true
   },
   "outputs": [
    {
     "name": "stderr",
     "output_type": "stream",
     "text": [
      "[nltk_data] Downloading package punkt to\n",
      "[nltk_data]     C:\\Users\\User\\AppData\\Roaming\\nltk_data...\n",
      "[nltk_data]   Unzipping tokenizers\\punkt.zip.\n"
     ]
    },
    {
     "data": {
      "text/plain": [
       "True"
      ]
     },
     "execution_count": 6,
     "metadata": {},
     "output_type": "execute_result"
    }
   ],
   "source": [
    "nltk.download(\"punkt\")"
   ]
  },
  {
   "cell_type": "code",
   "execution_count": 111,
   "metadata": {},
   "outputs": [],
   "source": [
    "import sqlite3\n",
    "con = sqlite3.connect(\"bot2.db\")\n",
    "cur = con.cursor()"
   ]
  },
  {
   "cell_type": "code",
   "execution_count": 223,
   "metadata": {},
   "outputs": [],
   "source": [
    "cur.execute(\"\"\"\n",
    "    select content from table2 order by id ASC\n",
    "    LIMIT 0,2\n",
    "\"\"\")\n",
    "\n",
    "corpus = [_[0] for _ in cur.fetchall()]"
   ]
  },
  {
   "cell_type": "code",
   "execution_count": 225,
   "metadata": {
    "scrolled": true
   },
   "outputs": [
    {
     "ename": "AttributeError",
     "evalue": "'list' object has no attribute 'split'",
     "output_type": "error",
     "traceback": [
      "\u001b[1;31m---------------------------------------------------------------------------\u001b[0m",
      "\u001b[1;31mAttributeError\u001b[0m                            Traceback (most recent call last)",
      "\u001b[1;32m<ipython-input-225-97dd5202967c>\u001b[0m in \u001b[0;36m<module>\u001b[1;34m\u001b[0m\n\u001b[1;32m----> 1\u001b[1;33m \u001b[0mlen\u001b[0m\u001b[1;33m(\u001b[0m\u001b[0mcorpus\u001b[0m\u001b[1;33m[\u001b[0m\u001b[1;36m0\u001b[0m\u001b[1;33m]\u001b[0m\u001b[1;33m)\u001b[0m\u001b[1;33m,\u001b[0m \u001b[0mlen\u001b[0m\u001b[1;33m(\u001b[0m\u001b[0mcorpus\u001b[0m\u001b[1;33m.\u001b[0m\u001b[0msplit\u001b[0m\u001b[1;33m(\u001b[0m\u001b[1;33m)\u001b[0m\u001b[1;33m[\u001b[0m\u001b[1;36m0\u001b[0m\u001b[1;33m]\u001b[0m\u001b[1;33m)\u001b[0m\u001b[1;33m,\u001b[0m \u001b[0mlen\u001b[0m\u001b[1;33m(\u001b[0m\u001b[0mcorpus\u001b[0m\u001b[1;33m.\u001b[0m\u001b[0msplitlines\u001b[0m\u001b[1;33m(\u001b[0m\u001b[1;33m)\u001b[0m\u001b[1;33m[\u001b[0m\u001b[1;36m0\u001b[0m\u001b[1;33m]\u001b[0m\u001b[1;33m)\u001b[0m \u001b[1;31m#글자수, 빈칸으로 나눈 수, 엔터로 나눈 수\u001b[0m\u001b[1;33m\u001b[0m\u001b[1;33m\u001b[0m\u001b[0m\n\u001b[0m",
      "\u001b[1;31mAttributeError\u001b[0m: 'list' object has no attribute 'split'"
     ]
    }
   ],
   "source": [
    "len(corpus[0]), len(corpus.split()[0]), len(corpus.splitlines()[0]) #글자수, 빈칸으로 나눈 수, 엔터로 나눈 수"
   ]
  },
  {
   "cell_type": "code",
   "execution_count": 222,
   "metadata": {},
   "outputs": [
    {
     "data": {
      "text/plain": [
       "(14873, 747)"
      ]
     },
     "execution_count": 222,
     "metadata": {},
     "output_type": "execute_result"
    }
   ],
   "source": [
    "from nltk.tokenize import sent_tokenize\n",
    "len(word_tokenize(corpus)), len(sent_tokenize(corpus)) # 이거 함수들 어떻게 사용하는건지 알아보기"
   ]
  },
  {
   "cell_type": "code",
   "execution_count": 41,
   "metadata": {},
   "outputs": [
    {
     "data": {
      "text/plain": [
       "'트럼프 \"미 해군, 이란 드론 격추\"…이란 \"아무 정보 없다\"'"
      ]
     },
     "execution_count": 41,
     "metadata": {},
     "output_type": "execute_result"
    }
   ],
   "source": [
    "corpus[1].splitlines()[0]"
   ]
  },
  {
   "cell_type": "code",
   "execution_count": 43,
   "metadata": {},
   "outputs": [
    {
     "data": {
      "text/plain": [
       "'트럼프 \"미 해군, 이란 드론 격추\"…이란 \"아무 정보 없다\"\\n美, \\'호르무즈 호위 연합체\\' 결성하며 강성대응 예고\\n호르무즈 해협 © 뉴스1\\n\\n(서울=뉴스1) 한상희 기자 = 세계 최대 원유 수송로인 호르무즈 해협을 둘러싼 긴장이 30여년 만에 최고조에 달했다.'"
      ]
     },
     "execution_count": 43,
     "metadata": {},
     "output_type": "execute_result"
    }
   ],
   "source": [
    "sent_tokenize(corpus[1])[0]"
   ]
  },
  {
   "cell_type": "code",
   "execution_count": 61,
   "metadata": {},
   "outputs": [
    {
     "data": {
      "text/plain": [
       "['\\n    안녕하세여.', '수업듣기 싫네요!!', '왜죠.....& 왜']"
      ]
     },
     "execution_count": 61,
     "metadata": {},
     "output_type": "execute_result"
    }
   ],
   "source": [
    "sent_tokenize(\"\"\"\n",
    "    안녕하세여. 수업듣기 싫네요!!\n",
    "    왜죠..... 왜\n",
    "\"\"\")"
   ]
  },
  {
   "cell_type": "code",
   "execution_count": 47,
   "metadata": {},
   "outputs": [
    {
     "data": {
      "text/plain": [
       "'!\"#$%&\\'()*+,-./:;<=>?@[\\\\]^_`{|}~'"
      ]
     },
     "execution_count": 47,
     "metadata": {},
     "output_type": "execute_result"
    }
   ],
   "source": [
    "from string import punctuation\n",
    "punctuation  # 구두점들"
   ]
  },
  {
   "cell_type": "code",
   "execution_count": 68,
   "metadata": {},
   "outputs": [
    {
     "data": {
      "text/plain": [
       "['술',\n",
       " '한잔',\n",
       " '마셨습니다',\n",
       " '.',\n",
       " '영화가',\n",
       " '잘',\n",
       " '안되도',\n",
       " '좋습니다',\n",
       " '...',\n",
       " '하지만',\n",
       " '엄복동',\n",
       " '하나만',\n",
       " '기억해주세요',\n",
       " '.',\n",
       " '진심을',\n",
       " '다해',\n",
       " '전합니다',\n",
       " '.',\n",
       " '영화가',\n",
       " '별로일',\n",
       " '수',\n",
       " '있습니다',\n",
       " '.',\n",
       " \"'\",\n",
       " \"밤'낮으로\",\n",
       " '고민하고',\n",
       " '연기했습니다',\n",
       " '.',\n",
       " '최선을',\n",
       " '다해고',\n",
       " ',',\n",
       " '열심히',\n",
       " '했습니다',\n",
       " '.',\n",
       " '저의',\n",
       " '진심이',\n",
       " '느껴지길',\n",
       " '바랍니다']"
      ]
     },
     "execution_count": 68,
     "metadata": {},
     "output_type": "execute_result"
    }
   ],
   "source": [
    "from nltk.tokenize import word_tokenize\n",
    "word_tokenize(\"\"\"술 한잔 마셨습니다. 영화가 잘 안되도 좋습니다...\n",
    "              하지만 엄복동 하나만 기억해주세요. 진심을 다해 전합니다. \n",
    "              영화가 별로일 수 있습니다. '밤'낮으로 고민하고 연기했습니다. \n",
    "              최선을 다해고, 열심히 했습니다. 저의 진심이 느껴지길 바랍니다\"\"\")  # 어절(word 단위로 쪼개준다"
   ]
  },
  {
   "cell_type": "code",
   "execution_count": 71,
   "metadata": {},
   "outputs": [
    {
     "data": {
      "text/plain": [
       "['You', 'need', 'python', '=)', ':(', ')']"
      ]
     },
     "execution_count": 71,
     "metadata": {},
     "output_type": "execute_result"
    }
   ],
   "source": [
    "from nltk.tokenize import TweetTokenizer\n",
    "word_tokenize(\"you need Pthon =)\")\n",
    "TweetTokenizer().tokenize(\"you need pthon=);\")\n",
    "TweetTokenizer().tokenize(\"You need python =):()\")"
   ]
  },
  {
   "cell_type": "code",
   "execution_count": 78,
   "metadata": {},
   "outputs": [
    {
     "data": {
      "text/plain": [
       "[]"
      ]
     },
     "execution_count": 78,
     "metadata": {},
     "output_type": "execute_result"
    }
   ],
   "source": [
    "import re\n",
    "from nltk.tokenize import regexp_tokenize\n",
    "pattern = re.compile(r\"\\b({가-힣}+)\\b\")\n",
    "regexp_tokenize(\"wddd ㄱㄱ ㄷㄷ ㅋㅋ 한#%@글\", pattern)"
   ]
  },
  {
   "cell_type": "code",
   "execution_count": 79,
   "metadata": {},
   "outputs": [
    {
     "ename": "SyntaxError",
     "evalue": "EOL while scanning string literal (<ipython-input-79-45a52047ab70>, line 1)",
     "output_type": "error",
     "traceback": [
      "\u001b[1;36m  File \u001b[1;32m\"<ipython-input-79-45a52047ab70>\"\u001b[1;36m, line \u001b[1;32m1\u001b[0m\n\u001b[1;33m    re.sub(r\"[^ ㄱ-ㅎ])\u001b[0m\n\u001b[1;37m                     ^\u001b[0m\n\u001b[1;31mSyntaxError\u001b[0m\u001b[1;31m:\u001b[0m EOL while scanning string literal\n"
     ]
    }
   ],
   "source": [
    "re.sub(r\"[^ ㄱ-ㅎ])"
   ]
  },
  {
   "cell_type": "code",
   "execution_count": 241,
   "metadata": {},
   "outputs": [],
   "source": [
    "from nltk import Text\n",
    "\n",
    "text = Text(word_tokenize(corpus[0]))"
   ]
  },
  {
   "cell_type": "code",
   "execution_count": 83,
   "metadata": {},
   "outputs": [
    {
     "data": {
      "text/plain": [
       "(290, 435)"
      ]
     },
     "execution_count": 83,
     "metadata": {},
     "output_type": "execute_result"
    }
   ],
   "source": [
    "text.vocab().B(), text.vocab().N()# N: 전체 개수 B: 유니크한 애들"
   ]
  },
  {
   "cell_type": "code",
   "execution_count": 84,
   "metadata": {
    "scrolled": true
   },
   "outputs": [
    {
     "data": {
      "text/plain": [
       "[('.', 18),\n",
       " (',', 15),\n",
       " ('“', 11),\n",
       " ('”', 11),\n",
       " ('대표', 6),\n",
       " ('고', 6),\n",
       " ('말했다', 5),\n",
       " ('있다', 4),\n",
       " ('해임건의안', 4),\n",
       " ('국방장관', 4),\n",
       " ('19일', 3),\n",
       " ('오전', 3),\n",
       " ('열린', 3),\n",
       " ('하고', 3),\n",
       " ('[', 3),\n",
       " (']', 3),\n",
       " ('6월', 3),\n",
       " ('국회', 3),\n",
       " ('전날', 3),\n",
       " ('여야', 3),\n",
       " ('원내대표는', 3),\n",
       " ('이날', 3),\n",
       " ('며', 3),\n",
       " ('정', 3),\n",
       " ('바른미래당', 3),\n",
       " ('수', 3),\n",
       " ('나경원', 2),\n",
       " ('자유한국당', 2),\n",
       " ('원내대표가', 2),\n",
       " ('서울', 2)]"
      ]
     },
     "execution_count": 84,
     "metadata": {},
     "output_type": "execute_result"
    }
   ],
   "source": [
    "text.vocab().most_common(30)"
   ]
  },
  {
   "cell_type": "code",
   "execution_count": 87,
   "metadata": {
    "scrolled": true
   },
   "outputs": [
    {
     "data": {
      "image/png": "[encoded data removed]",
      "text/plain": [
       "<Figure size 432x288 with 1 Axes>"
      ]
     },
     "metadata": {
      "needs_background": "light"
     },
     "output_type": "display_data"
    }
   ],
   "source": [
    "text.plot()"
   ]
  },
  {
   "cell_type": "markdown",
   "metadata": {},
   "source": [
    "# Empirical Law"
   ]
  },
  {
   "cell_type": "code",
   "execution_count": 240,
   "metadata": {},
   "outputs": [
    {
     "data": {
      "text/plain": [
       "FreqDist({' ': 1})"
      ]
     },
     "execution_count": 240,
     "metadata": {},
     "output_type": "execute_result"
    }
   ],
   "source": [
    "text.vocab()"
   ]
  },
  {
   "cell_type": "code",
   "execution_count": 98,
   "metadata": {},
   "outputs": [
    {
     "data": {
      "text/plain": [
       "0.011494252873563218"
      ]
     },
     "execution_count": 98,
     "metadata": {},
     "output_type": "execute_result"
    }
   ],
   "source": [
    "text.vocab().freq(\"말했다\")"
   ]
  },
  {
   "cell_type": "code",
   "execution_count": 101,
   "metadata": {},
   "outputs": [
    {
     "name": "stdout",
     "output_type": "stream",
     "text": [
      "0.041379310344827586\n",
      "0.034482758620689655\n",
      "0.02528735632183908\n",
      "0.02528735632183908\n",
      "0.013793103448275862\n",
      "0.013793103448275862\n",
      "0.011494252873563218\n",
      "0.009195402298850575\n",
      "0.009195402298850575\n",
      "0.009195402298850575\n",
      "0.006896551724137931\n",
      "0.006896551724137931\n",
      "0.006896551724137931\n",
      "0.006896551724137931\n",
      "0.006896551724137931\n",
      "0.006896551724137931\n",
      "0.006896551724137931\n",
      "0.006896551724137931\n",
      "0.006896551724137931\n",
      "0.006896551724137931\n",
      "0.006896551724137931\n",
      "0.006896551724137931\n",
      "0.006896551724137931\n",
      "0.006896551724137931\n",
      "0.006896551724137931\n",
      "0.006896551724137931\n",
      "0.004597701149425287\n",
      "0.004597701149425287\n",
      "0.004597701149425287\n",
      "0.004597701149425287\n",
      "0.004597701149425287\n",
      "0.004597701149425287\n",
      "0.004597701149425287\n",
      "0.004597701149425287\n",
      "0.004597701149425287\n",
      "0.004597701149425287\n",
      "0.004597701149425287\n",
      "0.004597701149425287\n",
      "0.004597701149425287\n",
      "0.004597701149425287\n",
      "0.004597701149425287\n",
      "0.004597701149425287\n",
      "0.004597701149425287\n",
      "0.004597701149425287\n",
      "0.004597701149425287\n",
      "0.004597701149425287\n",
      "0.004597701149425287\n",
      "0.004597701149425287\n",
      "0.004597701149425287\n",
      "0.004597701149425287\n",
      "0.004597701149425287\n",
      "0.004597701149425287\n",
      "0.004597701149425287\n",
      "0.004597701149425287\n",
      "0.004597701149425287\n",
      "0.004597701149425287\n",
      "0.004597701149425287\n",
      "0.004597701149425287\n",
      "0.004597701149425287\n",
      "0.004597701149425287\n",
      "0.004597701149425287\n",
      "0.004597701149425287\n",
      "0.004597701149425287\n",
      "0.004597701149425287\n",
      "0.004597701149425287\n",
      "0.0022988505747126436\n",
      "0.0022988505747126436\n",
      "0.0022988505747126436\n",
      "0.0022988505747126436\n",
      "0.0022988505747126436\n",
      "0.0022988505747126436\n",
      "0.0022988505747126436\n",
      "0.0022988505747126436\n",
      "0.0022988505747126436\n",
      "0.0022988505747126436\n",
      "0.0022988505747126436\n",
      "0.0022988505747126436\n",
      "0.0022988505747126436\n",
      "0.0022988505747126436\n",
      "0.0022988505747126436\n",
      "0.0022988505747126436\n",
      "0.0022988505747126436\n",
      "0.0022988505747126436\n",
      "0.0022988505747126436\n",
      "0.0022988505747126436\n",
      "0.0022988505747126436\n",
      "0.0022988505747126436\n",
      "0.0022988505747126436\n",
      "0.0022988505747126436\n",
      "0.0022988505747126436\n",
      "0.0022988505747126436\n",
      "0.0022988505747126436\n",
      "0.0022988505747126436\n",
      "0.0022988505747126436\n",
      "0.0022988505747126436\n",
      "0.0022988505747126436\n",
      "0.0022988505747126436\n",
      "0.0022988505747126436\n",
      "0.0022988505747126436\n",
      "0.0022988505747126436\n",
      "0.0022988505747126436\n",
      "0.0022988505747126436\n",
      "0.0022988505747126436\n",
      "0.0022988505747126436\n",
      "0.0022988505747126436\n",
      "0.0022988505747126436\n",
      "0.0022988505747126436\n",
      "0.0022988505747126436\n",
      "0.0022988505747126436\n",
      "0.0022988505747126436\n",
      "0.0022988505747126436\n",
      "0.0022988505747126436\n",
      "0.0022988505747126436\n",
      "0.0022988505747126436\n",
      "0.0022988505747126436\n",
      "0.0022988505747126436\n",
      "0.0022988505747126436\n",
      "0.0022988505747126436\n",
      "0.0022988505747126436\n",
      "0.0022988505747126436\n",
      "0.0022988505747126436\n",
      "0.0022988505747126436\n",
      "0.0022988505747126436\n",
      "0.0022988505747126436\n",
      "0.0022988505747126436\n",
      "0.0022988505747126436\n",
      "0.0022988505747126436\n",
      "0.0022988505747126436\n",
      "0.0022988505747126436\n",
      "0.0022988505747126436\n",
      "0.0022988505747126436\n",
      "0.0022988505747126436\n",
      "0.0022988505747126436\n",
      "0.0022988505747126436\n",
      "0.0022988505747126436\n",
      "0.0022988505747126436\n",
      "0.0022988505747126436\n",
      "0.0022988505747126436\n",
      "0.0022988505747126436\n",
      "0.0022988505747126436\n",
      "0.0022988505747126436\n",
      "0.0022988505747126436\n",
      "0.0022988505747126436\n",
      "0.0022988505747126436\n",
      "0.0022988505747126436\n",
      "0.0022988505747126436\n",
      "0.0022988505747126436\n",
      "0.0022988505747126436\n",
      "0.0022988505747126436\n",
      "0.0022988505747126436\n",
      "0.0022988505747126436\n",
      "0.0022988505747126436\n",
      "0.0022988505747126436\n",
      "0.0022988505747126436\n",
      "0.0022988505747126436\n",
      "0.0022988505747126436\n",
      "0.0022988505747126436\n",
      "0.0022988505747126436\n",
      "0.0022988505747126436\n",
      "0.0022988505747126436\n",
      "0.0022988505747126436\n",
      "0.0022988505747126436\n",
      "0.0022988505747126436\n",
      "0.0022988505747126436\n",
      "0.0022988505747126436\n",
      "0.0022988505747126436\n",
      "0.0022988505747126436\n",
      "0.0022988505747126436\n",
      "0.0022988505747126436\n",
      "0.0022988505747126436\n",
      "0.0022988505747126436\n",
      "0.0022988505747126436\n",
      "0.0022988505747126436\n",
      "0.0022988505747126436\n",
      "0.0022988505747126436\n",
      "0.0022988505747126436\n",
      "0.0022988505747126436\n",
      "0.0022988505747126436\n",
      "0.0022988505747126436\n",
      "0.0022988505747126436\n",
      "0.0022988505747126436\n",
      "0.0022988505747126436\n",
      "0.0022988505747126436\n",
      "0.0022988505747126436\n",
      "0.0022988505747126436\n",
      "0.0022988505747126436\n",
      "0.0022988505747126436\n",
      "0.0022988505747126436\n",
      "0.0022988505747126436\n",
      "0.0022988505747126436\n",
      "0.0022988505747126436\n",
      "0.0022988505747126436\n",
      "0.0022988505747126436\n",
      "0.0022988505747126436\n",
      "0.0022988505747126436\n",
      "0.0022988505747126436\n",
      "0.0022988505747126436\n",
      "0.0022988505747126436\n",
      "0.0022988505747126436\n",
      "0.0022988505747126436\n",
      "0.0022988505747126436\n",
      "0.0022988505747126436\n",
      "0.0022988505747126436\n",
      "0.0022988505747126436\n",
      "0.0022988505747126436\n",
      "0.0022988505747126436\n",
      "0.0022988505747126436\n",
      "0.0022988505747126436\n",
      "0.0022988505747126436\n",
      "0.0022988505747126436\n",
      "0.0022988505747126436\n",
      "0.0022988505747126436\n",
      "0.0022988505747126436\n",
      "0.0022988505747126436\n",
      "0.0022988505747126436\n",
      "0.0022988505747126436\n",
      "0.0022988505747126436\n",
      "0.0022988505747126436\n",
      "0.0022988505747126436\n",
      "0.0022988505747126436\n",
      "0.0022988505747126436\n",
      "0.0022988505747126436\n",
      "0.0022988505747126436\n",
      "0.0022988505747126436\n",
      "0.0022988505747126436\n",
      "0.0022988505747126436\n",
      "0.0022988505747126436\n",
      "0.0022988505747126436\n",
      "0.0022988505747126436\n",
      "0.0022988505747126436\n",
      "0.0022988505747126436\n",
      "0.0022988505747126436\n",
      "0.0022988505747126436\n",
      "0.0022988505747126436\n",
      "0.0022988505747126436\n",
      "0.0022988505747126436\n",
      "0.0022988505747126436\n",
      "0.0022988505747126436\n",
      "0.0022988505747126436\n",
      "0.0022988505747126436\n",
      "0.0022988505747126436\n",
      "0.0022988505747126436\n",
      "0.0022988505747126436\n",
      "0.0022988505747126436\n",
      "0.0022988505747126436\n",
      "0.0022988505747126436\n",
      "0.0022988505747126436\n",
      "0.0022988505747126436\n",
      "0.0022988505747126436\n",
      "0.0022988505747126436\n",
      "0.0022988505747126436\n",
      "0.0022988505747126436\n",
      "0.0022988505747126436\n",
      "0.0022988505747126436\n",
      "0.0022988505747126436\n",
      "0.0022988505747126436\n",
      "0.0022988505747126436\n",
      "0.0022988505747126436\n",
      "0.0022988505747126436\n",
      "0.0022988505747126436\n",
      "0.0022988505747126436\n",
      "0.0022988505747126436\n",
      "0.0022988505747126436\n",
      "0.0022988505747126436\n",
      "0.0022988505747126436\n",
      "0.0022988505747126436\n",
      "0.0022988505747126436\n",
      "0.0022988505747126436\n",
      "0.0022988505747126436\n",
      "0.0022988505747126436\n",
      "0.0022988505747126436\n",
      "0.0022988505747126436\n",
      "0.0022988505747126436\n",
      "0.0022988505747126436\n",
      "0.0022988505747126436\n",
      "0.0022988505747126436\n",
      "0.0022988505747126436\n",
      "0.0022988505747126436\n",
      "0.0022988505747126436\n",
      "0.0022988505747126436\n",
      "0.0022988505747126436\n",
      "0.0022988505747126436\n",
      "0.0022988505747126436\n",
      "0.0022988505747126436\n",
      "0.0022988505747126436\n",
      "0.0022988505747126436\n",
      "0.0022988505747126436\n",
      "0.0022988505747126436\n",
      "0.0022988505747126436\n",
      "0.0022988505747126436\n",
      "1.000000000000008\n"
     ]
    }
   ],
   "source": [
    "ratio =0.0\n",
    "for _ in [_[0] for _ in text.vocab().most_common()]:\n",
    "    ratio += text.vocab().freq(_)\n",
    "    print(text.vocab().freq(_))\n",
    "print(ratio)"
   ]
  },
  {
   "cell_type": "markdown",
   "metadata": {},
   "source": [
    "#### Zipf's Law\n",
    "\n",
    "수많은 데이터중 어떤 피처를 사용할거냐\n"
   ]
  },
  {
   "cell_type": "code",
   "execution_count": 249,
   "metadata": {},
   "outputs": [],
   "source": [
    "cur.close()\n",
    "con.close()"
   ]
  },
  {
   "cell_type": "code",
   "execution_count": 272,
   "metadata": {
    "scrolled": true
   },
   "outputs": [
    {
     "data": {
      "text/plain": [
       "<sqlite3.Cursor at 0x1108d650>"
      ]
     },
     "execution_count": 272,
     "metadata": {},
     "output_type": "execute_result"
    }
   ],
   "source": [
    "import sqlite3\n",
    "con = sqlite3.connect(\"bot2.db\")\n",
    "cur = con.cursor()\n",
    "\n",
    "cur.execute(\"\"\"\n",
    "    select content from table2 order by id ASC\n",
    "    LIMIT 0,2\n",
    "\"\"\")"
   ]
  },
  {
   "cell_type": "code",
   "execution_count": 268,
   "metadata": {},
   "outputs": [],
   "source": [
    "corpus = [_[0] for _ in cur.fetchall()]"
   ]
  },
  {
   "cell_type": "code",
   "execution_count": 270,
   "metadata": {},
   "outputs": [
    {
     "data": {
      "text/plain": [
       "\"나경원 자유한국당 원내대표가 19일 오전 서울 여의도 국회에서 열린 원내대책회의에서 모두발언을 하고 있다. [뉴스1]\\n\\n6월 임시국회가 ‘빈손 국회’로 끝날 가능성이 커졌다. 19일은 6월 임시국회 마지막 날이다.\\n\\n전날 문재인 대통령과 여야 5당 대표 회동에서도 추가경정예산안(추경) 처리와 정경두 국방부장관 해임건의안 상정 등을 두고 접점을 찾지 못했다. 더불어민주당과 자유한국당은 19일 오후 2시 각각 의원총회를 열어 대응 방안을 논의한다.\\n\\n나경원 한국당 원내대표는 이날 오전 당 원내대책회의에서 “6월 임시국회가 이 모양에 이르게 된 것에 안타까움을 넘어 자괴감을 느낀다”며 “여당은 두 가지 중 하나를 선택해 달라”고 말했다. 나 원내대표는 “오늘 북한 목선 국정조사를 받으면 나머지 법안과 추경안을 심사해 할 건 하고 뺄 건 빼겠다”며 “아니면 다음 주에 투 포인트 국회 본회의를 열어서 하루는 정 장관 해임건의안을 보고하고, 하루는 법안처리와 표결을 하자”고 제안했다.\\n\\n오신환 바른미래당 원내대표가 18일 오전 서울 여의도 국회에서 열린 제50차 원내정책회의에서 모두발언을 하고 있다. [뉴스1]\\n오신환 바른미래당 원내대표도 “민생법안, 추가경정예산안, 일본의 수출규제 철회 촉구 결의안, 국방장관 해임건의안 표결을 위한 원포인트 임시국회를 다음주 중에 여야 합의로 개최해야 한다”고 말했다. 오 원내대표는 이날 당 최고위원회의에서 “일본 경제 보복에 맞서 일치단결하는 모습을 보여야 할 위중한 시기에 국회가 아무런 결과물을 내놓지 못하고 갈등ㆍ분열만 지속한다면, 일본이 우리나라를 어떻게 생각하겠는가”라며 “더불어민주당과 자유한국당의 긍정적인 답변을 기다리겠다”고 했다.\\n\\n정동영 민주평화당 대표는 전날 청와대 회동에서 정경두 국방장관 해임건의안은 여당이 양보해 국회 결정에 맡기고, 야당은 민생법안ㆍ추경안 처리에 협조해야 한다고 말했다. 한국당과 바른미래당은 이날 정 대표의 중재안에 동의한다며 여당의 양보를 촉구했다.\\n문재인 대통령이 18일 오후 청와대에서 열린 '정당대표 초청 대화'에서 여야 5당 대표들과 대화하고 있다. 왼쪽부터 정의당 심상정 대표, 바른미래당 손학규 대표, 자유한국당 황교안 대표, 문 대통령, 더불어민주당 이해찬 대표, 민주평화당 정동영 대표. [연합뉴스]\\n\\n하지만 민주당은 북한 목선 국정조사도, 정 장관 해임건의안도 절대 받아들일 수 없다는 입장이다. 이해찬 민주당 대표는 전날 청와대 회동 후 기자간담회에서 “국방장관 해임건의안은 전혀 안 되는 일을 억지로 주장하는 것”이라며 “목선은 1년에 수십 척 떠내려오는데 그런 식이면 국방장관 한 달도 못한다”고 말했다.\\n\\n이원욱 민주당 원내수석부대표도 19일 통화에서 “천안함, 연평도, 노크 귀순 때도 해임건의안을 제출하지 않았다”며 “심지어 해임건의안 제출을 위한 별도 일정은 합의해 줄 수 없다. 이걸 받아들이면 앞으로도 해임건의안 내겠다고 의사일정을 잡아달라고 하는 황당한 관행을 만들 수 있다”고 말했다.\\n\\n김경희 기자 amator@joongang.co.kr\\n\\n\\n▶ 네이버 메인에서 중앙일보를 받아보세요\\n▶ 중앙일보 '홈페이지' / '페이스북' 친구추가\\n\\nⓒ중앙일보(https://joongang.co.kr), 무단 전재 및 재배포 금지\""
      ]
     },
     "execution_count": 270,
     "metadata": {},
     "output_type": "execute_result"
    }
   ],
   "source": [
    "corpus[0]"
   ]
  },
  {
   "cell_type": "code",
   "execution_count": 273,
   "metadata": {},
   "outputs": [],
   "source": [
    "corpus = \" \"\n",
    "for _ in cur.fetchall():\n",
    "    corpus += _[0]"
   ]
  },
  {
   "cell_type": "code",
   "execution_count": 275,
   "metadata": {},
   "outputs": [
    {
     "data": {
      "text/plain": [
       "' 나경원 자유한국당 원내대표가 19일 오전 서울 여의도 국회에서 열린 원내대책회의에서 모두발언을 하고 있다. [뉴스1]\\n\\n6월 임시국회가 ‘빈손 국회’로 끝날 가능성이 커졌다. 19일은 6월 임시국회 마지막 날이다.\\n\\n전날 문재인 대통령과 여야 5당 대표 회동에서도 추가경정예산안(추경) 처리와 정경두 국방부장관 해임건의안 상정 등을 두고 접점을 찾지 못했다. 더불어민주당과 자유한국당은 19일 오후 2시 각각 의원총회를 열어 대응 방안을 논의한다.\\n\\n나경원 한국당 원내대표는 이날 오전 당 원내대책회의에서 “6월 임시국회가 이 모양에 이르게 된 것에 안타까움을 넘어 자괴감을 느낀다”며 “여당은 두 가지 중 하나를 선택해 달라”고 말했다. 나 원내대표는 “오늘 북한 목선 국정조사를 받으면 나머지 법안과 추경안을 심사해 할 건 하고 뺄 건 빼겠다”며 “아니면 다음 주에 투 포인트 국회 본회의를 열어서 하루는 정 장관 해임건의안을 보고하고, 하루는 법안처리와 표결을 하자”고 제안했다.\\n\\n오신환 바른미래당 원내대표가 18일 오전 서울 여의도 국회에서 열린 제50차 원내정책회의에서 모두발언을 하고 있다. [뉴스1]\\n오신환 바른미래당 원내대표도 “민생법안, 추가경정예산안, 일본의 수출규제 철회 촉구 결의안, 국방장관 해임건의안 표결을 위한 원포인트 임시국회를 다음주 중에 여야 합의로 개최해야 한다”고 말했다. 오 원내대표는 이날 당 최고위원회의에서 “일본 경제 보복에 맞서 일치단결하는 모습을 보여야 할 위중한 시기에 국회가 아무런 결과물을 내놓지 못하고 갈등ㆍ분열만 지속한다면, 일본이 우리나라를 어떻게 생각하겠는가”라며 “더불어민주당과 자유한국당의 긍정적인 답변을 기다리겠다”고 했다.\\n\\n정동영 민주평화당 대표는 전날 청와대 회동에서 정경두 국방장관 해임건의안은 여당이 양보해 국회 결정에 맡기고, 야당은 민생법안ㆍ추경안 처리에 협조해야 한다고 말했다. 한국당과 바른미래당은 이날 정 대표의 중재안에 동의한다며 여당의 양보를 촉구했다.\\n문재인 대통령이 18일 오후 청와대에서 열린 \\'정당대표 초청 대화\\'에서 여야 5당 대표들과 대화하고 있다. 왼쪽부터 정의당 심상정 대표, 바른미래당 손학규 대표, 자유한국당 황교안 대표, 문 대통령, 더불어민주당 이해찬 대표, 민주평화당 정동영 대표. [연합뉴스]\\n\\n하지만 민주당은 북한 목선 국정조사도, 정 장관 해임건의안도 절대 받아들일 수 없다는 입장이다. 이해찬 민주당 대표는 전날 청와대 회동 후 기자간담회에서 “국방장관 해임건의안은 전혀 안 되는 일을 억지로 주장하는 것”이라며 “목선은 1년에 수십 척 떠내려오는데 그런 식이면 국방장관 한 달도 못한다”고 말했다.\\n\\n이원욱 민주당 원내수석부대표도 19일 통화에서 “천안함, 연평도, 노크 귀순 때도 해임건의안을 제출하지 않았다”며 “심지어 해임건의안 제출을 위한 별도 일정은 합의해 줄 수 없다. 이걸 받아들이면 앞으로도 해임건의안 내겠다고 의사일정을 잡아달라고 하는 황당한 관행을 만들 수 있다”고 말했다.\\n\\n김경희 기자 amator@joongang.co.kr\\n\\n\\n▶ 네이버 메인에서 중앙일보를 받아보세요\\n▶ 중앙일보 \\'홈페이지\\' / \\'페이스북\\' 친구추가\\n\\nⓒ중앙일보(https://joongang.co.kr), 무단 전재 및 재배포 금지트럼프 \"미 해군, 이란 드론 격추\"…이란 \"아무 정보 없다\"\\n美, \\'호르무즈 호위 연합체\\' 결성하며 강성대응 예고\\n호르무즈 해협 © 뉴스1\\n\\n(서울=뉴스1) 한상희 기자 = 세계 최대 원유 수송로인 호르무즈 해협을 둘러싼 긴장이 30여년 만에 최고조에 달했다. 최근 갈등의 수위를 높여오던 이란과 미국이 직접 맞붙을 기세다. 여기에 이란은 미국의 동맹국인 아랍에미리트(UAE) 선적으로 추정되는 외국 유조선을 억류했고 미국 해군이 이란 드론을 격추, 긴장감은 더 팽팽해졌다.\\n\\n이란과 미국이 상대방의 군 자산에 직접 공격을 주고받은 건 지난 1988년 미군 구축함 1척이 호르무즈 해협에서 이란의 기뢰에 침몰하자 미군이 이란 해군을 대규모로 공격한 이후 31년 만이다.\\n\\n뉴욕타임스(NYT)·NBC뉴스 등에 따르면 도널드 트럼프 미국 대통령은 18일(현지시간) \"미 해군 함정이 호르무즈 해협에서 이란의 무인 항공기(드론)을 \\'격추했다\\'\"고 밝혔다.\\n\\n트럼프 대통령은 이날 백악관에서 기자들에게 \"이란 드론이 미 해군 강습상륙함인 USS 복서함에 1000야드(약 914m) 정도까지 접근하며 위협해 방어적인 행동을 취했다\"면서 \"이란 드론은 즉시 파괴됐다\"고 말했다.\\n\\n트럼프 대통령은 또 \"이란 드론에 여러 차례 퇴각하라는 신호를 보냈는데 이를 무시했다\"며 \"국제 수역을 항해하는 배에 대한 (이란의) 많은 도발적이고 적대적인 행동 가운데 가장 최근의 일\"이라고 주장했다.\\n\\n조너선 호프만 미 국방부 대변인도 이날 성명을 통해 \"복서함은 공해상에 있었으며, 드론이 위협적인 범위에 들어간 이후 방어 조치를 취했다\"고 확인했다.\\n\\n다만 이란은 드론 격추 사실을 즉각 확인하지 않았다. 트럼프 대통령 발언 이후 모하마드 자바드 자리프 이란 외무장관은 이날 뉴욕 유엔본부에서 \"이란의 드론이 격추됐다는 것과 관련한 \"아무런 정보가 없다\"는 입장을 밝혔다.\\n\\n또 자리프 장관은 미국과의 전쟁 가능성을 묻는 질문에 \"이란이 (먼저) 전쟁을 시작하지 않을 것\"이라면서도 \"전쟁은 이미 일어나고 있다. 미국은 민간인을 대상으로 한 경제제재 강화를 통해 이란과 경제전쟁을 벌이고 있다\"고 비판했다.\\n\\n이번 사건은 지난달 20일 이란 정예군인 혁명수비대(ISD)가 미군 드론을 격추한 지 약 한 달 만에 발생했다. 당시 트럼프 대통령은 미국이 이란 군사시설을 겨냥한 보복 공격을 계획했지만 인명 피해를 우려해 실행 10분 전에 이를 중단시켰다고 밝혀 양국간 전쟁 가능성이 제기됐었다.\\n\\n공교롭게도 이날은 이란 군부가 석유 밀수 혐의로 외국 유조선 1척을 호르무즈 해협에서 억류했다고 발표한 날이기도 하다. 앞서 수일 전 UAE 선박이 페르시아 만에서 돌연 사라져 이란측이 나포했다는 설이 불거졌다.\\n\\n이와 관련해 미국은 이란이 원유 가격을 끌어올리기 위해 호르무즈 해협에서 원유 수송을 의도적으로 방해하고 있다는 입장이다. 호르무즈 해협은 전 세계 원유 물동량의 3분의 1이 지나는 요충지라, 이 지역의 긴장이 고조되면 원유시장도 함께 출렁인다.\\n\\n이에 미 국무부와 국방부는 걸프 해역에서 배가 안전하게 운항할 수 있도록 호르무즈 해협을 통해 원유를 거래하는 관련국의 미국 주재 대사를 모아 19일 해양안보 계획을 설명할 예정이다. 아울러 이들 국가와 함께 \\'호르무즈 호위 연합체\\'를 2주 안으로 구성하기로 했다.\\n\\n이 모든 사건은 트럼프 대통령이 지난해 5월 이란 핵합의(JCPOA)에서 일방적으로 탈퇴한 후 제재를 부과하면서 양국간 긴장이 고조되는 가운데 일어났다.\\n\\n지난 4월 12일(현지시간) 이란의 수도 테헤란에서 열린 반미 집회에서 이란 시위대가 성조기를 불태우고 있다. © AFP=뉴스1\\n\\n\\nangela0204@news1.kr\\n\\n▶ [ 크립토허브 ] ▶ [ 해피펫 ]\\n▶ 네이버 메인에서 [뉴스1] 구독하기!\\n[© 뉴스1코리아(news1.kr), 무단 전재 및 재배포 금지]'"
      ]
     },
     "execution_count": 275,
     "metadata": {},
     "output_type": "execute_result"
    }
   ],
   "source": [
    "corpus"
   ]
  },
  {
   "cell_type": "code",
   "execution_count": 276,
   "metadata": {},
   "outputs": [
    {
     "data": {
      "image/png": "[encoded data removed]",
      "text/plain": [
       "<Figure size 432x288 with 1 Axes>"
      ]
     },
     "metadata": {
      "needs_background": "light"
     },
     "output_type": "display_data"
    },
    {
     "data": {
      "image/png": "[encoded data removed]",
      "text/plain": [
       "<Figure size 432x288 with 1 Axes>"
      ]
     },
     "metadata": {
      "needs_background": "light"
     },
     "output_type": "display_data"
    }
   ],
   "source": [
    "import matplotlib.pyplot as plt \n",
    "from math import log\n",
    "\n",
    "token = [_[0] for _ in sorted(text.vocab().items(), key=lambda x:x[1], reverse=True)]\n",
    "freq = [_[1]/text.vocab().most_common(1)[0][1] \n",
    "        for _ in sorted(text.vocab().items(), key=lambda x:x[1], reverse=True)]\n",
    "\n",
    "_freq = [log(_) for _ in freq]\n",
    "rank = [1/(_+1) for _ in range(len(token))]\n",
    "_rank = [log(_) for _ in rank]\n",
    "\n",
    "plt.plot([i for i in range(len(token))], freq, \"r-\")\n",
    "plt.plot([i for i in range(len(token))], rank, \"b-\")\n",
    "plt.show()\n",
    "\n",
    "plt.plot([i for i in range(len(token))], _freq, \"r-\")\n",
    "plt.plot([i for i in range(len(token))], _rank, \"b-\")\n",
    "plt.show()\n"
   ]
  },
  {
   "cell_type": "markdown",
   "metadata": {},
   "source": [
    "# Heaps' Law"
   ]
  },
  {
   "cell_type": "code",
   "execution_count": 281,
   "metadata": {},
   "outputs": [],
   "source": [
    "K = 30 #10 -100\n",
    "B = 0.4 #0.4 - 0.6\n",
    "\n",
    "unique = list()\n",
    "total = list()\n",
    "heaps = list()\n",
    "largeText = \"\"\n",
    "\n",
    "for _ in corpus:\n",
    "    largeText += _\n",
    "    text = Text(largeText)\n",
    "    unique.append(text.vocab().B())\n",
    "    total.append(text.vocab().N())\n",
    "    heaps.append(K*text.vocab().N()**B)"
   ]
  },
  {
   "cell_type": "code",
   "execution_count": 282,
   "metadata": {},
   "outputs": [
    {
     "data": {
      "image/png": "[encoded data removed]",
      "text/plain": [
       "<Figure size 432x288 with 1 Axes>"
      ]
     },
     "metadata": {
      "needs_background": "light"
     },
     "output_type": "display_data"
    }
   ],
   "source": [
    "plt.plot(total, unique, \"r-\")\n",
    "plt.plot(total, heaps, \"b-\")\n",
    "plt.show()"
   ]
  },
  {
   "cell_type": "markdown",
   "metadata": {},
   "source": [
    "# n-gram"
   ]
  },
  {
   "cell_type": "markdown",
   "metadata": {},
   "source": [
    "- 언어학지식 없이 빈도와 통계학 지식을 활용할수 있다\n",
    "- 굉장히 많은 feature를 생산해 내기는 한다.\n",
    "- 어간을 찾는데 가장 많이쓰는 approach 중 하나"
   ]
  },
  {
   "cell_type": "markdown",
   "metadata": {},
   "source": [
    "- 여태까지 나온 문자들로 다음 문자를 추측하는것?"
   ]
  },
  {
   "cell_type": "markdown",
   "metadata": {},
   "source": [
    "- 실제 쓰일 수가 없다\n",
    "- 패턴이 나올 가지수가 너무 많다.\n",
    "- 특정 패턴에 대한 빈도가 너무 작다\n",
    "- corpus를 수집하는것이 가장 중요(data라고 볼수 잇다)\n",
    "- corpus : 기본적으로  밸런스가 맞춰져야함\n",
    "    \n",
    "\n"
   ]
  },
  {
   "cell_type": "markdown",
   "metadata": {},
   "source": [
    "## 어절단위의 n-gram "
   ]
  },
  {
   "cell_type": "markdown",
   "metadata": {},
   "source": [
    "sentence = \"Life is too short, You need Python\"\n",
    "\n",
    "N=2 \n",
    "- Python?\n",
    "- P(Python|need, You, short, too, is, Life)\n",
    "\n",
    "- P(Python|need)\n",
    "- P(need|You)\n",
    "\n",
    "N=3\n",
    "- P(Python|need, You)\n",
    "- P(need|You) P(Python|need)\n",
    "\n",
    "술 한잔 마셨습니다.\n",
    "\n",
    "\n",
    "- 웹에서 받은 데이터  도메인 모르면 생소한 단어 있을거 얼만큼의 단어가 \n",
    "    index로 사용될지 모른다고 하면 자주나오는 쌍들을 찾아낼때 유용하게 쓰일 것\n",
    "- 띄어쓰기가 언제 나와야하는지 판단할 때 사용될수도"
   ]
  },
  {
   "cell_type": "markdown",
   "metadata": {},
   "source": [
    "내가 어간을 모를때 사용할 수 있는 방법이 n-gram이다. \n",
    "\n",
    "but\n",
    "\n",
    "엄청나게 많은 쌍을 만들어낸다\n",
    "\n",
    "밑에꺼 보면 '나 경' 을 봤을때 뒤에 올게 뭔지 그뒤에 와야할 적절한 것은 뭔지를 확률로 계산해서 찾아내는 것"
   ]
  },
  {
   "cell_type": "code",
   "execution_count": 181,
   "metadata": {
    "scrolled": true
   },
   "outputs": [
    {
     "data": {
      "text/plain": [
       "['나 경',\n",
       " '경 원',\n",
       " '원  ',\n",
       " '  자',\n",
       " '자 유',\n",
       " '유 한',\n",
       " '한 국',\n",
       " '국 당',\n",
       " '당  ',\n",
       " '  원',\n",
       " '원 내',\n",
       " '내 대',\n",
       " '대 표',\n",
       " '표 가',\n",
       " '가  ',\n",
       " '  1',\n",
       " '1 9',\n",
       " '9 일',\n",
       " '일  ',\n",
       " '  오',\n",
       " '오 전',\n",
       " '전  ',\n",
       " '  서',\n",
       " '서 울',\n",
       " '울  ',\n",
       " '  여',\n",
       " '여 의',\n",
       " '의 도',\n",
       " '도  ',\n",
       " '  국',\n",
       " '국 회',\n",
       " '회 에',\n",
       " '에 서',\n",
       " '서  ',\n",
       " '  열',\n",
       " '열 린',\n",
       " '린  ',\n",
       " '  원',\n",
       " '원 내',\n",
       " '내 대',\n",
       " '대 책',\n",
       " '책 회',\n",
       " '회 의',\n",
       " '의 에',\n",
       " '에 서',\n",
       " '서  ',\n",
       " '  모',\n",
       " '모 두',\n",
       " '두 발',\n",
       " '발 언',\n",
       " '언 을',\n",
       " '을  ',\n",
       " '  하',\n",
       " '하 고',\n",
       " '고  ',\n",
       " '  있',\n",
       " '있 다',\n",
       " '다 .',\n",
       " '.  ',\n",
       " '  [',\n",
       " '[ 뉴',\n",
       " '뉴 스',\n",
       " '스 1',\n",
       " '1 ]']"
      ]
     },
     "execution_count": 181,
     "metadata": {},
     "output_type": "execute_result"
    }
   ],
   "source": [
    "sentence = \"Life is too short, You need Python\"\n",
    "\n",
    "def eojeol(sentence, N=2): #어절끼리의 쌍\n",
    "    tokens = word_tokenize(sentence) #토근 만들기\n",
    "    ngram = list()\n",
    "    for i in range(len(tokens)-(N-1)):\n",
    "        #ngram.append(\" \".join(tokens[i:i+N]))\n",
    "        ngram.append(tuple(tokens[i:i+N]))\n",
    "    return ngram\n",
    "\n",
    "def umjeol(token, N=2): #음절 끼리의 쌍\n",
    "    tokens = list(token)\n",
    "    ngram = list()\n",
    "    for i in range(len(tokens)-(N-1)):\n",
    "        ngram.append(\" \".join(tokens[i:i+N]))\n",
    "        #ngram.append(tuple(tokens[i:i+N]))\n",
    "    return ngram\n",
    "\n",
    "eojeol(sentence,3)\n",
    "umjeol(corpus[0].splitlines()[0])"
   ]
  },
  {
   "cell_type": "code",
   "execution_count": 163,
   "metadata": {},
   "outputs": [],
   "source": [
    "from collections import defaultdict\n",
    "\n",
    "freg = defaultdict(int)\n",
    "for _ in eojeol(corpus[0]):\n",
    "    freg[_]+=1"
   ]
  },
  {
   "cell_type": "code",
   "execution_count": 170,
   "metadata": {},
   "outputs": [
    {
     "data": {
      "text/plain": [
       "[(('”', '고'), 6),\n",
       " (('말했다', '.'), 5),\n",
       " (('고', '말했다'), 4),\n",
       " (('대표', ','), 4),\n",
       " (('있다', '.'), 3),\n",
       " (('.', '['), 3),\n",
       " (('”', '며'), 3),\n",
       " (('며', '“'), 3),\n",
       " (('오전', '서울'), 2),\n",
       " (('서울', '여의도'), 2)]"
      ]
     },
     "execution_count": 170,
     "metadata": {},
     "output_type": "execute_result"
    }
   ],
   "source": [
    "freg\n",
    "sorted(freg.items(), key=lambda x:x[1], reverse=True)[:10]"
   ]
  },
  {
   "cell_type": "code",
   "execution_count": null,
   "metadata": {},
   "outputs": [],
   "source": [
    "[_ for _ in ]"
   ]
  },
  {
   "cell_type": "code",
   "execution_count": 177,
   "metadata": {
    "scrolled": true
   },
   "outputs": [
    {
     "data": {
      "text/plain": [
       "0.01152073732718894"
      ]
     },
     "execution_count": 177,
     "metadata": {},
     "output_type": "execute_result"
    }
   ],
   "source": [
    "freg[('”', '고')]/sum(freg.values()) *\\ #('”', '고')가 나올 확률\n",
    "freg[('말했다', '.')]/freg[('”', '고')] \n",
    "# "
   ]
  },
  {
   "cell_type": "markdown",
   "metadata": {},
   "source": [
    "\n",
    "join, comple"
   ]
  },
  {
   "cell_type": "markdown",
   "metadata": {},
   "source": [
    "# WPM\n",
    "Word Piece Model\n",
    "- 어간을 어떻게 추출할지\n",
    "- 하나의 단어를 내부 단어들로 분리하는 분리모델\n",
    "\n",
    "\n",
    "## BPE 를 기반으로 만들음\n",
    "Byte Pair Encoding (Digram Coding)\n"
   ]
  },
  {
   "cell_type": "code",
   "execution_count": 287,
   "metadata": {},
   "outputs": [],
   "source": [
    "from nltk.corpus import stopwords"
   ]
  },
  {
   "cell_type": "code",
   "execution_count": 288,
   "metadata": {},
   "outputs": [
    {
     "ename": "TypeError",
     "evalue": "open() missing 1 required positional argument: 'file'",
     "output_type": "error",
     "traceback": [
      "\u001b[1;31m---------------------------------------------------------------------------\u001b[0m",
      "\u001b[1;31mTypeError\u001b[0m                                 Traceback (most recent call last)",
      "\u001b[1;32m<ipython-input-288-db3ea91fa372>\u001b[0m in \u001b[0;36m<module>\u001b[1;34m\u001b[0m\n\u001b[1;32m----> 1\u001b[1;33m \u001b[0mstopwords\u001b[0m\u001b[1;33m.\u001b[0m\u001b[0mopen\u001b[0m\u001b[1;33m(\u001b[0m\u001b[1;33m)\u001b[0m\u001b[1;33m\u001b[0m\u001b[1;33m\u001b[0m\u001b[0m\n\u001b[0m",
      "\u001b[1;31mTypeError\u001b[0m: open() missing 1 required positional argument: 'file'"
     ]
    }
   ],
   "source": [
    "stopwords.open()"
   ]
  },
  {
   "cell_type": "code",
   "execution_count": 289,
   "metadata": {},
   "outputs": [
    {
     "name": "stdout",
     "output_type": "stream",
     "text": [
      "i\n",
      "me\n",
      "my\n",
      "myself\n",
      "we\n",
      "our\n",
      "ours\n",
      "ourselves\n",
      "you\n",
      "you're\n",
      "you've\n",
      "you'll\n",
      "you'd\n",
      "your\n",
      "yours\n",
      "yourself\n",
      "yourselves\n",
      "he\n",
      "him\n",
      "his\n",
      "himself\n",
      "she\n",
      "she's\n",
      "her\n",
      "hers\n",
      "herself\n",
      "it\n",
      "it's\n",
      "its\n",
      "itself\n",
      "they\n",
      "them\n",
      "their\n",
      "theirs\n",
      "themselves\n",
      "what\n",
      "which\n",
      "who\n",
      "whom\n",
      "this\n",
      "that\n",
      "that'll\n",
      "these\n",
      "those\n",
      "am\n",
      "is\n",
      "are\n",
      "was\n",
      "were\n",
      "be\n",
      "been\n",
      "being\n",
      "have\n",
      "has\n",
      "had\n",
      "having\n",
      "do\n",
      "does\n",
      "did\n",
      "doing\n",
      "a\n",
      "an\n",
      "the\n",
      "and\n",
      "but\n",
      "if\n",
      "or\n",
      "because\n",
      "as\n",
      "until\n",
      "while\n",
      "of\n",
      "at\n",
      "by\n",
      "for\n",
      "with\n",
      "about\n",
      "against\n",
      "between\n",
      "into\n",
      "through\n",
      "during\n",
      "before\n",
      "after\n",
      "above\n",
      "below\n",
      "to\n",
      "from\n",
      "up\n",
      "down\n",
      "in\n",
      "out\n",
      "on\n",
      "off\n",
      "over\n",
      "under\n",
      "again\n",
      "further\n",
      "then\n",
      "once\n",
      "here\n",
      "there\n",
      "when\n",
      "where\n",
      "why\n",
      "how\n",
      "all\n",
      "any\n",
      "both\n",
      "each\n",
      "few\n",
      "more\n",
      "most\n",
      "other\n",
      "some\n",
      "such\n",
      "no\n",
      "nor\n",
      "not\n",
      "only\n",
      "own\n",
      "same\n",
      "so\n",
      "than\n",
      "too\n",
      "very\n",
      "s\n",
      "t\n",
      "can\n",
      "will\n",
      "just\n",
      "don\n",
      "don't\n",
      "should\n",
      "should've\n",
      "now\n",
      "d\n",
      "ll\n",
      "m\n",
      "o\n",
      "re\n",
      "ve\n",
      "y\n",
      "ain\n",
      "aren\n",
      "aren't\n",
      "couldn\n",
      "couldn't\n",
      "didn\n",
      "didn't\n",
      "doesn\n",
      "doesn't\n",
      "hadn\n",
      "hadn't\n",
      "hasn\n",
      "hasn't\n",
      "haven\n",
      "haven't\n",
      "isn\n",
      "isn't\n",
      "ma\n",
      "mightn\n",
      "mightn't\n",
      "mustn\n",
      "mustn't\n",
      "needn\n",
      "needn't\n",
      "shan\n",
      "shan't\n",
      "shouldn\n",
      "shouldn't\n",
      "wasn\n",
      "wasn't\n",
      "weren\n",
      "weren't\n",
      "won\n",
      "won't\n",
      "wouldn\n",
      "wouldn't\n",
      "\n"
     ]
    }
   ],
   "source": [
    "print(stopwords.open(\"english\").read())"
   ]
  },
  {
   "cell_type": "markdown",
   "metadata": {},
   "source": [
    "# Normalization"
   ]
  },
  {
   "cell_type": "code",
   "execution_count": 392,
   "metadata": {},
   "outputs": [
    {
     "name": "stdout",
     "output_type": "stream",
     "text": [
      "{'아버지'}\n"
     ]
    }
   ],
   "source": [
    "tokens = {\n",
    "    \"l o w </w>\" : 5, #끝인걸 알려주기 위해서 /w치고 이게 5번 나왔음\n",
    "    \"l o w e s t </w>\" : 2,\n",
    "    \"n e w e r </w>\" : 6,\n",
    "    \"r i d e r </w>\" : 3\n",
    "}\n",
    "tokens = {\n",
    "    \"아 버 지 가 </w>\" : 5, #끝인걸 알려주기 위해서 /w치고 이게 5번 나왔음\n",
    "    \"아 버 지 께 서 </w>\" : 2,\n",
    "    \"아 버 지 를 </w>\" : 6,\n",
    "    \"아 버 지 는 </w>\" : 3\n",
    "}\n",
    "\n",
    "K = max(tokens.values())\n",
    "for _ in range(100):\n",
    "    maxKey = findBigram(tokens)\n",
    "    tokens = mergeMaxKey(maxKey, tokens, K)\n",
    "    \n",
    "pattern = r\"[가-힣A-Za-z\\/\\<\\>]{2,}\"\n",
    "result = list()\n",
    "for _ in tokens:\n",
    "    result.extend([_ for _ in re.findall(pattern, _) if _ != \"</w>\"])\n",
    "print(set(result))"
   ]
  },
  {
   "cell_type": "code",
   "execution_count": 390,
   "metadata": {},
   "outputs": [],
   "source": [
    "def findBigram(tokens):\n",
    "    ngram = defaultdict(int)\n",
    "    for token, freq in tokens.items():\n",
    "        syllables = token.split()\n",
    "        for i in range(len(syllables)-1):\n",
    "            ngram[tuple(syllables[i:i+2])] += freq\n",
    "    return ngram"
   ]
  },
  {
   "cell_type": "code",
   "execution_count": 385,
   "metadata": {
    "scrolled": true
   },
   "outputs": [],
   "source": [
    "def mergeMaxKey(ngram, tokens, K):\n",
    "    maxKey = max(ngram, key=ngram.get)\n",
    "    maxValue = max(ngram.values())\n",
    "    newTokens = dict()\n",
    "    for token, freq in tokens.items():\n",
    "        newTokens[re.sub(\" \".join(maxKey), \"\".join(maxKey), token)\n",
    "                 if maxValue > K else token] = freq\n",
    "    #print(maxKey)\n",
    "    return newTokens"
   ]
  }
 ],
 "metadata": {
  "kernelspec": {
   "display_name": "Python 3",
   "language": "python",
   "name": "python3"
  },
  "language_info": {
   "codemirror_mode": {
    "name": "ipython",
    "version": 3
   },
   "file_extension": ".py",
   "mimetype": "text/x-python",
   "name": "python",
   "nbconvert_exporter": "python",
   "pygments_lexer": "ipython3",
   "version": "3.7.3"
  }
 },
 "nbformat": 4,
 "nbformat_minor": 2
}
