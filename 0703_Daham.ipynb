{
 "cells": [
  {
   "cell_type": "markdown",
   "metadata": {},
   "source": [
    "# 2019.07.03 DAY 3 Data Sience"
   ]
  },
  {
   "cell_type": "code",
   "execution_count": 1,
   "metadata": {},
   "outputs": [
    {
     "name": "stdout",
     "output_type": "stream",
     "text": [
      "3\n"
     ]
    }
   ],
   "source": [
    "a = int(input())"
   ]
  },
  {
   "cell_type": "code",
   "execution_count": 2,
   "metadata": {},
   "outputs": [],
   "source": [
    "a = int(a)"
   ]
  },
  {
   "cell_type": "markdown",
   "metadata": {},
   "source": [
    "수학적 input과 output이 1대1 매칭이 필요하다"
   ]
  },
  {
   "cell_type": "markdown",
   "metadata": {},
   "source": [
    "LISP -> 한번에 데이터를 처리하는데 매우 합리적이다"
   ]
  },
  {
   "cell_type": "code",
   "execution_count": 3,
   "metadata": {},
   "outputs": [],
   "source": [
    "import time \n",
    "def x ( a = time.time()) :\n",
    "    return a"
   ]
  },
  {
   "cell_type": "code",
   "execution_count": 4,
   "metadata": {},
   "outputs": [
    {
     "data": {
      "text/plain": [
       "1562116786.7345855"
      ]
     },
     "execution_count": 4,
     "metadata": {},
     "output_type": "execute_result"
    }
   ],
   "source": [
    "time.time()"
   ]
  },
  {
   "cell_type": "markdown",
   "metadata": {},
   "source": [
    "파이선은 하스텔의 영향을 많이 받았다. 수학적으로 흔히 말하는 multi-페러다임 ( 언어적 철학, 한가지가 아닌 다양한 방법들을 강조!! ) \n",
    "\n",
    "한가지 언어 강조 X 해, 한가지만 출력해서 안된다. 원하는 결과값이 나오지 않는다 -> side effect가 있음\n",
    "\n",
    "time.time()은 함수형 dataframe에 쓰면 안된다. Python은 순수한 페러다임 언어가 아닌 객체지향적인 언어다.  \n",
    "\n",
    "추가 지원을 한다 -> PYTHON에서 유용하고 // 순수한 페러다임으로 만들기 어럽다. -> 효율성이 떨어짐;; \n",
    "\n",
    "함수형 페러다임에서 가지고 와서 써야 한다. -> 파이선은 만들기가 어렵지, debugging과 testing은 강하다. \n",
    "\n",
    "파이선은 필요한 부분만 갖다 쓴다는 점을 알 필요가 있음!! "
   ]
  },
  {
   "cell_type": "code",
   "execution_count": 5,
   "metadata": {},
   "outputs": [
    {
     "name": "stdout",
     "output_type": "stream",
     "text": [
      "1\n",
      "2\n",
      "3\n"
     ]
    }
   ],
   "source": [
    "for i in (1,2,3) :\n",
    "    print(i)"
   ]
  },
  {
   "cell_type": "code",
   "execution_count": 41,
   "metadata": {},
   "outputs": [],
   "source": [
    "a = [1,2,3]"
   ]
  },
  {
   "cell_type": "code",
   "execution_count": 42,
   "metadata": {},
   "outputs": [],
   "source": [
    "b = iter(a)"
   ]
  },
  {
   "cell_type": "code",
   "execution_count": 43,
   "metadata": {},
   "outputs": [
    {
     "data": {
      "text/plain": [
       "list_iterator"
      ]
     },
     "execution_count": 43,
     "metadata": {},
     "output_type": "execute_result"
    }
   ],
   "source": [
    "type(b)"
   ]
  },
  {
   "cell_type": "markdown",
   "metadata": {},
   "source": [
    "() -> Tuple iterator \n",
    "\n",
    "[] ->  List iterator "
   ]
  },
  {
   "cell_type": "code",
   "execution_count": 35,
   "metadata": {},
   "outputs": [
    {
     "data": {
      "text/plain": [
       "2"
      ]
     },
     "execution_count": 35,
     "metadata": {},
     "output_type": "execute_result"
    }
   ],
   "source": [
    "next(b)"
   ]
  },
  {
   "cell_type": "code",
   "execution_count": 36,
   "metadata": {},
   "outputs": [
    {
     "data": {
      "text/plain": [
       "[3]"
      ]
     },
     "execution_count": 36,
     "metadata": {},
     "output_type": "execute_result"
    }
   ],
   "source": [
    "list(b)"
   ]
  },
  {
   "cell_type": "markdown",
   "metadata": {},
   "source": [
    "Iterator는 한번에 하나씩 뽑는 아이다. Iterator로 바꿔서 -> Next가 실행이 되고, 한개씩 뽑는다. \n",
    "\n",
    "Lazy (귀찮이즘)이라는 특징을 가지고 있음 -> 실행될 시 memory상에서 뽑는다. \n",
    "\n",
    "next는 앞에서 부터 뽑을 필요가 있음 -> \n",
    "\n",
    "iterate는 한개씩 뽑아내는 기능이다. 따라서 함수형 페러다임에서는 하나씩 뽑는 것이 중요하다. \n",
    "\n",
    "내부구조를 python에서는 알 수가 있다 -> assambly : 분해시킨다. \n",
    "\n",
    "파이썬은 기호에 따라서 어떤 TYPE인지 자동으로 체크가 가능하다. 이를 literal 라고 부른다. \n",
    "\n",
    "WHAT IS LITERAL ?"
   ]
  },
  {
   "cell_type": "code",
   "execution_count": 45,
   "metadata": {},
   "outputs": [],
   "source": [
    "a = 0b1"
   ]
  },
  {
   "cell_type": "code",
   "execution_count": 51,
   "metadata": {},
   "outputs": [],
   "source": [
    "a = 2e1 "
   ]
  },
  {
   "cell_type": "markdown",
   "metadata": {},
   "source": [
    "2 * 10의 1승 "
   ]
  },
  {
   "cell_type": "code",
   "execution_count": 52,
   "metadata": {},
   "outputs": [
    {
     "data": {
      "text/plain": [
       "20.0"
      ]
     },
     "execution_count": 52,
     "metadata": {},
     "output_type": "execute_result"
    }
   ],
   "source": [
    "a"
   ]
  },
  {
   "cell_type": "code",
   "execution_count": 53,
   "metadata": {},
   "outputs": [],
   "source": [
    "a = 2e-1"
   ]
  },
  {
   "cell_type": "code",
   "execution_count": 54,
   "metadata": {},
   "outputs": [
    {
     "data": {
      "text/plain": [
       "0.2"
      ]
     },
     "execution_count": 54,
     "metadata": {},
     "output_type": "execute_result"
    }
   ],
   "source": [
    "a"
   ]
  },
  {
   "cell_type": "code",
   "execution_count": 55,
   "metadata": {},
   "outputs": [],
   "source": [
    "a = f'ab\\n'"
   ]
  },
  {
   "cell_type": "raw",
   "metadata": {},
   "source": [
    "객체지향이란 ?\n",
    "\n",
    "사용하기 위해서는 Class 선언이 반드시 필요 \n",
    "\n",
    "Instance화를 항상 해야 한다.\n",
    "\n",
    "Pascal -> 처음이 대문자 뒤에는 소문자 \n"
   ]
  },
  {
   "cell_type": "code",
   "execution_count": 58,
   "metadata": {},
   "outputs": [],
   "source": [
    "a = int()\n",
    "b = set()"
   ]
  },
  {
   "cell_type": "code",
   "execution_count": 102,
   "metadata": {},
   "outputs": [],
   "source": [
    "def generator_exam() :\n",
    "    return [1,2,3,4]"
   ]
  },
  {
   "cell_type": "code",
   "execution_count": 103,
   "metadata": {},
   "outputs": [],
   "source": [
    "x = generator_exam()"
   ]
  },
  {
   "cell_type": "code",
   "execution_count": 104,
   "metadata": {},
   "outputs": [],
   "source": [
    "a = [x for x in range(10)]"
   ]
  },
  {
   "cell_type": "code",
   "execution_count": 106,
   "metadata": {},
   "outputs": [
    {
     "ename": "TypeError",
     "evalue": "'list' object is not an iterator",
     "output_type": "error",
     "traceback": [
      "\u001b[1;31m---------------------------------------------------------------------------\u001b[0m",
      "\u001b[1;31mTypeError\u001b[0m                                 Traceback (most recent call last)",
      "\u001b[1;32m<ipython-input-106-15841f3f11d4>\u001b[0m in \u001b[0;36m<module>\u001b[1;34m\u001b[0m\n\u001b[1;32m----> 1\u001b[1;33m \u001b[0mnext\u001b[0m\u001b[1;33m(\u001b[0m\u001b[0ma\u001b[0m\u001b[1;33m)\u001b[0m\u001b[1;33m\u001b[0m\u001b[1;33m\u001b[0m\u001b[0m\n\u001b[0m",
      "\u001b[1;31mTypeError\u001b[0m: 'list' object is not an iterator"
     ]
    }
   ],
   "source": [
    "next(a)"
   ]
  },
  {
   "cell_type": "code",
   "execution_count": 80,
   "metadata": {},
   "outputs": [
    {
     "data": {
      "text/plain": [
       "[0, 3, 2, 3, 4, 3, 6, 3, 8, 3]"
      ]
     },
     "execution_count": 80,
     "metadata": {},
     "output_type": "execute_result"
    }
   ],
   "source": [
    "[ x if x%2 ==0 else 3 for x in range(10)]"
   ]
  },
  {
   "cell_type": "markdown",
   "metadata": {},
   "source": [
    "2의 배수를 serach"
   ]
  },
  {
   "cell_type": "markdown",
   "metadata": {},
   "source": [
    "for문이랑 같다. loop을 iterate를 하며 계속해서 숫자를 count를 한다"
   ]
  },
  {
   "cell_type": "code",
   "execution_count": 82,
   "metadata": {},
   "outputs": [
    {
     "data": {
      "text/plain": [
       "[{0, 1},\n",
       " {1},\n",
       " {1, 2},\n",
       " {1, 3},\n",
       " {1, 4},\n",
       " {1, 5},\n",
       " {1, 6},\n",
       " {1, 7},\n",
       " {1, 8},\n",
       " {1, 9},\n",
       " {0, 2},\n",
       " {1, 2},\n",
       " {2},\n",
       " {2, 3},\n",
       " {2, 4},\n",
       " {2, 5},\n",
       " {2, 6},\n",
       " {2, 7},\n",
       " {2, 8},\n",
       " {2, 9},\n",
       " {0, 3},\n",
       " {1, 3},\n",
       " {2, 3},\n",
       " {3},\n",
       " {3, 4},\n",
       " {3, 5},\n",
       " {3, 6},\n",
       " {3, 7},\n",
       " {3, 8},\n",
       " {3, 9},\n",
       " {0, 4},\n",
       " {1, 4},\n",
       " {2, 4},\n",
       " {3, 4},\n",
       " {4},\n",
       " {4, 5},\n",
       " {4, 6},\n",
       " {4, 7},\n",
       " {4, 8},\n",
       " {4, 9},\n",
       " {0, 5},\n",
       " {1, 5},\n",
       " {2, 5},\n",
       " {3, 5},\n",
       " {4, 5},\n",
       " {5},\n",
       " {5, 6},\n",
       " {5, 7},\n",
       " {5, 8},\n",
       " {5, 9},\n",
       " {0, 6},\n",
       " {1, 6},\n",
       " {2, 6},\n",
       " {3, 6},\n",
       " {4, 6},\n",
       " {5, 6},\n",
       " {6},\n",
       " {6, 7},\n",
       " {6, 8},\n",
       " {6, 9},\n",
       " {0, 7},\n",
       " {1, 7},\n",
       " {2, 7},\n",
       " {3, 7},\n",
       " {4, 7},\n",
       " {5, 7},\n",
       " {6, 7},\n",
       " {7},\n",
       " {7, 8},\n",
       " {7, 9},\n",
       " {0, 8},\n",
       " {1, 8},\n",
       " {2, 8},\n",
       " {3, 8},\n",
       " {4, 8},\n",
       " {5, 8},\n",
       " {6, 8},\n",
       " {7, 8},\n",
       " {8},\n",
       " {8, 9},\n",
       " {0, 9},\n",
       " {1, 9},\n",
       " {2, 9},\n",
       " {3, 9},\n",
       " {4, 9},\n",
       " {5, 9},\n",
       " {6, 9},\n",
       " {7, 9},\n",
       " {8, 9},\n",
       " {9},\n",
       " {0, 10},\n",
       " {1, 10},\n",
       " {2, 10},\n",
       " {3, 10},\n",
       " {4, 10},\n",
       " {5, 10},\n",
       " {6, 10},\n",
       " {7, 10},\n",
       " {8, 10},\n",
       " {9, 10}]"
      ]
     },
     "execution_count": 82,
     "metadata": {},
     "output_type": "execute_result"
    }
   ],
   "source": [
    "[{x,y} for x in range(1,11) for y in range(10)]"
   ]
  },
  {
   "cell_type": "markdown",
   "metadata": {},
   "source": [
    "for문을 쓰지 않는 몇가지\n",
    "\n",
    "1. iterator //  generator \n",
    "\n",
    "2. for문을 쓰지 않지만 동시에 여러가지를 처리하는 기법"
   ]
  },
  {
   "cell_type": "code",
   "execution_count": 79,
   "metadata": {},
   "outputs": [
    {
     "name": "stdout",
     "output_type": "stream",
     "text": [
      "1.59 µs ± 265 ns per loop (mean ± std. dev. of 7 runs, 100000 loops each)\n"
     ]
    }
   ],
   "source": [
    "%%timeit \n",
    "\n",
    "temp = []\n",
    "\n",
    "for i in range(10):\n",
    "    temp.append(i)"
   ]
  },
  {
   "cell_type": "markdown",
   "metadata": {},
   "source": [
    "보통 함수적 페러다임은 mutable이 없다 -> 자료 형태의 mutable 형태가 없는 언어가 많다. \n",
    "파이선은 함수와 method를 대응시킨다."
   ]
  },
  {
   "cell_type": "code",
   "execution_count": 107,
   "metadata": {},
   "outputs": [
    {
     "name": "stdout",
     "output_type": "stream",
     "text": [
      "1.58 µs ± 104 ns per loop (mean ± std. dev. of 7 runs, 1000000 loops each)\n"
     ]
    }
   ],
   "source": [
    "%%timeit \n",
    "\n",
    "temp = []\n",
    "\n",
    "for i in iter(range(10)) :\n",
    "    temp.append(i)"
   ]
  },
  {
   "cell_type": "markdown",
   "metadata": {},
   "source": [
    "결국 iter와 range는 같다. 따라서 그냥  range를 써서 작성한다"
   ]
  },
  {
   "cell_type": "code",
   "execution_count": 108,
   "metadata": {},
   "outputs": [],
   "source": [
    "from collections.abc import Iterable"
   ]
  },
  {
   "cell_type": "code",
   "execution_count": 109,
   "metadata": {},
   "outputs": [],
   "source": [
    "from collections.abc import Iterator"
   ]
  },
  {
   "cell_type": "code",
   "execution_count": 110,
   "metadata": {},
   "outputs": [
    {
     "data": {
      "text/plain": [
       "{'__next__'}"
      ]
     },
     "execution_count": 110,
     "metadata": {},
     "output_type": "execute_result"
    }
   ],
   "source": [
    "set(dir(Iterator)) - set(dir(Iterable))"
   ]
  },
  {
   "cell_type": "markdown",
   "metadata": {},
   "source": [
    "Iterable를 써야 하는데 Iterator를 쓸 수 있다"
   ]
  },
  {
   "cell_type": "markdown",
   "metadata": {},
   "source": [
    "컴프리핸션 중에 tuple만 generator로 바꿔준다. TUPLE 써서 컴프리핸션 SET DICTONARY를 쓴다."
   ]
  },
  {
   "cell_type": "markdown",
   "metadata": {},
   "source": [
    "컴프리핸션 -> 데이터를 만들때 쓰는 아이다. (PASCAL에서 뻇겨왔다)"
   ]
  },
  {
   "cell_type": "markdown",
   "metadata": {},
   "source": [
    "재귀 VS 꼬리재귀\n",
    "\n",
    "꼬리재귀는 스스로 만들어야 하는 필요성이 존재 \n",
    "\n",
    "과제: 자습하거라!"
   ]
  },
  {
   "cell_type": "code",
   "execution_count": 1,
   "metadata": {},
   "outputs": [],
   "source": [
    "def fibo(n):\n",
    "    if n < 3 :\n",
    "        return 1\n",
    "    return fibo"
   ]
  },
  {
   "cell_type": "code",
   "execution_count": 2,
   "metadata": {},
   "outputs": [],
   "source": [
    "fibo.x = 3"
   ]
  },
  {
   "cell_type": "markdown",
   "metadata": {},
   "source": [
    "fibo에 instance 추가했음"
   ]
  },
  {
   "cell_type": "markdown",
   "metadata": {},
   "source": [
    "내장함수 -> 함수형 페러다임에서 가장 '중요한' 기법"
   ]
  },
  {
   "cell_type": "code",
   "execution_count": 5,
   "metadata": {},
   "outputs": [],
   "source": [
    "def add_one(x):\n",
    "    return x + 1"
   ]
  },
  {
   "cell_type": "code",
   "execution_count": 10,
   "metadata": {},
   "outputs": [
    {
     "name": "stdout",
     "output_type": "stream",
     "text": [
      "376 ns ± 72.3 ns per loop (mean ± std. dev. of 7 runs, 1000000 loops each)\n"
     ]
    }
   ],
   "source": [
    "%timeit map(lambda x : x+1, [1,2,3,4,5])"
   ]
  },
  {
   "cell_type": "markdown",
   "metadata": {},
   "source": [
    "lambda는 전산처리를 매우 빠르게 할 수 있게 해줌"
   ]
  },
  {
   "cell_type": "code",
   "execution_count": 11,
   "metadata": {},
   "outputs": [
    {
     "name": "stdout",
     "output_type": "stream",
     "text": [
      "637 ns ± 15.4 ns per loop (mean ± std. dev. of 7 runs, 1000000 loops each)\n"
     ]
    }
   ],
   "source": [
    "%%timeit\n",
    "temp = [] \n",
    "for i in [1,2,3,4,5] :\n",
    "    temp.append(i)"
   ]
  },
  {
   "cell_type": "code",
   "execution_count": 12,
   "metadata": {},
   "outputs": [
    {
     "name": "stdout",
     "output_type": "stream",
     "text": [
      "465 ns ± 176 ns per loop (mean ± std. dev. of 7 runs, 1000000 loops each)\n"
     ]
    }
   ],
   "source": [
    "%timeit (x+1 for x in [1,2,3,4,5])"
   ]
  },
  {
   "cell_type": "markdown",
   "metadata": {},
   "source": [
    "# Predicate"
   ]
  },
  {
   "cell_type": "code",
   "execution_count": 20,
   "metadata": {},
   "outputs": [
    {
     "data": {
      "text/plain": [
       "(4, 5, 6)"
      ]
     },
     "execution_count": 20,
     "metadata": {},
     "output_type": "execute_result"
    }
   ],
   "source": [
    "tuple(filter(lambda x : x > 3 , [1,2,3,4,5,6]))"
   ]
  },
  {
   "cell_type": "code",
   "execution_count": 22,
   "metadata": {},
   "outputs": [],
   "source": [
    "from functools import reduce"
   ]
  },
  {
   "cell_type": "code",
   "execution_count": 23,
   "metadata": {},
   "outputs": [
    {
     "data": {
      "text/plain": [
       "15"
      ]
     },
     "execution_count": 23,
     "metadata": {},
     "output_type": "execute_result"
    }
   ],
   "source": [
    "reduce( lambda x,y : x + y , [1,2,3,4,5])"
   ]
  },
  {
   "cell_type": "markdown",
   "metadata": {},
   "source": [
    "REDUCTION은 무엇인가??"
   ]
  },
  {
   "cell_type": "markdown",
   "metadata": {},
   "source": [
    "결국 처음에는 for loop과 while로 구현 후 함수형으로 다시 바꾼다"
   ]
  }
 ],
 "metadata": {
  "kernelspec": {
   "display_name": "Python 3",
   "language": "python",
   "name": "python3"
  },
  "language_info": {
   "codemirror_mode": {
    "name": "ipython",
    "version": 3
   },
   "file_extension": ".py",
   "mimetype": "text/x-python",
   "name": "python",
   "nbconvert_exporter": "python",
   "pygments_lexer": "ipython3",
   "version": "3.6.8"
  }
 },
 "nbformat": 4,
 "nbformat_minor": 2
}
