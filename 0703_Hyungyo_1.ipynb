{
 "cells": [
  {
   "cell_type": "markdown",
   "metadata": {},
   "source": [
    "# 강의주제 : 함수 "
   ]
  },
  {
   "cell_type": "markdown",
   "metadata": {},
   "source": [
    "### 함수형 패러다임\n",
    "\n",
    "Python 공식 설명서 -> 파이썬 HOWTO -> 함수형 프로그래밍 HOWTO"
   ]
  },
  {
   "cell_type": "code",
   "execution_count": 91,
   "metadata": {},
   "outputs": [
    {
     "name": "stdout",
     "output_type": "stream",
     "text": [
      "1\n",
      "1\n"
     ]
    }
   ],
   "source": [
    "a = input()\n",
    "a = int(a) # 절차적 프로그래밍\n",
    "a = int(input()) # 함수형 패러다임 -> 수학적으로 증명이 가능해야 함\n",
    "                 # 함수형 패러다임은 한꺼번에 데이터를 처리해주는데 이점이 있다\n",
    "                 # 함수는 모듈화 할 수 있기 때문에 멀티 굳    "
   ]
  },
  {
   "cell_type": "code",
   "execution_count": 92,
   "metadata": {},
   "outputs": [],
   "source": [
    "import time\n",
    "def x(a=time.time()):\n",
    "    return a"
   ]
  },
  {
   "cell_type": "code",
   "execution_count": 93,
   "metadata": {},
   "outputs": [
    {
     "data": {
      "text/plain": [
       "1562119930.9864204"
      ]
     },
     "execution_count": 93,
     "metadata": {},
     "output_type": "execute_result"
    }
   ],
   "source": [
    "time.time()"
   ]
  },
  {
   "cell_type": "markdown",
   "metadata": {},
   "source": [
    "가장 많이 알려진 함수형 언어는 '하스켈'\n",
    "\n",
    "## 파이썬 : 멀티패러다임 (=다양한 방법)\n",
    "\n",
    "파이썬은 객체지향 언어를 기본으로 했지만, 함수형 패러다임까지 지원한다 -> 필요한 부분만 가져다 사용한다<br>\n",
    "-> 부작용 : side effect(원하는 결과가 안나옴)\n",
    "\n",
    "함수형 패러다임은 순수성에대해 가장 엄격 but 파이썬은 순수 X. 함수형 패러다임에 집착할 필요가 없음\n",
    "\n",
    "- 잘만들면 다른 함수와 합성 할 수 있다.(결합성)\n",
    "- 모듈성\n",
    "- 디버깅, 테스트 용이성\n",
    "\n",
    "### 형식적 증명 가능성\n"
   ]
  },
  {
   "cell_type": "code",
   "execution_count": 152,
   "metadata": {},
   "outputs": [
    {
     "data": {
      "text/plain": [
       "<tuple_iterator at 0x645ee80>"
      ]
     },
     "execution_count": 152,
     "metadata": {},
     "output_type": "execute_result"
    }
   ],
   "source": [
    "# iterator : 한개씩 뽑아서 순환시킨다\n",
    "a = (1,2,3)  # set, tuple도 가능\n",
    "b = iter(a)  # next()를 사용할 수 있다, iterable을 iterator로 바꾸는 것\n",
    "             # int('3')이랑 차이 : iter는 function, int 는 class\n",
    "    \n",
    "b # <>는 중간객체라 눈에 안보인다"
   ]
  },
  {
   "cell_type": "code",
   "execution_count": 95,
   "metadata": {},
   "outputs": [
    {
     "data": {
      "text/plain": [
       "1"
      ]
     },
     "execution_count": 95,
     "metadata": {},
     "output_type": "execute_result"
    }
   ],
   "source": [
    "next(b) # 1->2->3 -> error (파이썬에서는 None으로 갈때 error를 발생시키는 경우가 많음)\n",
    "        # iterator 장점 : Lazy (실행되기전까지는 메모리에 안올림, 속도는 느려짐)\n",
    "        # -> 파이썬에서 최적화를 시켜놨기 때문에 속도 괜찮음"
   ]
  },
  {
   "cell_type": "code",
   "execution_count": 96,
   "metadata": {},
   "outputs": [
    {
     "data": {
      "text/plain": [
       "[2, 3]"
      ]
     },
     "execution_count": 96,
     "metadata": {},
     "output_type": "execute_result"
    }
   ],
   "source": [
    "list(b)  #next()로 실행한다음 list를 보면 next 실행된 만큼 없어져있음 (pop과 유사, pop은 최적화 X)\n",
    "         # 이렇게 list로 바꾸는건 iterator의 장점을 다 날리는거다"
   ]
  },
  {
   "cell_type": "code",
   "execution_count": 97,
   "metadata": {},
   "outputs": [],
   "source": [
    "def iterator_exam():\n",
    "    for i in [1,2,3]:\n",
    "        print[i]"
   ]
  },
  {
   "cell_type": "code",
   "execution_count": 98,
   "metadata": {},
   "outputs": [],
   "source": [
    "# 내부구조를 알려면a\n",
    "import dis  #기계어로 분해한다?"
   ]
  },
  {
   "cell_type": "code",
   "execution_count": 99,
   "metadata": {},
   "outputs": [
    {
     "name": "stdout",
     "output_type": "stream",
     "text": [
      "  2           0 SETUP_LOOP              20 (to 22)\n",
      "              2 LOAD_CONST               1 ((1, 2, 3))\n",
      "              4 GET_ITER\n",
      "        >>    6 FOR_ITER                12 (to 20)\n",
      "              8 STORE_FAST               0 (i)\n",
      "\n",
      "  3          10 LOAD_GLOBAL              0 (print)\n",
      "             12 LOAD_FAST                0 (i)\n",
      "             14 BINARY_SUBSCR\n",
      "             16 POP_TOP\n",
      "             18 JUMP_ABSOLUTE            6\n",
      "        >>   20 POP_BLOCK\n",
      "        >>   22 LOAD_CONST               0 (None)\n",
      "             24 RETURN_VALUE\n"
     ]
    }
   ],
   "source": [
    "dis.dis(iterator_exam)"
   ]
  },
  {
   "cell_type": "markdown",
   "metadata": {},
   "source": [
    "값을 만드는 방법 2가지\n",
    "- int만 빼고 다른것들은 기호로 타입을 구분짓는데 이 기호를 ### 리터럴(literal) ### 이라고 한다\n",
    "- \n",
    "\n",
    "객체지향 -> instance화\n",
    "\n",
    "### 파이썬에서 naming\n",
    "- 내장객체 소문자\n",
    "- 외부에서온거 대문자"
   ]
  },
  {
   "cell_type": "code",
   "execution_count": 100,
   "metadata": {},
   "outputs": [
    {
     "data": {
      "text/plain": [
       "0.2"
      ]
     },
     "execution_count": 100,
     "metadata": {},
     "output_type": "execute_result"
    }
   ],
   "source": [
    "a = 2e-1 #e가 붙으면 float 타입\n",
    "a"
   ]
  },
  {
   "cell_type": "code",
   "execution_count": 101,
   "metadata": {},
   "outputs": [
    {
     "data": {
      "text/plain": [
       "str"
      ]
     },
     "execution_count": 101,
     "metadata": {},
     "output_type": "execute_result"
    }
   ],
   "source": [
    "a=f'ab\\n' # r붙이면 \\적용한것처럼,b붙이면 바이트 형식, f붙이면 ???\n",
    "type(a)"
   ]
  },
  {
   "cell_type": "code",
   "execution_count": 102,
   "metadata": {},
   "outputs": [],
   "source": [
    "# 인스턴스 방식\n",
    "a = int()   # 0\n",
    "b = float() # 0.0\n",
    "c = list()  # []\n",
    "d = set()   # set()"
   ]
  },
  {
   "cell_type": "markdown",
   "metadata": {},
   "source": [
    "iter는 예외적이다??? 어느부분이?<br>\n",
    "iterator는 next()만 있다.\n",
    "\n",
    "### Generator 도 next()만 쓸수 있는데 만드는 방식이 다름\n",
    "- 함수를 이용해서 만듬\n",
    "- Generator 식을 이용해서 만듬?? comprehention??\n",
    "\n",
    "메모리 사용 효율이 좋다\n"
   ]
  },
  {
   "cell_type": "code",
   "execution_count": 227,
   "metadata": {},
   "outputs": [],
   "source": [
    "def generator_exam():\n",
    "    yield from [1,2,3,4]\n",
    "    yield 2\n",
    "    yield 3     # iterator은 객체를 바꿔주는 애, yield는 내마음대로 generator, next()를 쓸수 있게 해주는 애 (장점 : Lazy하다)"
   ]
  },
  {
   "cell_type": "code",
   "execution_count": 128,
   "metadata": {},
   "outputs": [
    {
     "data": {
      "text/plain": [
       "generator"
      ]
     },
     "execution_count": 128,
     "metadata": {},
     "output_type": "execute_result"
    }
   ],
   "source": [
    "x = generator_exam()\n",
    "type(x)"
   ]
  },
  {
   "cell_type": "code",
   "execution_count": 129,
   "metadata": {},
   "outputs": [
    {
     "data": {
      "text/plain": [
       "1"
      ]
     },
     "execution_count": 129,
     "metadata": {},
     "output_type": "execute_result"
    }
   ],
   "source": [
    "next(x) # 1 -> 2 -> 3 -> 4 -> 2 -> 3\n"
   ]
  },
  {
   "cell_type": "markdown",
   "metadata": {},
   "source": [
    "### from의 두가지 용법\n",
    "- yield from\n",
    "- from a import"
   ]
  },
  {
   "cell_type": "markdown",
   "metadata": {},
   "source": [
    "# comprehension (반복식) \n",
    " : 하스켈에서 베낌<br>\n",
    " : 데이터를 많이 만들어야 될 때 사용되는 녀석\n",
    " \n",
    " ### iterator 종류\n",
    " - list\n",
    " - set \n",
    " - dict\n",
    " \n",
    " tuple X -> generator (next 쓸수 있다, 혼자 immutable이라) <br>\n",
    " generator 표현할 때 tuple로 \n"
   ]
  },
  {
   "cell_type": "code",
   "execution_count": 150,
   "metadata": {},
   "outputs": [
    {
     "data": {
      "text/plain": [
       "[0, 3, 2, 3, 4, 3, 6, 3, 8, 3]"
      ]
     },
     "execution_count": 150,
     "metadata": {},
     "output_type": "execute_result"
    }
   ],
   "source": [
    "[x for x in range(10)] # 걸리는 시간 측정\n",
    "[str(x) for x in range(10)]   # 뒤에 if를 붙일 수 있다\n",
    "[str(x) for x in range(10) if x%2==0]\n",
    "\n",
    "[x if x%2==0 else 3 for x in range(10)]# 파이썬은 왼쪽에서 오른쪽으로 계산한다\n",
    "\n",
    "#[(x,y) for x in range(1,11) for y in range(10)]\n",
    " \n",
    "# comprehension은 값을 정의 할 때 쓴다(효율적)"
   ]
  },
  {
   "cell_type": "code",
   "execution_count": 151,
   "metadata": {},
   "outputs": [
    {
     "name": "stdout",
     "output_type": "stream",
     "text": [
      "1.08 µs ± 25 ns per loop (mean ± std. dev. of 7 runs, 1000000 loops each)\n"
     ]
    }
   ],
   "source": [
    "%%timeit # %는 한줄 측정, %%는 전체 측정\n",
    "temp = []\n",
    "for i in range(10):\n",
    "    temp.append(1)"
   ]
  },
  {
   "cell_type": "markdown",
   "metadata": {},
   "source": [
    "comprehension이 최적화가 되어있기때문에 훨신 빠르다"
   ]
  },
  {
   "cell_type": "markdown",
   "metadata": {},
   "source": [
    "## for문을 쓰지 않고 한번에 계산할 수 있는 기법\n",
    "\n",
    "### 함수형 패러그램에서 사용함\n",
    "\n",
    "- iterator , generator\n",
    "- for 모양은 있지만 for문이 없다고 생각(comprehention)\n",
    "- 재귀(recursive)\n",
    "- filter, reduce"
   ]
  },
  {
   "cell_type": "code",
   "execution_count": 153,
   "metadata": {},
   "outputs": [
    {
     "name": "stdout",
     "output_type": "stream",
     "text": [
      "1.12 µs ± 26.2 ns per loop (mean ± std. dev. of 7 runs, 1000000 loops each)\n"
     ]
    }
   ],
   "source": [
    "%%timeit \n",
    "temp = []\n",
    "for i in range(10): # iter랑 별차이 없어서 iter 안씀\n",
    "    temp.append(i)"
   ]
  },
  {
   "cell_type": "code",
   "execution_count": 155,
   "metadata": {},
   "outputs": [
    {
     "name": "stdout",
     "output_type": "stream",
     "text": [
      "1.21 µs ± 23.2 ns per loop (mean ± std. dev. of 7 runs, 1000000 loops each)\n"
     ]
    }
   ],
   "source": [
    "%%timeit \n",
    "temp = []\n",
    "for i in iter(range(10)):\n",
    "    temp.append(i)"
   ]
  },
  {
   "cell_type": "code",
   "execution_count": 156,
   "metadata": {},
   "outputs": [],
   "source": [
    "from collections.abc import Iterable"
   ]
  },
  {
   "cell_type": "code",
   "execution_count": 157,
   "metadata": {},
   "outputs": [],
   "source": [
    "from collections.abc import Iterator"
   ]
  },
  {
   "cell_type": "code",
   "execution_count": 162,
   "metadata": {},
   "outputs": [
    {
     "data": {
      "text/plain": [
       "{'__next__'}"
      ]
     },
     "execution_count": 162,
     "metadata": {},
     "output_type": "execute_result"
    }
   ],
   "source": [
    "set(dir(Iterator)) - set(dir(Iterable)) ## Iterator 사용되는곳에 Iterable 사용가능"
   ]
  },
  {
   "cell_type": "code",
   "execution_count": 163,
   "metadata": {},
   "outputs": [
    {
     "name": "stdout",
     "output_type": "stream",
     "text": [
      "314 ns ± 1.82 ns per loop (mean ± std. dev. of 7 runs, 1000000 loops each)\n"
     ]
    }
   ],
   "source": [
    "%timeit sum([1,2,3,4,5,6,7,8,9,10])"
   ]
  },
  {
   "cell_type": "code",
   "execution_count": 165,
   "metadata": {},
   "outputs": [
    {
     "name": "stdout",
     "output_type": "stream",
     "text": [
      "1.01 µs ± 9.22 ns per loop (mean ± std. dev. of 7 runs, 1000000 loops each)\n"
     ]
    }
   ],
   "source": [
    "%timeit sum([x for x in range(1,11)])"
   ]
  },
  {
   "cell_type": "code",
   "execution_count": 167,
   "metadata": {},
   "outputs": [
    {
     "name": "stdout",
     "output_type": "stream",
     "text": [
      "1.22 µs ± 10.6 ns per loop (mean ± std. dev. of 7 runs, 1000000 loops each)\n"
     ]
    }
   ],
   "source": [
    "%timeit sum(x for x in range(1,11)) # generator 를 함수에 집어넣을 때 예외적으로 괄호 생략 가능"
   ]
  },
  {
   "cell_type": "code",
   "execution_count": 169,
   "metadata": {},
   "outputs": [
    {
     "name": "stdout",
     "output_type": "stream",
     "text": [
      "1.21 µs ± 8.4 ns per loop (mean ± std. dev. of 7 runs, 1000000 loops each)\n"
     ]
    }
   ],
   "source": [
    "%timeit sum((x for x in range(1,11))) # generator 를 함수에 집어넣을 때 예외적으로 괄호 생략 가능"
   ]
  },
  {
   "cell_type": "markdown",
   "metadata": {},
   "source": [
    "함수 argument로 식이 사용될 수 있다."
   ]
  },
  {
   "cell_type": "markdown",
   "metadata": {},
   "source": [
    "함수형 패러다임에서 재귀함수를 많이씀"
   ]
  },
  {
   "cell_type": "code",
   "execution_count": 193,
   "metadata": {},
   "outputs": [],
   "source": [
    "# 피보나치\n",
    "def fibo(n):\n",
    "    if n<3:\n",
    "        return 1\n",
    "    return fibo(n-1) + fibo(n-2)\n",
    "\n",
    "#재귀로 만들면 stack에 계속 쌓이다가 오버플로우가 발생"
   ]
  },
  {
   "cell_type": "markdown",
   "metadata": {},
   "source": [
    "재귀함수\n",
    "- 한눈에 알고리즘을 알수 있다\n",
    "- 구현하기 쉽다\n",
    "- for문을 사용하지 않는데\n",
    "- 파이썬에는 꼬리재귀를 지원하지 않기 때문에 재귀 사용하지 않는다\n"
   ]
  },
  {
   "cell_type": "markdown",
   "metadata": {},
   "source": [
    "# 내장함수\n",
    "\n",
    "- map \n",
    "- filter \n",
    "- reduce"
   ]
  },
  {
   "cell_type": "code",
   "execution_count": 195,
   "metadata": {},
   "outputs": [],
   "source": [
    "def add_one(x):\n",
    "    return x+1"
   ]
  },
  {
   "cell_type": "code",
   "execution_count": 211,
   "metadata": {},
   "outputs": [
    {
     "name": "stdout",
     "output_type": "stream",
     "text": [
      "2\n",
      "3\n",
      "4\n",
      "5\n",
      "6\n"
     ]
    }
   ],
   "source": [
    "for i in map(lambda x:x+1, [1,2,3,4,5]):\n",
    "    print(i)\n",
    "    \n",
    "#전체 데이터를 바꿔주자"
   ]
  },
  {
   "cell_type": "code",
   "execution_count": 208,
   "metadata": {},
   "outputs": [
    {
     "name": "stdout",
     "output_type": "stream",
     "text": [
      "548 ns ± 17.8 ns per loop (mean ± std. dev. of 7 runs, 1000000 loops each)\n"
     ]
    }
   ],
   "source": [
    "%%timeit\n",
    "\n",
    "temp = []\n",
    "for i in [1,2,3,4,5]:\n",
    "    temp.append(i+1)"
   ]
  },
  {
   "cell_type": "code",
   "execution_count": 209,
   "metadata": {},
   "outputs": [
    {
     "name": "stdout",
     "output_type": "stream",
     "text": [
      "452 ns ± 4.48 ns per loop (mean ± std. dev. of 7 runs, 1000000 loops each)\n"
     ]
    }
   ],
   "source": [
    "%timeit [x+1 for x in [1,2,3,4,5]]"
   ]
  },
  {
   "cell_type": "markdown",
   "metadata": {},
   "source": [
    "# predicate (true or false)"
   ]
  },
  {
   "cell_type": "code",
   "execution_count": 216,
   "metadata": {
    "scrolled": true
   },
   "outputs": [
    {
     "data": {
      "text/plain": [
       "[4, 5, 6]"
      ]
     },
     "execution_count": 216,
     "metadata": {},
     "output_type": "execute_result"
    }
   ],
   "source": [
    "list(filter(lambda x :x>3, [1,2,3,4,5,6])) #if보다 효율적"
   ]
  },
  {
   "cell_type": "code",
   "execution_count": 218,
   "metadata": {},
   "outputs": [],
   "source": [
    "from functools import reduce"
   ]
  },
  {
   "cell_type": "code",
   "execution_count": 219,
   "metadata": {},
   "outputs": [
    {
     "data": {
      "text/plain": [
       "15"
      ]
     },
     "execution_count": 219,
     "metadata": {},
     "output_type": "execute_result"
    }
   ],
   "source": [
    "reduce(lambda x,y:x+y, [1,2,3,4,5]) # reduction : 여러개의 값을 하나로 축소시키는 것(내적구할 때 사용가능)"
   ]
  },
  {
   "cell_type": "code",
   "execution_count": 220,
   "metadata": {},
   "outputs": [],
   "source": [
    "a = \"문근영 이뻐요\""
   ]
  },
  {
   "cell_type": "code",
   "execution_count": 226,
   "metadata": {},
   "outputs": [
    {
     "name": "stdout",
     "output_type": "stream",
     "text": [
      "1 문\n",
      "2 근\n",
      "3 영\n",
      "4  \n",
      "5 이\n",
      "6 뻐\n",
      "7 요\n"
     ]
    }
   ],
   "source": [
    "for i ,j in enumerate(a, 1): # enumerate : 인덱스 몇번째인지 알고 싶을때 사용한다.\n",
    "    print(i,j)"
   ]
  },
  {
   "cell_type": "markdown",
   "metadata": {},
   "source": [
    "함수 패러다임은 기존 객체지향 프로그램에서 for와 while로 전부 처리할 수 있다.\n",
    "그래서 while for 만든다음 함수 패러다임으로 적용하라"
   ]
  },
  {
   "cell_type": "code",
   "execution_count": null,
   "metadata": {},
   "outputs": [],
   "source": []
  }
 ],
 "metadata": {
  "kernelspec": {
   "display_name": "Python 3",
   "language": "python",
   "name": "python3"
  },
  "language_info": {
   "codemirror_mode": {
    "name": "ipython",
    "version": 3
   },
   "file_extension": ".py",
   "mimetype": "text/x-python",
   "name": "python",
   "nbconvert_exporter": "python",
   "pygments_lexer": "ipython3",
   "version": "3.7.3"
  }
 },
 "nbformat": 4,
 "nbformat_minor": 2
}
