{
 "cells": [
  {
   "cell_type": "markdown",
   "metadata": {},
   "source": [
    "# ##07.08 데이터베이스의 이해 및 실습"
   ]
  },
  {
   "cell_type": "code",
   "execution_count": 1,
   "metadata": {},
   "outputs": [],
   "source": [
    "# 1.DBMS\n",
    "\n",
    "# Why data base and big data ??\n",
    "\n",
    "# 정형 데이터 20% vs 비정형 데이터 80% \n",
    "\n",
    "# Structured , semi - structured , unstructured \n",
    "\n",
    "# 많은 회사들이 이 데이터 베이스에 많은 관심을 가지고 있다.\n",
    "\n",
    "# Strucutred data는 회사들이 아주 잘하고 있는 분야 -> 그 이외의 unstructured는 아직 회사의 영역이 아님.\n",
    "\n",
    "# Data와 Informantion은 확실히 다름 -> 잘라서 이야기 하기 어려움 -> 데이터는 있는 그대로의 값 or 사실 -> insight 도출 "
   ]
  },
  {
   "cell_type": "code",
   "execution_count": 2,
   "metadata": {},
   "outputs": [],
   "source": [
    "# **integrity이 가장 중요하다!!!! -> 항상 miss , 오류가 없어야 한다는 특징을 지님\n",
    "# 중복을 피하기 위해서 -> entitiy가 작은 단위에서 찾아야 함 "
   ]
  },
  {
   "cell_type": "code",
   "execution_count": null,
   "metadata": {},
   "outputs": [],
   "source": [
    "# 왜 RDBMS인가??\n",
    "\n",
    "# relational database로 학교에서 가장 흔한 형태 \n",
    "# Light SQL: fault tolerance 기능은 있으나 -> 표시를 안해줌 , 동시 접근이 가능하지 않고 나만 접근 가능"
   ]
  },
  {
   "cell_type": "code",
   "execution_count": 3,
   "metadata": {},
   "outputs": [],
   "source": [
    "### RDBMS 컨셉들 \n",
    "\n",
    "# relation / table\n",
    "# tuple / row \n",
    "# attribute / column or field \n",
    "# Degree / number of columns \n",
    "# Domain / pool & legal value \n",
    "# Primary key -> unique identifier \n"
   ]
  },
  {
   "cell_type": "code",
   "execution_count": 7,
   "metadata": {},
   "outputs": [],
   "source": [
    "# Entity - relation - model : ERD의 설계 \n",
    "\n",
    "# Entity , relation , attrbiute , Primary key \n",
    "\n",
    "# Entitiy = 네모 // relation = 마른모 \n",
    "\n",
    "# data를 설계 및 SCHEMA에 맞게 설계 => 전공자들이 지겹게 했던 설계법\n",
    "\n",
    "# 교수는 하나 많은 학생을 지도 (1, n) 이라는 관계를 가짐 \n",
    "\n",
    "#  delete & drop은 필드에서 잘못쓰면 욕먹을 가능성이 매우 높음 -> 위험하기 떄문 "
   ]
  },
  {
   "cell_type": "code",
   "execution_count": 8,
   "metadata": {},
   "outputs": [],
   "source": [
    "# int, string 등 데이터에 문제가 발샐할 수 있으니 ,데이터 크기를 넉넉히 잡는 것은 매우 중요하다**"
   ]
  },
  {
   "cell_type": "code",
   "execution_count": 9,
   "metadata": {},
   "outputs": [],
   "source": [
    "# DML : 데이터를 생성하는 언어 \n",
    "# 보통 숫자가 들어가면 PK에 해당 돌 경우가 매우 많음, 따라서 6개의 value들을 채워넣을 수 있음 \n",
    "# 앞에 똑같은 아이지만 다른 방식으로 추가 -> NULL를 허용함 -> Int , primary , auto-increase \n",
    "#                                                    (contact name, address, postal code는 필수 정보) quary 형태로 database에 삽입"
   ]
  },
  {
   "cell_type": "code",
   "execution_count": 16,
   "metadata": {},
   "outputs": [],
   "source": [
    "# SELECT에 많은 제약조건이 붙어 까다롭게 될 수도 있음, \n",
    "\n",
    "# SELECT * FROM T ;\n",
    "# SELECT c1 FROM T ;\n",
    "# SELECT * FROM T WHERE c1 = 1 ;\n",
    "# SELECT * FROM T ORDER BY C1 DESC ;\n",
    "\n",
    "# WHERE\n",
    "\n",
    "# USed to filter records\n",
    "# Used to extract only those records that fulfill a specific condition \n",
    "\n",
    "\n",
    "#Ineer join \n",
    "\n",
    "#select ID where Teacher inner join Students \n",
    "\n",
    "\n",
    "# TABLE 만들기\n",
    "\n",
    "# Create table department { DepartmentID INT Primary key, DepartmentName VARCHAR(20)}\n",
    "\n",
    "\n",
    "# Table에 값을 집어넣는 방식!!! \n",
    "\n",
    "# INSERT INTO department VALUES (31, 'Sales') ; \n",
    "\n",
    "\n",
    "# CROSS JOIN\n",
    "\n",
    "# SELECT * FROM employeee cross join department ; \n",
    "# 이는 가능한 모든 쌍을 전부 생성한다는 특징을 지님 -> 그 뒤에 where절을 통하여 특정 data을 다시 색출 -> 그러나 이는 느리다는 단점을 지님\n",
    "\n",
    "# 1 : n에 관계가 만들어지는게 맞다 -> matching 되는 교집합이 없으면 -> 탈락!!\n",
    "\n",
    "\n",
    "# LEFT OUTER JOIN \n",
    "# 서로 다른 table에서 어느 것을 가지고 올 것인지? -> table 1을 전부, TABLE 1 ^ TABLE 2 공집합을 가지고 옴 \n",
    "\n",
    "# FULL OUTER JOIN\n",
    "# 합칠 수 있는 부분은 합치고 나머지 left, right에 남는 부분은 NULL인 값이 입력된다. \n",
    "\n",
    "# SELECT * FROM employee FULL OUTER JOIN department ON employee.DepartmentID = department.DepartmentID ;\n",
    "\n"
   ]
  },
  {
   "cell_type": "code",
   "execution_count": 20,
   "metadata": {},
   "outputs": [],
   "source": [
    "# SELECT * FROM PART ; -> 2개 \n",
    "# SELCT FROM SELLS WHERE PRICE > 11 ; -> 3개 \n",
    "# SELECT SNO PRICE FROM  SELSS WHERE PNO = 1 AND PRICE <= 10 ;\n",
    "\n",
    "\n",
    "# SELECT SNAME,PNAME,PRICE FROM SELLS,SUPPERLIER, PART (CROSS JOIN - 8*4*4)"
   ]
  },
  {
   "cell_type": "markdown",
   "metadata": {},
   "source": [
    "# ##SQL LITE"
   ]
  },
  {
   "cell_type": "code",
   "execution_count": 21,
   "metadata": {},
   "outputs": [],
   "source": [
    "import sqlite3"
   ]
  },
  {
   "cell_type": "code",
   "execution_count": 22,
   "metadata": {},
   "outputs": [
    {
     "data": {
      "text/plain": [
       "'2.6.0'"
      ]
     },
     "execution_count": 22,
     "metadata": {},
     "output_type": "execute_result"
    }
   ],
   "source": [
    "sqlite3.version"
   ]
  },
  {
   "cell_type": "code",
   "execution_count": 23,
   "metadata": {},
   "outputs": [
    {
     "data": {
      "text/plain": [
       "(2, 6, 0)"
      ]
     },
     "execution_count": 23,
     "metadata": {},
     "output_type": "execute_result"
    }
   ],
   "source": [
    "sqlite3.version_info"
   ]
  },
  {
   "cell_type": "code",
   "execution_count": 24,
   "metadata": {},
   "outputs": [
    {
     "data": {
      "text/plain": [
       "'3.27.2'"
      ]
     },
     "execution_count": 24,
     "metadata": {},
     "output_type": "execute_result"
    }
   ],
   "source": [
    "sqlite3.sqlite_version"
   ]
  },
  {
   "cell_type": "code",
   "execution_count": 25,
   "metadata": {},
   "outputs": [
    {
     "data": {
      "text/plain": [
       "(3, 27, 2)"
      ]
     },
     "execution_count": 25,
     "metadata": {},
     "output_type": "execute_result"
    }
   ],
   "source": [
    "sqlite3.sqlite_version_info"
   ]
  },
  {
   "cell_type": "code",
   "execution_count": 29,
   "metadata": {},
   "outputs": [],
   "source": [
    "# conn = sqlite3.connect(\"경로/이름\" or \":memory:\")\n",
    "conn = sqlite3.connect(\":memory:\")\n",
    "# CONNECTION은 Database를 관리해주는 친구임 ; 이는 connect 객체를 만듬"
   ]
  },
  {
   "cell_type": "code",
   "execution_count": 31,
   "metadata": {},
   "outputs": [],
   "source": [
    "# CURSUR 객체를 생성, SQL과 정보를 주고 받을 예정임\n",
    "cur = conn.cursor()"
   ]
  },
  {
   "cell_type": "code",
   "execution_count": 34,
   "metadata": {},
   "outputs": [
    {
     "data": {
      "text/plain": [
       "['__class__',\n",
       " '__delattr__',\n",
       " '__dir__',\n",
       " '__doc__',\n",
       " '__eq__',\n",
       " '__format__',\n",
       " '__ge__',\n",
       " '__getattribute__',\n",
       " '__gt__',\n",
       " '__hash__',\n",
       " '__init__',\n",
       " '__init_subclass__',\n",
       " '__iter__',\n",
       " '__le__',\n",
       " '__lt__',\n",
       " '__ne__',\n",
       " '__new__',\n",
       " '__next__',\n",
       " '__reduce__',\n",
       " '__reduce_ex__',\n",
       " '__repr__',\n",
       " '__setattr__',\n",
       " '__sizeof__',\n",
       " '__str__',\n",
       " '__subclasshook__',\n",
       " 'arraysize',\n",
       " 'close',\n",
       " 'connection',\n",
       " 'description',\n",
       " 'execute',\n",
       " 'executemany',\n",
       " 'executescript',\n",
       " 'fetchall',\n",
       " 'fetchmany',\n",
       " 'fetchone',\n",
       " 'lastrowid',\n",
       " 'row_factory',\n",
       " 'rowcount',\n",
       " 'setinputsizes',\n",
       " 'setoutputsize']"
      ]
     },
     "execution_count": 34,
     "metadata": {},
     "output_type": "execute_result"
    }
   ],
   "source": [
    "type(cur)\n",
    "dir(cur) # excute 관련된 객체들이 있는 지 확인 // connect 관련된 객체들이 있는 지 확인"
   ]
  },
  {
   "cell_type": "code",
   "execution_count": 41,
   "metadata": {},
   "outputs": [
    {
     "data": {
      "text/plain": [
       "<sqlite3.Cursor at 0x11702d99c70>"
      ]
     },
     "execution_count": 41,
     "metadata": {},
     "output_type": "execute_result"
    }
   ],
   "source": [
    "cur.execute(\"select sqlite_version()\")  # cursur을 실행???"
   ]
  },
  {
   "cell_type": "code",
   "execution_count": 42,
   "metadata": {},
   "outputs": [
    {
     "data": {
      "text/plain": [
       "[('3.27.2',)]"
      ]
     },
     "execution_count": 42,
     "metadata": {},
     "output_type": "execute_result"
    }
   ],
   "source": [
    "cur.fetchall()   # 버전이 맞는지 확인함"
   ]
  },
  {
   "cell_type": "code",
   "execution_count": 46,
   "metadata": {},
   "outputs": [
    {
     "ename": "TypeError",
     "evalue": "Required argument 'statement' (pos 1) not found",
     "output_type": "error",
     "traceback": [
      "\u001b[1;31m---------------------------------------------------------------------------\u001b[0m",
      "\u001b[1;31mTypeError\u001b[0m                                 Traceback (most recent call last)",
      "\u001b[1;32m<ipython-input-46-ddb853e91119>\u001b[0m in \u001b[0;36m<module>\u001b[1;34m\u001b[0m\n\u001b[1;32m----> 1\u001b[1;33m \u001b[0msqlite3\u001b[0m\u001b[1;33m.\u001b[0m\u001b[0mcomplete_statement\u001b[0m\u001b[1;33m(\u001b[0m\u001b[1;33m)\u001b[0m \u001b[1;31m# SQL은 반드시 ;이 필요하다. 그럼 왜 위에 있는 코드는 실행이 되었나???\u001b[0m\u001b[1;33m\u001b[0m\u001b[1;33m\u001b[0m\u001b[0m\n\u001b[0m\u001b[0;32m      2\u001b[0m                                \u001b[1;31m# 위에는 넣은 것은 하나의 문장이기 떄문에 -> 가능 -> 결론 : ; 꼭 써라\u001b[0m\u001b[1;33m\u001b[0m\u001b[1;33m\u001b[0m\u001b[1;33m\u001b[0m\u001b[0m\n",
      "\u001b[1;31mTypeError\u001b[0m: Required argument 'statement' (pos 1) not found"
     ]
    }
   ],
   "source": [
    "sqlite3.complete_statement()   # SQL은 반드시 ;이 필요하다. 그럼 왜 위에 있는 코드는 실행이 되었나???\n",
    "                               # 위에는 넣은 것은 하나의 문장이기 떄문에 -> 가능 -> 결론 : ; 꼭 써라"
   ]
  },
  {
   "cell_type": "code",
   "execution_count": 47,
   "metadata": {},
   "outputs": [],
   "source": [
    "# SQL DATATYPE들 \n",
    "\n",
    "# 1. NULL , 2. INTEGER , 3. REAL , 4. BLOB"
   ]
  },
  {
   "cell_type": "code",
   "execution_count": 76,
   "metadata": {},
   "outputs": [
    {
     "ename": "OperationalError",
     "evalue": "table people already exists",
     "output_type": "error",
     "traceback": [
      "\u001b[1;31m---------------------------------------------------------------------------\u001b[0m",
      "\u001b[1;31mOperationalError\u001b[0m                          Traceback (most recent call last)",
      "\u001b[1;32m<ipython-input-76-f4351a7e8673>\u001b[0m in \u001b[0;36m<module>\u001b[1;34m\u001b[0m\n\u001b[1;32m----> 1\u001b[1;33m \u001b[0mcur\u001b[0m\u001b[1;33m.\u001b[0m\u001b[0mexecute\u001b[0m\u001b[1;33m(\u001b[0m\u001b[1;34m\"create table people (name_last, age)\"\u001b[0m\u001b[1;33m)\u001b[0m\u001b[1;33m\u001b[0m\u001b[1;33m\u001b[0m\u001b[0m\n\u001b[0m",
      "\u001b[1;31mOperationalError\u001b[0m: table people already exists"
     ]
    }
   ],
   "source": [
    "cur.execute(\"create table people (name_last, age)\")"
   ]
  },
  {
   "cell_type": "code",
   "execution_count": 77,
   "metadata": {},
   "outputs": [],
   "source": [
    "who = \"Daniel\"\n",
    "age = 27 "
   ]
  },
  {
   "cell_type": "code",
   "execution_count": 87,
   "metadata": {},
   "outputs": [
    {
     "data": {
      "text/plain": [
       "<sqlite3.Cursor at 0x11702d99c70>"
      ]
     },
     "execution_count": 87,
     "metadata": {},
     "output_type": "execute_result"
    }
   ],
   "source": [
    "# Qmark 스타일은 간단해서 좋음 -> 그러나 데이터가 너무 많으면 쓰기 힘들어짐 (계속 반복을 해야 한다는 한계를 지님)\n",
    "cur.execute(\"insert into people values (?,?)\",(who,age))"
   ]
  },
  {
   "cell_type": "code",
   "execution_count": 88,
   "metadata": {},
   "outputs": [
    {
     "data": {
      "text/plain": [
       "<sqlite3.Cursor at 0x11702d99c70>"
      ]
     },
     "execution_count": 88,
     "metadata": {},
     "output_type": "execute_result"
    }
   ],
   "source": [
    "cur.execute(\"select* from people where name_last = :who and age = :age\", {\"who\":who , \"age\":age})\n",
    "# 키값이 정해져 있으면 : 을 사용하여 확실하게 값을 지정할 수 있음 name_Last 와 WHO를 매칭, age 와 age을 매칭"
   ]
  },
  {
   "cell_type": "code",
   "execution_count": 89,
   "metadata": {},
   "outputs": [
    {
     "data": {
      "text/plain": [
       "('Daniel', 27)"
      ]
     },
     "execution_count": 89,
     "metadata": {},
     "output_type": "execute_result"
    }
   ],
   "source": [
    "cur.fetchone()"
   ]
  },
  {
   "cell_type": "code",
   "execution_count": 90,
   "metadata": {},
   "outputs": [],
   "source": [
    "# cur.executemany('SQL',params)"
   ]
  },
  {
   "cell_type": "code",
   "execution_count": 59,
   "metadata": {},
   "outputs": [],
   "source": [
    "sql = \"insert into people values (?,?)\""
   ]
  },
  {
   "cell_type": "code",
   "execution_count": 91,
   "metadata": {},
   "outputs": [],
   "source": [
    "curData = {('A',1),('B',2),('C',3)}"
   ]
  },
  {
   "cell_type": "code",
   "execution_count": 92,
   "metadata": {},
   "outputs": [
    {
     "data": {
      "text/plain": [
       "<sqlite3.Cursor at 0x11702d99c70>"
      ]
     },
     "execution_count": 92,
     "metadata": {},
     "output_type": "execute_result"
    }
   ],
   "source": [
    "cur.executemany(sql,curData)"
   ]
  },
  {
   "cell_type": "code",
   "execution_count": 97,
   "metadata": {},
   "outputs": [
    {
     "data": {
      "text/plain": [
       "<sqlite3.Cursor at 0x11702d99c70>"
      ]
     },
     "execution_count": 97,
     "metadata": {},
     "output_type": "execute_result"
    }
   ],
   "source": [
    "data = [('A',1),('B',1),('C',1)]\n",
    "cur.executemany(\"INSERT INTO people values (?,?)\", data)"
   ]
  },
  {
   "cell_type": "code",
   "execution_count": 101,
   "metadata": {},
   "outputs": [],
   "source": [
    "dataDict = [{\"who\":\"E\", \"age\":1},{\"who\":\"F\" , \"age\":1}]"
   ]
  },
  {
   "cell_type": "code",
   "execution_count": 103,
   "metadata": {},
   "outputs": [
    {
     "data": {
      "text/plain": [
       "<sqlite3.Cursor at 0x11702d99c70>"
      ]
     },
     "execution_count": 103,
     "metadata": {},
     "output_type": "execute_result"
    }
   ],
   "source": [
    "cur.executemany(\"INSERT INTO people values (:who, :age)\", dataDict)"
   ]
  },
  {
   "cell_type": "code",
   "execution_count": 104,
   "metadata": {},
   "outputs": [
    {
     "data": {
      "text/plain": [
       "<sqlite3.Cursor at 0x11702d99c70>"
      ]
     },
     "execution_count": 104,
     "metadata": {},
     "output_type": "execute_result"
    }
   ],
   "source": [
    "cur.execute(\"select*from people\")"
   ]
  },
  {
   "cell_type": "code",
   "execution_count": 105,
   "metadata": {},
   "outputs": [
    {
     "data": {
      "text/plain": [
       "[('Daniel', 27),\n",
       " ('Daniel', 27),\n",
       " ('B', 2),\n",
       " ('A', 1),\n",
       " ('C', 3),\n",
       " ('Daniel', 27),\n",
       " ('Daniel', 27),\n",
       " ('B', 2),\n",
       " ('A', 1),\n",
       " ('C', 3),\n",
       " ('A', 1),\n",
       " ('B', 1),\n",
       " ('C', 1),\n",
       " ('E', 1),\n",
       " ('F', 1)]"
      ]
     },
     "execution_count": 105,
     "metadata": {},
     "output_type": "execute_result"
    }
   ],
   "source": [
    "cur.fetchall()"
   ]
  },
  {
   "cell_type": "code",
   "execution_count": 108,
   "metadata": {},
   "outputs": [
    {
     "data": {
      "text/plain": [
       "<sqlite3.Cursor at 0x11702d99c70>"
      ]
     },
     "execution_count": 108,
     "metadata": {},
     "output_type": "execute_result"
    }
   ],
   "source": [
    "cur.executescript(\"\"\"\n",
    "       create table person(\n",
    "              first_name text primary key,\n",
    "              insert_name text not null\n",
    "              ); \n",
    "              insert into person values ('name' , 'kim');\"\"\")"
   ]
  },
  {
   "cell_type": "code",
   "execution_count": 109,
   "metadata": {},
   "outputs": [],
   "source": [
    "## 뒤에 두개를 못 적음 ㅜㅜ"
   ]
  },
  {
   "cell_type": "code",
   "execution_count": 110,
   "metadata": {},
   "outputs": [],
   "source": [
    "cur.fetchone()"
   ]
  },
  {
   "cell_type": "code",
   "execution_count": 112,
   "metadata": {},
   "outputs": [
    {
     "ename": "NameError",
     "evalue": "name 'size' is not defined",
     "output_type": "error",
     "traceback": [
      "\u001b[1;31m---------------------------------------------------------------------------\u001b[0m",
      "\u001b[1;31mNameError\u001b[0m                                 Traceback (most recent call last)",
      "\u001b[1;32m<ipython-input-112-dd4d1f53f5be>\u001b[0m in \u001b[0;36m<module>\u001b[1;34m\u001b[0m\n\u001b[1;32m----> 1\u001b[1;33m \u001b[0mcur\u001b[0m\u001b[1;33m.\u001b[0m\u001b[0mfetchmany\u001b[0m\u001b[1;33m(\u001b[0m\u001b[0msize\u001b[0m\u001b[1;33m)\u001b[0m\u001b[1;33m\u001b[0m\u001b[1;33m\u001b[0m\u001b[0m\n\u001b[0m",
      "\u001b[1;31mNameError\u001b[0m: name 'size' is not defined"
     ]
    }
   ],
   "source": [
    "cur.fetchmany(size)"
   ]
  },
  {
   "cell_type": "code",
   "execution_count": 320,
   "metadata": {},
   "outputs": [
    {
     "data": {
      "text/plain": [
       "<function Connection.close>"
      ]
     },
     "execution_count": 320,
     "metadata": {},
     "output_type": "execute_result"
    }
   ],
   "source": [
    "conn.close"
   ]
  },
  {
   "cell_type": "code",
   "execution_count": 116,
   "metadata": {},
   "outputs": [
    {
     "data": {
      "text/plain": [
       "<sqlite3.Connection at 0x11700bd0110>"
      ]
     },
     "execution_count": 116,
     "metadata": {},
     "output_type": "execute_result"
    }
   ],
   "source": [
    "conn"
   ]
  },
  {
   "cell_type": "code",
   "execution_count": 118,
   "metadata": {},
   "outputs": [
    {
     "name": "stdout",
     "output_type": "stream",
     "text": [
      "opened database successfully\n"
     ]
    }
   ],
   "source": [
    "conn = sqlite3.connect('create.db')\n",
    "print('opened database successfully')"
   ]
  },
  {
   "cell_type": "code",
   "execution_count": 249,
   "metadata": {},
   "outputs": [
    {
     "name": "stdout",
     "output_type": "stream",
     "text": [
      "Table created successfully\n"
     ]
    }
   ],
   "source": [
    "# DDL 방식\n",
    "cur = conn.execute('''CREATE TABLE COMPANY(\n",
    "                ID INT PRIMARY KEY NOT NULL,\n",
    "                NAME TEXT NOT NULL,\n",
    "                AGE INT NOT NULL,\n",
    "                ADDRESS CHAR(50), \n",
    "                SALARY      REAL);''')\n",
    "print(\"Table created successfully\")"
   ]
  },
  {
   "cell_type": "code",
   "execution_count": 248,
   "metadata": {},
   "outputs": [
    {
     "data": {
      "text/plain": [
       "<sqlite3.Cursor at 0x11702edab90>"
      ]
     },
     "execution_count": 248,
     "metadata": {},
     "output_type": "execute_result"
    }
   ],
   "source": [
    "conn.execute(\"drop table company\")"
   ]
  },
  {
   "cell_type": "code",
   "execution_count": 259,
   "metadata": {},
   "outputs": [
    {
     "ename": "IntegrityError",
     "evalue": "UNIQUE constraint failed: COMPANY.ID",
     "output_type": "error",
     "traceback": [
      "\u001b[1;31m---------------------------------------------------------------------------\u001b[0m",
      "\u001b[1;31mIntegrityError\u001b[0m                            Traceback (most recent call last)",
      "\u001b[1;32m<ipython-input-259-03adad907541>\u001b[0m in \u001b[0;36m<module>\u001b[1;34m\u001b[0m\n\u001b[0;32m      3\u001b[0m \u001b[1;33m\u001b[0m\u001b[0m\n\u001b[0;32m      4\u001b[0m \u001b[1;31m#방법 1번\u001b[0m\u001b[1;33m\u001b[0m\u001b[1;33m\u001b[0m\u001b[1;33m\u001b[0m\u001b[0m\n\u001b[1;32m----> 5\u001b[1;33m \u001b[0mcur\u001b[0m\u001b[1;33m.\u001b[0m\u001b[0mexecute\u001b[0m\u001b[1;33m(\u001b[0m\u001b[1;34m\"insert into company (ID, NAME,AGE, ADDRESS, SALARY) values ( 1, 'naver', 32, 'seoul',20000.00)\"\u001b[0m\u001b[1;33m)\u001b[0m \u001b[1;33m;\u001b[0m\u001b[1;33m\u001b[0m\u001b[1;33m\u001b[0m\u001b[0m\n\u001b[0m",
      "\u001b[1;31mIntegrityError\u001b[0m: UNIQUE constraint failed: COMPANY.ID"
     ]
    }
   ],
   "source": [
    "# DML 3가지 방법~~~!!!\n",
    "# 이를 commit하면 데이터베이스에서 반영을 한다 -> 어느 정도 transaction으로 묶어놓은 다음 commit을 하는게 중요, 아니면 rollback을 해야 한다,\n",
    "\n",
    "#방법 1번 \n",
    "cur.execute(\"insert into company (ID, NAME,AGE, ADDRESS, SALARY) values ( 1, 'naver', 32, 'seoul',20000.00)\") ;\n"
   ]
  },
  {
   "cell_type": "code",
   "execution_count": 251,
   "metadata": {},
   "outputs": [],
   "source": [
    "cur.execute(\"insert into company (ID, NAME,AGE, ADDRESS, SALARY) values ( 6, 'Google', 32, 'seoul',20000.00)\") ;"
   ]
  },
  {
   "cell_type": "code",
   "execution_count": 252,
   "metadata": {},
   "outputs": [],
   "source": [
    "# 방법 2번\n",
    "\n",
    "data = [(2,'Teddy',23,'norway',20000.00),\n",
    "        (3, 'Jessy', 23, 'finland', 3000.00)]"
   ]
  },
  {
   "cell_type": "code",
   "execution_count": 253,
   "metadata": {},
   "outputs": [],
   "source": [
    "cur.executemany(\"insert into company(ID, NAME,AGE, ADDRESS, SALARY) values (?,?,?,?,?)\", data);"
   ]
  },
  {
   "cell_type": "code",
   "execution_count": 254,
   "metadata": {},
   "outputs": [],
   "source": [
    "#방법 3번\n",
    "\n",
    "cur.executescript(\"\"\"\n",
    "    INSERT INTO COMPANY (ID, NAME, AGE, ADDRESS, SALARY)\n",
    "    VALUES (4, 'AA', 44, 'aa', 300000) \"\"\");"
   ]
  },
  {
   "cell_type": "code",
   "execution_count": 255,
   "metadata": {},
   "outputs": [],
   "source": [
    "cur.executescript(\"\"\"\n",
    "    INSERT INTO COMPANY (ID, NAME, AGE, ADDRESS, SALARY)\n",
    "    VALUES (5, 'AA', 44, 'aa', 300000) \"\"\");"
   ]
  },
  {
   "cell_type": "code",
   "execution_count": 279,
   "metadata": {},
   "outputs": [
    {
     "name": "stdout",
     "output_type": "stream",
     "text": [
      "records create successfuly\n"
     ]
    }
   ],
   "source": [
    "conn.commit()\n",
    "print(\"records create successfuly\")"
   ]
  },
  {
   "cell_type": "code",
   "execution_count": 258,
   "metadata": {},
   "outputs": [
    {
     "data": {
      "text/plain": [
       "(2, 27)"
      ]
     },
     "execution_count": 258,
     "metadata": {},
     "output_type": "execute_result"
    }
   ],
   "source": [
    "cur.lastrowid, conn.total_changes"
   ]
  },
  {
   "cell_type": "code",
   "execution_count": 276,
   "metadata": {},
   "outputs": [
    {
     "data": {
      "text/plain": [
       "<sqlite3.Cursor at 0x11702ee6260>"
      ]
     },
     "execution_count": 276,
     "metadata": {},
     "output_type": "execute_result"
    }
   ],
   "source": [
    "cur.execute('select * from company')"
   ]
  },
  {
   "cell_type": "code",
   "execution_count": 264,
   "metadata": {},
   "outputs": [],
   "source": [
    "# 이는 fetchall 보다 더 효과적인 방법이다. fetchall 같은 경우는 데이터를 계속 물고 있어서 효율적이지 못한다는 단점을 지닌다\n",
    "for row in cur:\n",
    "    print(row)"
   ]
  },
  {
   "cell_type": "code",
   "execution_count": 278,
   "metadata": {},
   "outputs": [
    {
     "data": {
      "text/plain": [
       "<sqlite3.Cursor at 0x11702ee6260>"
      ]
     },
     "execution_count": 278,
     "metadata": {},
     "output_type": "execute_result"
    }
   ],
   "source": [
    "cid = 1\n",
    "\n",
    "#cur.execute(\"UPDATE COMPANY set SALARY = 25000.00 where ID = ID \",{'id':cid})\n",
    "\n",
    "cur.execute(\"UPDATE COMPANY set SALARY = 15000.00 where ID = 1 \")"
   ]
  },
  {
   "cell_type": "code",
   "execution_count": 281,
   "metadata": {},
   "outputs": [],
   "source": [
    "# iterdump -> dump를 만들어서 데이터를 항상 백업시킨다!"
   ]
  },
  {
   "cell_type": "code",
   "execution_count": 376,
   "metadata": {},
   "outputs": [
    {
     "data": {
      "text/plain": [
       "<sqlite3.Cursor at 0x11702f17180>"
      ]
     },
     "execution_count": 376,
     "metadata": {},
     "output_type": "execute_result"
    }
   ],
   "source": [
    "conn.execute(\"drop table Artist\")"
   ]
  },
  {
   "cell_type": "code",
   "execution_count": 339,
   "metadata": {},
   "outputs": [
    {
     "data": {
      "text/plain": [
       "<sqlite3.Cursor at 0x11702ee69d0>"
      ]
     },
     "execution_count": 339,
     "metadata": {},
     "output_type": "execute_result"
    }
   ],
   "source": [
    "\n",
    "conn.executescript(\n",
    "    \n",
    "'''create table Artist (\n",
    "       id INTEGER NOT NULL PRIMARY KEY AUTOINCREMENT UNIQUE, name TEXT); ''') \n",
    "\n",
    "conn.executescript('''\n",
    "\n",
    " create table Genre (\n",
    "       id integer not null primary key autoincrement unique, name TEXT); ''')\n",
    "\n",
    "conn.executescript( '''\n",
    "\n",
    " create table Album (\n",
    "       id integer not null primary key autoincrement unique, title Text, artist_id integer) ; ''')\n",
    "\n"
   ]
  },
  {
   "cell_type": "code",
   "execution_count": 381,
   "metadata": {},
   "outputs": [
    {
     "data": {
      "text/plain": [
       "<sqlite3.Cursor at 0x11702f177a0>"
      ]
     },
     "execution_count": 381,
     "metadata": {},
     "output_type": "execute_result"
    }
   ],
   "source": [
    "\n",
    "conn.executescript(\n",
    "    \n",
    "'''create table Artist (\n",
    "       id INTEGER NOT NULL PRIMARY KEY AUTOINCREMENT UNIQUE, name TEXT); ''') "
   ]
  },
  {
   "cell_type": "code",
   "execution_count": 340,
   "metadata": {},
   "outputs": [
    {
     "data": {
      "text/plain": [
       "<sqlite3.Cursor at 0x11702ee6ab0>"
      ]
     },
     "execution_count": 340,
     "metadata": {},
     "output_type": "execute_result"
    }
   ],
   "source": [
    "conn.executescript(\n",
    "    \n",
    "'''create table Track (\n",
    "       id INTEGER NOT NULL PRIMARY KEY AUTOINCREMENT UNIQUE, \n",
    "       title TEXT, \n",
    "       length INTEGER,\n",
    "       rating INTEGER,\n",
    "       album_id INTEGER, \n",
    "       Genre_id INTEGER ); ''') "
   ]
  },
  {
   "cell_type": "code",
   "execution_count": 382,
   "metadata": {},
   "outputs": [
    {
     "data": {
      "text/plain": [
       "<sqlite3.Cursor at 0x11702f17960>"
      ]
     },
     "execution_count": 382,
     "metadata": {},
     "output_type": "execute_result"
    }
   ],
   "source": [
    "conn.execute (\"insert into Artist (name) values ('daniel')\")"
   ]
  },
  {
   "cell_type": "code",
   "execution_count": 383,
   "metadata": {},
   "outputs": [
    {
     "data": {
      "text/plain": [
       "<sqlite3.Cursor at 0x11702f17b20>"
      ]
     },
     "execution_count": 383,
     "metadata": {},
     "output_type": "execute_result"
    }
   ],
   "source": [
    "conn.execute (\"insert into Artist (name) values ('AC/DC')\")"
   ]
  },
  {
   "cell_type": "code",
   "execution_count": 384,
   "metadata": {},
   "outputs": [
    {
     "ename": "SyntaxError",
     "evalue": "EOL while scanning string literal (<ipython-input-384-6d8ba6c9c957>, line 1)",
     "output_type": "error",
     "traceback": [
      "\u001b[1;36m  File \u001b[1;32m\"<ipython-input-384-6d8ba6c9c957>\"\u001b[1;36m, line \u001b[1;32m1\u001b[0m\n\u001b[1;33m    conn.execute (\"insert into Genre (name) values ('Rock')\u001b[0m\n\u001b[1;37m                                                           ^\u001b[0m\n\u001b[1;31mSyntaxError\u001b[0m\u001b[1;31m:\u001b[0m EOL while scanning string literal\n"
     ]
    }
   ],
   "source": [
    "conn.execute (\"insert into Genre (name) values ('Rock')"
   ]
  },
  {
   "cell_type": "code",
   "execution_count": 385,
   "metadata": {},
   "outputs": [
    {
     "data": {
      "text/plain": [
       "<sqlite3.Cursor at 0x11702f17e30>"
      ]
     },
     "execution_count": 385,
     "metadata": {},
     "output_type": "execute_result"
    }
   ],
   "source": [
    "conn.execute (\"insert into Genre (name) values ('Metal')\")"
   ]
  },
  {
   "cell_type": "code",
   "execution_count": 361,
   "metadata": {},
   "outputs": [
    {
     "data": {
      "text/plain": [
       "<sqlite3.Cursor at 0x11702f17500>"
      ]
     },
     "execution_count": 361,
     "metadata": {},
     "output_type": "execute_result"
    }
   ],
   "source": [
    "conn.execute (\"\"\"\n",
    "              INSERT INTO Album (title, artist_id)\n",
    "               values (:album, \n",
    "               (SELECT id \n",
    "               from artist \n",
    "               WHERE name =:artist));\"\"\",{\"album\":\"엘범\", \"artist\":\"가수이름\"})"
   ]
  },
  {
   "cell_type": "code",
   "execution_count": 388,
   "metadata": {},
   "outputs": [
    {
     "name": "stdout",
     "output_type": "stream",
     "text": [
      "records create successfuly\n"
     ]
    }
   ],
   "source": [
    "conn.commit()\n",
    "print(\"records create successfuly\")"
   ]
  },
  {
   "cell_type": "code",
   "execution_count": 375,
   "metadata": {},
   "outputs": [
    {
     "data": {
      "text/plain": [
       "<sqlite3.Cursor at 0x11702f17650>"
      ]
     },
     "execution_count": 375,
     "metadata": {},
     "output_type": "execute_result"
    }
   ],
   "source": [
    "# JOIN\n",
    "\n",
    "conn.execute (\"\"\"\n",
    "              SELECT title,Artist_id \n",
    "              from Album \n",
    "                  join Artist on \n",
    "                       Album.artist_id = Artist.id\n",
    "              \"\"\")\n"
   ]
  },
  {
   "cell_type": "code",
   "execution_count": 377,
   "metadata": {},
   "outputs": [
    {
     "data": {
      "text/plain": [
       "<sqlite3.Cursor at 0x11702f176c0>"
      ]
     },
     "execution_count": 377,
     "metadata": {},
     "output_type": "execute_result"
    }
   ],
   "source": [
    "conn.execute (\"\"\"\n",
    "              SELECT Album.title,Track.title \n",
    "              from Track\n",
    "                  join Album on \n",
    "                       Track.album_id = Album.id\n",
    "              \"\"\")"
   ]
  },
  {
   "cell_type": "code",
   "execution_count": 389,
   "metadata": {},
   "outputs": [
    {
     "data": {
      "text/plain": [
       "<sqlite3.Cursor at 0x11702f330a0>"
      ]
     },
     "execution_count": 389,
     "metadata": {},
     "output_type": "execute_result"
    }
   ],
   "source": [
    "# 최종 통합표~~!!\n",
    "conn.execute (\"\"\"\n",
    "\n",
    "              SELECT Track.title, Artist.name, Album.title,Genre.name \n",
    "              from Track\n",
    "                  join Artist join Album join Genre on \n",
    "                       Track.album_id = Album.id\n",
    "                       and\n",
    "                       Track.genre_id = Genre.id\n",
    "                       and \n",
    "                       Album.artist_id = Artist.id\n",
    "              \"\"\")"
   ]
  },
  {
   "cell_type": "code",
   "execution_count": null,
   "metadata": {},
   "outputs": [],
   "source": []
  }
 ],
 "metadata": {
  "kernelspec": {
   "display_name": "Python 3",
   "language": "python",
   "name": "python3"
  },
  "language_info": {
   "codemirror_mode": {
    "name": "ipython",
    "version": 3
   },
   "file_extension": ".py",
   "mimetype": "text/x-python",
   "name": "python",
   "nbconvert_exporter": "python",
   "pygments_lexer": "ipython3",
   "version": "3.6.8"
  }
 },
 "nbformat": 4,
 "nbformat_minor": 2
}
